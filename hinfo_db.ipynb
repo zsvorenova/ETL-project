{
 "cells": [
  {
   "cell_type": "code",
   "execution_count": 33,
   "metadata": {},
   "outputs": [],
   "source": [
    "import pandas as pd\n",
    "from sqlalchemy import create_engine\n",
    "import config as creds\n",
    "import sqlalchemy as sqlalchemy_package"
   ]
  },
  {
   "cell_type": "markdown",
   "metadata": {},
   "source": [
    "### HGI Info"
   ]
  },
  {
   "cell_type": "code",
   "execution_count": 2,
   "metadata": {},
   "outputs": [
    {
     "data": {
      "text/html": [
       "<div>\n",
       "<style scoped>\n",
       "    .dataframe tbody tr th:only-of-type {\n",
       "        vertical-align: middle;\n",
       "    }\n",
       "\n",
       "    .dataframe tbody tr th {\n",
       "        vertical-align: top;\n",
       "    }\n",
       "\n",
       "    .dataframe thead th {\n",
       "        text-align: right;\n",
       "    }\n",
       "</style>\n",
       "<table border=\"1\" class=\"dataframe\">\n",
       "  <thead>\n",
       "    <tr style=\"text-align: right;\">\n",
       "      <th></th>\n",
       "      <th>Facility ID</th>\n",
       "      <th>Facility Name</th>\n",
       "      <th>Address</th>\n",
       "      <th>City</th>\n",
       "      <th>State</th>\n",
       "      <th>ZIP Code</th>\n",
       "      <th>County Name</th>\n",
       "      <th>Phone Number</th>\n",
       "      <th>Hospital Type</th>\n",
       "      <th>Hospital Ownership</th>\n",
       "      <th>...</th>\n",
       "      <th>Readmission national comparison footnote</th>\n",
       "      <th>Patient experience national comparison</th>\n",
       "      <th>Patient experience national comparison footnote</th>\n",
       "      <th>Effectiveness of care national comparison</th>\n",
       "      <th>Effectiveness of care national comparison footnote</th>\n",
       "      <th>Timeliness of care national comparison</th>\n",
       "      <th>Timeliness of care national comparison footnote</th>\n",
       "      <th>Efficient use of medical imaging national comparison</th>\n",
       "      <th>Efficient use of medical imaging national comparison footnote</th>\n",
       "      <th>Location</th>\n",
       "    </tr>\n",
       "  </thead>\n",
       "  <tbody>\n",
       "    <tr>\n",
       "      <th>0</th>\n",
       "      <td>044022</td>\n",
       "      <td>CONWAY BEHAVIORAL HEALTH</td>\n",
       "      <td>2255 STURGIS ROAD</td>\n",
       "      <td>CONWAY</td>\n",
       "      <td>AR</td>\n",
       "      <td>72034</td>\n",
       "      <td>FAULKNER</td>\n",
       "      <td>(501) 205-0011</td>\n",
       "      <td>Psychiatric</td>\n",
       "      <td>Proprietary</td>\n",
       "      <td>...</td>\n",
       "      <td>19.0</td>\n",
       "      <td>Not Available</td>\n",
       "      <td>19.0</td>\n",
       "      <td>Not Available</td>\n",
       "      <td>19.0</td>\n",
       "      <td>Not Available</td>\n",
       "      <td>19.0</td>\n",
       "      <td>Not Available</td>\n",
       "      <td>19.0</td>\n",
       "      <td>NaN</td>\n",
       "    </tr>\n",
       "    <tr>\n",
       "      <th>1</th>\n",
       "      <td>054154</td>\n",
       "      <td>SAN JOSE BEHAVIORAL HEALTH</td>\n",
       "      <td>455 SILICON VALLEY BOULEVARD</td>\n",
       "      <td>SAN JOSE</td>\n",
       "      <td>CA</td>\n",
       "      <td>95138</td>\n",
       "      <td>SANTA CLARA</td>\n",
       "      <td>(669) 234-5959</td>\n",
       "      <td>Psychiatric</td>\n",
       "      <td>Proprietary</td>\n",
       "      <td>...</td>\n",
       "      <td>19.0</td>\n",
       "      <td>Not Available</td>\n",
       "      <td>19.0</td>\n",
       "      <td>Not Available</td>\n",
       "      <td>19.0</td>\n",
       "      <td>Not Available</td>\n",
       "      <td>19.0</td>\n",
       "      <td>Not Available</td>\n",
       "      <td>19.0</td>\n",
       "      <td>POINT (-121.77291599999998 37.246742)</td>\n",
       "    </tr>\n",
       "    <tr>\n",
       "      <th>2</th>\n",
       "      <td>141328</td>\n",
       "      <td>HARDIN COUNTY GENERAL HOSPITAL &amp; CLINIC</td>\n",
       "      <td>FERRELL ROAD</td>\n",
       "      <td>ROSICLARE</td>\n",
       "      <td>IL</td>\n",
       "      <td>62982</td>\n",
       "      <td>HARDIN</td>\n",
       "      <td>(618) 285-6634</td>\n",
       "      <td>Critical Access Hospitals</td>\n",
       "      <td>Voluntary non-profit - Private</td>\n",
       "      <td>...</td>\n",
       "      <td>NaN</td>\n",
       "      <td>Not Available</td>\n",
       "      <td>16.0</td>\n",
       "      <td>Not Available</td>\n",
       "      <td>16.0</td>\n",
       "      <td>Not Available</td>\n",
       "      <td>5.0</td>\n",
       "      <td>Not Available</td>\n",
       "      <td>5.0</td>\n",
       "      <td>NaN</td>\n",
       "    </tr>\n",
       "    <tr>\n",
       "      <th>3</th>\n",
       "      <td>194089</td>\n",
       "      <td>GENESIS BEHAVIORAL HOSPITAL</td>\n",
       "      <td>606 LATIOLAIS ROAD</td>\n",
       "      <td>BREAUX BRIDGE</td>\n",
       "      <td>LA</td>\n",
       "      <td>70517</td>\n",
       "      <td>ST. MARTIN</td>\n",
       "      <td>(337) 442-6254</td>\n",
       "      <td>Psychiatric</td>\n",
       "      <td>Proprietary</td>\n",
       "      <td>...</td>\n",
       "      <td>19.0</td>\n",
       "      <td>Not Available</td>\n",
       "      <td>19.0</td>\n",
       "      <td>Not Available</td>\n",
       "      <td>19.0</td>\n",
       "      <td>Not Available</td>\n",
       "      <td>19.0</td>\n",
       "      <td>Not Available</td>\n",
       "      <td>19.0</td>\n",
       "      <td>NaN</td>\n",
       "    </tr>\n",
       "    <tr>\n",
       "      <th>4</th>\n",
       "      <td>194114</td>\n",
       "      <td>RIVER PLACE BEHAVIORAL HEALTH</td>\n",
       "      <td>500 RUE DE SANTE</td>\n",
       "      <td>LA PLACE</td>\n",
       "      <td>LA</td>\n",
       "      <td>70068</td>\n",
       "      <td>ST. JOHN BAPTIST</td>\n",
       "      <td>(985) 444-5100</td>\n",
       "      <td>Psychiatric</td>\n",
       "      <td>Proprietary</td>\n",
       "      <td>...</td>\n",
       "      <td>19.0</td>\n",
       "      <td>Not Available</td>\n",
       "      <td>19.0</td>\n",
       "      <td>Not Available</td>\n",
       "      <td>19.0</td>\n",
       "      <td>Not Available</td>\n",
       "      <td>19.0</td>\n",
       "      <td>Not Available</td>\n",
       "      <td>19.0</td>\n",
       "      <td>POINT (-90.514023 30.071081)</td>\n",
       "    </tr>\n",
       "  </tbody>\n",
       "</table>\n",
       "<p>5 rows × 29 columns</p>\n",
       "</div>"
      ],
      "text/plain": [
       "  Facility ID                            Facility Name  \\\n",
       "0      044022                 CONWAY BEHAVIORAL HEALTH   \n",
       "1      054154               SAN JOSE BEHAVIORAL HEALTH   \n",
       "2      141328  HARDIN COUNTY GENERAL HOSPITAL & CLINIC   \n",
       "3      194089              GENESIS BEHAVIORAL HOSPITAL   \n",
       "4      194114            RIVER PLACE BEHAVIORAL HEALTH   \n",
       "\n",
       "                        Address           City State  ZIP Code  \\\n",
       "0             2255 STURGIS ROAD         CONWAY    AR     72034   \n",
       "1  455 SILICON VALLEY BOULEVARD       SAN JOSE    CA     95138   \n",
       "2                  FERRELL ROAD      ROSICLARE    IL     62982   \n",
       "3            606 LATIOLAIS ROAD  BREAUX BRIDGE    LA     70517   \n",
       "4              500 RUE DE SANTE       LA PLACE    LA     70068   \n",
       "\n",
       "        County Name    Phone Number              Hospital Type  \\\n",
       "0          FAULKNER  (501) 205-0011                Psychiatric   \n",
       "1       SANTA CLARA  (669) 234-5959                Psychiatric   \n",
       "2            HARDIN  (618) 285-6634  Critical Access Hospitals   \n",
       "3        ST. MARTIN  (337) 442-6254                Psychiatric   \n",
       "4  ST. JOHN BAPTIST  (985) 444-5100                Psychiatric   \n",
       "\n",
       "               Hospital Ownership  ...  \\\n",
       "0                     Proprietary  ...   \n",
       "1                     Proprietary  ...   \n",
       "2  Voluntary non-profit - Private  ...   \n",
       "3                     Proprietary  ...   \n",
       "4                     Proprietary  ...   \n",
       "\n",
       "  Readmission national comparison footnote  \\\n",
       "0                                     19.0   \n",
       "1                                     19.0   \n",
       "2                                      NaN   \n",
       "3                                     19.0   \n",
       "4                                     19.0   \n",
       "\n",
       "  Patient experience national comparison  \\\n",
       "0                          Not Available   \n",
       "1                          Not Available   \n",
       "2                          Not Available   \n",
       "3                          Not Available   \n",
       "4                          Not Available   \n",
       "\n",
       "  Patient experience national comparison footnote  \\\n",
       "0                                            19.0   \n",
       "1                                            19.0   \n",
       "2                                            16.0   \n",
       "3                                            19.0   \n",
       "4                                            19.0   \n",
       "\n",
       "   Effectiveness of care national comparison  \\\n",
       "0                              Not Available   \n",
       "1                              Not Available   \n",
       "2                              Not Available   \n",
       "3                              Not Available   \n",
       "4                              Not Available   \n",
       "\n",
       "  Effectiveness of care national comparison footnote  \\\n",
       "0                                               19.0   \n",
       "1                                               19.0   \n",
       "2                                               16.0   \n",
       "3                                               19.0   \n",
       "4                                               19.0   \n",
       "\n",
       "   Timeliness of care national comparison  \\\n",
       "0                           Not Available   \n",
       "1                           Not Available   \n",
       "2                           Not Available   \n",
       "3                           Not Available   \n",
       "4                           Not Available   \n",
       "\n",
       "  Timeliness of care national comparison footnote  \\\n",
       "0                                            19.0   \n",
       "1                                            19.0   \n",
       "2                                             5.0   \n",
       "3                                            19.0   \n",
       "4                                            19.0   \n",
       "\n",
       "   Efficient use of medical imaging national comparison  \\\n",
       "0                                      Not Available      \n",
       "1                                      Not Available      \n",
       "2                                      Not Available      \n",
       "3                                      Not Available      \n",
       "4                                      Not Available      \n",
       "\n",
       "  Efficient use of medical imaging national comparison footnote  \\\n",
       "0                                               19.0              \n",
       "1                                               19.0              \n",
       "2                                                5.0              \n",
       "3                                               19.0              \n",
       "4                                               19.0              \n",
       "\n",
       "                                Location  \n",
       "0                                    NaN  \n",
       "1  POINT (-121.77291599999998 37.246742)  \n",
       "2                                    NaN  \n",
       "3                                    NaN  \n",
       "4           POINT (-90.514023 30.071081)  \n",
       "\n",
       "[5 rows x 29 columns]"
      ]
     },
     "execution_count": 2,
     "metadata": {},
     "output_type": "execute_result"
    }
   ],
   "source": [
    "csv_file = \"Hospital_General_Information.csv\"\n",
    "hinfo_df = pd.read_csv(csv_file)\n",
    "hinfo_df.head()"
   ]
  },
  {
   "cell_type": "code",
   "execution_count": 3,
   "metadata": {},
   "outputs": [
    {
     "data": {
      "text/plain": [
       "['Facility ID',\n",
       " 'Facility Name',\n",
       " 'Address',\n",
       " 'City',\n",
       " 'State',\n",
       " 'ZIP Code',\n",
       " 'County Name',\n",
       " 'Phone Number',\n",
       " 'Hospital Type',\n",
       " 'Hospital Ownership',\n",
       " 'Emergency Services',\n",
       " 'Meets criteria for promoting interoperability of EHRs',\n",
       " 'Hospital overall rating',\n",
       " 'Hospital overall rating footnote',\n",
       " 'Mortality national comparison',\n",
       " 'Mortality national comparison footnote',\n",
       " 'Safety of care national comparison',\n",
       " 'Safety of care national comparison footnote',\n",
       " 'Readmission national comparison',\n",
       " 'Readmission national comparison footnote',\n",
       " 'Patient experience national comparison',\n",
       " 'Patient experience national comparison footnote',\n",
       " 'Effectiveness of care national comparison',\n",
       " 'Effectiveness of care national comparison footnote',\n",
       " 'Timeliness of care national comparison',\n",
       " 'Timeliness of care national comparison footnote',\n",
       " 'Efficient use of medical imaging national comparison',\n",
       " 'Efficient use of medical imaging national comparison footnote',\n",
       " 'Location']"
      ]
     },
     "execution_count": 3,
     "metadata": {},
     "output_type": "execute_result"
    }
   ],
   "source": [
    "list(hinfo_df.columns)"
   ]
  },
  {
   "cell_type": "code",
   "execution_count": 4,
   "metadata": {},
   "outputs": [
    {
     "data": {
      "text/html": [
       "<div>\n",
       "<style scoped>\n",
       "    .dataframe tbody tr th:only-of-type {\n",
       "        vertical-align: middle;\n",
       "    }\n",
       "\n",
       "    .dataframe tbody tr th {\n",
       "        vertical-align: top;\n",
       "    }\n",
       "\n",
       "    .dataframe thead th {\n",
       "        text-align: right;\n",
       "    }\n",
       "</style>\n",
       "<table border=\"1\" class=\"dataframe\">\n",
       "  <thead>\n",
       "    <tr style=\"text-align: right;\">\n",
       "      <th></th>\n",
       "      <th>Facility ID</th>\n",
       "      <th>Facility Name</th>\n",
       "      <th>Address</th>\n",
       "      <th>City</th>\n",
       "      <th>State</th>\n",
       "      <th>ZIP Code</th>\n",
       "      <th>County Name</th>\n",
       "      <th>Phone Number</th>\n",
       "      <th>Hospital Type</th>\n",
       "      <th>Hospital Ownership</th>\n",
       "    </tr>\n",
       "  </thead>\n",
       "  <tbody>\n",
       "    <tr>\n",
       "      <th>0</th>\n",
       "      <td>044022</td>\n",
       "      <td>CONWAY BEHAVIORAL HEALTH</td>\n",
       "      <td>2255 STURGIS ROAD</td>\n",
       "      <td>CONWAY</td>\n",
       "      <td>AR</td>\n",
       "      <td>72034</td>\n",
       "      <td>FAULKNER</td>\n",
       "      <td>(501) 205-0011</td>\n",
       "      <td>Psychiatric</td>\n",
       "      <td>Proprietary</td>\n",
       "    </tr>\n",
       "    <tr>\n",
       "      <th>1</th>\n",
       "      <td>054154</td>\n",
       "      <td>SAN JOSE BEHAVIORAL HEALTH</td>\n",
       "      <td>455 SILICON VALLEY BOULEVARD</td>\n",
       "      <td>SAN JOSE</td>\n",
       "      <td>CA</td>\n",
       "      <td>95138</td>\n",
       "      <td>SANTA CLARA</td>\n",
       "      <td>(669) 234-5959</td>\n",
       "      <td>Psychiatric</td>\n",
       "      <td>Proprietary</td>\n",
       "    </tr>\n",
       "    <tr>\n",
       "      <th>2</th>\n",
       "      <td>141328</td>\n",
       "      <td>HARDIN COUNTY GENERAL HOSPITAL &amp; CLINIC</td>\n",
       "      <td>FERRELL ROAD</td>\n",
       "      <td>ROSICLARE</td>\n",
       "      <td>IL</td>\n",
       "      <td>62982</td>\n",
       "      <td>HARDIN</td>\n",
       "      <td>(618) 285-6634</td>\n",
       "      <td>Critical Access Hospitals</td>\n",
       "      <td>Voluntary non-profit - Private</td>\n",
       "    </tr>\n",
       "    <tr>\n",
       "      <th>3</th>\n",
       "      <td>194089</td>\n",
       "      <td>GENESIS BEHAVIORAL HOSPITAL</td>\n",
       "      <td>606 LATIOLAIS ROAD</td>\n",
       "      <td>BREAUX BRIDGE</td>\n",
       "      <td>LA</td>\n",
       "      <td>70517</td>\n",
       "      <td>ST. MARTIN</td>\n",
       "      <td>(337) 442-6254</td>\n",
       "      <td>Psychiatric</td>\n",
       "      <td>Proprietary</td>\n",
       "    </tr>\n",
       "    <tr>\n",
       "      <th>4</th>\n",
       "      <td>194114</td>\n",
       "      <td>RIVER PLACE BEHAVIORAL HEALTH</td>\n",
       "      <td>500 RUE DE SANTE</td>\n",
       "      <td>LA PLACE</td>\n",
       "      <td>LA</td>\n",
       "      <td>70068</td>\n",
       "      <td>ST. JOHN BAPTIST</td>\n",
       "      <td>(985) 444-5100</td>\n",
       "      <td>Psychiatric</td>\n",
       "      <td>Proprietary</td>\n",
       "    </tr>\n",
       "  </tbody>\n",
       "</table>\n",
       "</div>"
      ],
      "text/plain": [
       "  Facility ID                            Facility Name  \\\n",
       "0      044022                 CONWAY BEHAVIORAL HEALTH   \n",
       "1      054154               SAN JOSE BEHAVIORAL HEALTH   \n",
       "2      141328  HARDIN COUNTY GENERAL HOSPITAL & CLINIC   \n",
       "3      194089              GENESIS BEHAVIORAL HOSPITAL   \n",
       "4      194114            RIVER PLACE BEHAVIORAL HEALTH   \n",
       "\n",
       "                        Address           City State  ZIP Code  \\\n",
       "0             2255 STURGIS ROAD         CONWAY    AR     72034   \n",
       "1  455 SILICON VALLEY BOULEVARD       SAN JOSE    CA     95138   \n",
       "2                  FERRELL ROAD      ROSICLARE    IL     62982   \n",
       "3            606 LATIOLAIS ROAD  BREAUX BRIDGE    LA     70517   \n",
       "4              500 RUE DE SANTE       LA PLACE    LA     70068   \n",
       "\n",
       "        County Name    Phone Number              Hospital Type  \\\n",
       "0          FAULKNER  (501) 205-0011                Psychiatric   \n",
       "1       SANTA CLARA  (669) 234-5959                Psychiatric   \n",
       "2            HARDIN  (618) 285-6634  Critical Access Hospitals   \n",
       "3        ST. MARTIN  (337) 442-6254                Psychiatric   \n",
       "4  ST. JOHN BAPTIST  (985) 444-5100                Psychiatric   \n",
       "\n",
       "               Hospital Ownership  \n",
       "0                     Proprietary  \n",
       "1                     Proprietary  \n",
       "2  Voluntary non-profit - Private  \n",
       "3                     Proprietary  \n",
       "4                     Proprietary  "
      ]
     },
     "execution_count": 4,
     "metadata": {},
     "output_type": "execute_result"
    }
   ],
   "source": [
    "hinfo_df_main = hinfo_df[['Facility ID', 'Facility Name', 'Address', 'City', \n",
    "                          'State', 'ZIP Code', 'County Name','Phone Number',\n",
    "                          'Hospital Type', 'Hospital Ownership']].copy()\n",
    "hinfo_df_main.head()"
   ]
  },
  {
   "cell_type": "code",
   "execution_count": 5,
   "metadata": {},
   "outputs": [
    {
     "data": {
      "text/plain": [
       "['facility_id',\n",
       " 'facility_name',\n",
       " 'Address',\n",
       " 'City',\n",
       " 'State',\n",
       " 'zip_code',\n",
       " 'county_name',\n",
       " 'phone_number',\n",
       " 'hospital_type',\n",
       " 'hospital_ownership']"
      ]
     },
     "execution_count": 5,
     "metadata": {},
     "output_type": "execute_result"
    }
   ],
   "source": [
    "hinfo_df_main.rename(columns={'Facility ID': 'facility_id',\n",
    "                    'Facility Name': 'facility_name',\n",
    "                    'ZIP Code': 'zip_code',\n",
    "                    'County Name': 'county_name',\n",
    "                    'Phone Number': 'phone_number',\n",
    "                    'Hospital Type': 'hospital_type',\n",
    "                    'Hospital Ownership': 'hospital_ownership'}, inplace=True)\n",
    "\n",
    "list(hinfo_df_main.columns)"
   ]
  },
  {
   "cell_type": "code",
   "execution_count": 6,
   "metadata": {},
   "outputs": [
    {
     "data": {
      "text/plain": [
       "False"
      ]
     },
     "execution_count": 6,
     "metadata": {},
     "output_type": "execute_result"
    }
   ],
   "source": [
    "hinfo_df_main['facility_id'].isnull().values.any()"
   ]
  },
  {
   "cell_type": "code",
   "execution_count": 7,
   "metadata": {},
   "outputs": [
    {
     "data": {
      "text/plain": [
       "False"
      ]
     },
     "execution_count": 7,
     "metadata": {},
     "output_type": "execute_result"
    }
   ],
   "source": [
    "hinfo_df_main['facility_name'].isnull().values.any()"
   ]
  },
  {
   "cell_type": "code",
   "execution_count": 8,
   "metadata": {},
   "outputs": [
    {
     "data": {
      "text/plain": [
       "False"
      ]
     },
     "execution_count": 8,
     "metadata": {},
     "output_type": "execute_result"
    }
   ],
   "source": [
    "hinfo_df_main['Address'].isnull().values.any()"
   ]
  },
  {
   "cell_type": "code",
   "execution_count": 9,
   "metadata": {},
   "outputs": [
    {
     "data": {
      "text/plain": [
       "False"
      ]
     },
     "execution_count": 9,
     "metadata": {},
     "output_type": "execute_result"
    }
   ],
   "source": [
    "hinfo_df_main['City'].isnull().values.any()"
   ]
  },
  {
   "cell_type": "code",
   "execution_count": 10,
   "metadata": {},
   "outputs": [
    {
     "data": {
      "text/plain": [
       "False"
      ]
     },
     "execution_count": 10,
     "metadata": {},
     "output_type": "execute_result"
    }
   ],
   "source": [
    "hinfo_df_main['State'].isnull().values.any()"
   ]
  },
  {
   "cell_type": "code",
   "execution_count": 11,
   "metadata": {},
   "outputs": [
    {
     "data": {
      "text/plain": [
       "False"
      ]
     },
     "execution_count": 11,
     "metadata": {},
     "output_type": "execute_result"
    }
   ],
   "source": [
    "hinfo_df_main['zip_code'].isnull().values.any()"
   ]
  },
  {
   "cell_type": "code",
   "execution_count": 12,
   "metadata": {},
   "outputs": [
    {
     "data": {
      "text/plain": [
       "False"
      ]
     },
     "execution_count": 12,
     "metadata": {},
     "output_type": "execute_result"
    }
   ],
   "source": [
    "hinfo_df_main['county_name'].isnull().values.any()"
   ]
  },
  {
   "cell_type": "code",
   "execution_count": 13,
   "metadata": {},
   "outputs": [
    {
     "data": {
      "text/plain": [
       "False"
      ]
     },
     "execution_count": 13,
     "metadata": {},
     "output_type": "execute_result"
    }
   ],
   "source": [
    "hinfo_df_main['phone_number'].isnull().values.any()"
   ]
  },
  {
   "cell_type": "code",
   "execution_count": 14,
   "metadata": {},
   "outputs": [
    {
     "data": {
      "text/plain": [
       "False"
      ]
     },
     "execution_count": 14,
     "metadata": {},
     "output_type": "execute_result"
    }
   ],
   "source": [
    "hinfo_df_main['hospital_type'].isnull().values.any()"
   ]
  },
  {
   "cell_type": "code",
   "execution_count": 15,
   "metadata": {},
   "outputs": [
    {
     "data": {
      "text/plain": [
       "False"
      ]
     },
     "execution_count": 15,
     "metadata": {},
     "output_type": "execute_result"
    }
   ],
   "source": [
    "hinfo_df_main['hospital_ownership'].isnull().values.any()"
   ]
  },
  {
   "cell_type": "code",
   "execution_count": 16,
   "metadata": {},
   "outputs": [],
   "source": [
    "hinfo_df_main['facility_name'] = hinfo_df_main['facility_name'].str.upper()\n",
    "hinfo_df_main['hospital_type'] = hinfo_df_main['hospital_type'].str.upper()\n",
    "hinfo_df_main['hospital_ownership'] = hinfo_df_main['hospital_ownership'].str.upper()"
   ]
  },
  {
   "cell_type": "code",
   "execution_count": 17,
   "metadata": {},
   "outputs": [
    {
     "data": {
      "text/html": [
       "<div>\n",
       "<style scoped>\n",
       "    .dataframe tbody tr th:only-of-type {\n",
       "        vertical-align: middle;\n",
       "    }\n",
       "\n",
       "    .dataframe tbody tr th {\n",
       "        vertical-align: top;\n",
       "    }\n",
       "\n",
       "    .dataframe thead th {\n",
       "        text-align: right;\n",
       "    }\n",
       "</style>\n",
       "<table border=\"1\" class=\"dataframe\">\n",
       "  <thead>\n",
       "    <tr style=\"text-align: right;\">\n",
       "      <th></th>\n",
       "      <th>facility_id</th>\n",
       "      <th>facility_name</th>\n",
       "      <th>Address</th>\n",
       "      <th>City</th>\n",
       "      <th>State</th>\n",
       "      <th>zip_code</th>\n",
       "      <th>county_name</th>\n",
       "      <th>phone_number</th>\n",
       "      <th>hospital_type</th>\n",
       "      <th>hospital_ownership</th>\n",
       "    </tr>\n",
       "  </thead>\n",
       "  <tbody>\n",
       "    <tr>\n",
       "      <th>5044</th>\n",
       "      <td>49005F</td>\n",
       "      <td>1ST MEDICAL GROUP (LANGLEY AFB)</td>\n",
       "      <td>633 MDG 77 Nealy Ave</td>\n",
       "      <td>Langley</td>\n",
       "      <td>VA</td>\n",
       "      <td>23665</td>\n",
       "      <td>HAMPTON CITY</td>\n",
       "      <td>(757) 225-7630</td>\n",
       "      <td>ACUTE CARE - DEPARTMENT OF DEFENSE</td>\n",
       "      <td>DEPARTMENT OF DEFENSE</td>\n",
       "    </tr>\n",
       "    <tr>\n",
       "      <th>368</th>\n",
       "      <td>05015F</td>\n",
       "      <td>60TH MEDICAL GROUP (TRAVIS AFB)</td>\n",
       "      <td>103 Bodin Circle</td>\n",
       "      <td>Fairfield</td>\n",
       "      <td>CA</td>\n",
       "      <td>94533</td>\n",
       "      <td>SOLANO</td>\n",
       "      <td>(707) 423-7300</td>\n",
       "      <td>ACUTE CARE - DEPARTMENT OF DEFENSE</td>\n",
       "      <td>DEPARTMENT OF DEFENSE</td>\n",
       "    </tr>\n",
       "    <tr>\n",
       "      <th>2366</th>\n",
       "      <td>02013F</td>\n",
       "      <td>673RD MEDICAL GROUP (JOINT BASE ELMENDORF-RICH...</td>\n",
       "      <td>673 MDG 5955 Zeamer Ave</td>\n",
       "      <td>JBER</td>\n",
       "      <td>AK</td>\n",
       "      <td>99506</td>\n",
       "      <td>ANCHORAGE</td>\n",
       "      <td>(907) 384-1110</td>\n",
       "      <td>ACUTE CARE - DEPARTMENT OF DEFENSE</td>\n",
       "      <td>DEPARTMENT OF DEFENSE</td>\n",
       "    </tr>\n",
       "    <tr>\n",
       "      <th>229</th>\n",
       "      <td>25039F</td>\n",
       "      <td>81ST MEDICAL GROUP (KEESLER AFB)</td>\n",
       "      <td>81 MDG 301 Fisher St. Suite 109</td>\n",
       "      <td>Biloxi</td>\n",
       "      <td>MS</td>\n",
       "      <td>39530</td>\n",
       "      <td>HARRISON</td>\n",
       "      <td>(228) 377-6393</td>\n",
       "      <td>ACUTE CARE - DEPARTMENT OF DEFENSE</td>\n",
       "      <td>DEPARTMENT OF DEFENSE</td>\n",
       "    </tr>\n",
       "    <tr>\n",
       "      <th>4242</th>\n",
       "      <td>36006F</td>\n",
       "      <td>88TH MEDICAL GROUP (WRIGHT-PATTERSON AFB)</td>\n",
       "      <td>88 MDG 4881 Sugar Maple Dr.</td>\n",
       "      <td>Wright-Patterson AFB</td>\n",
       "      <td>OH</td>\n",
       "      <td>45433</td>\n",
       "      <td>GREENE</td>\n",
       "      <td>(937) 257-9926</td>\n",
       "      <td>ACUTE CARE - DEPARTMENT OF DEFENSE</td>\n",
       "      <td>DEPARTMENT OF DEFENSE</td>\n",
       "    </tr>\n",
       "  </tbody>\n",
       "</table>\n",
       "</div>"
      ],
      "text/plain": [
       "     facility_id                                      facility_name  \\\n",
       "5044      49005F                    1ST MEDICAL GROUP (LANGLEY AFB)   \n",
       "368       05015F                    60TH MEDICAL GROUP (TRAVIS AFB)   \n",
       "2366      02013F  673RD MEDICAL GROUP (JOINT BASE ELMENDORF-RICH...   \n",
       "229       25039F                   81ST MEDICAL GROUP (KEESLER AFB)   \n",
       "4242      36006F          88TH MEDICAL GROUP (WRIGHT-PATTERSON AFB)   \n",
       "\n",
       "                              Address                  City State  zip_code  \\\n",
       "5044             633 MDG 77 Nealy Ave               Langley    VA     23665   \n",
       "368                  103 Bodin Circle             Fairfield    CA     94533   \n",
       "2366          673 MDG 5955 Zeamer Ave                  JBER    AK     99506   \n",
       "229   81 MDG 301 Fisher St. Suite 109                Biloxi    MS     39530   \n",
       "4242      88 MDG 4881 Sugar Maple Dr.  Wright-Patterson AFB    OH     45433   \n",
       "\n",
       "       county_name    phone_number                       hospital_type  \\\n",
       "5044  HAMPTON CITY  (757) 225-7630  ACUTE CARE - DEPARTMENT OF DEFENSE   \n",
       "368         SOLANO  (707) 423-7300  ACUTE CARE - DEPARTMENT OF DEFENSE   \n",
       "2366     ANCHORAGE  (907) 384-1110  ACUTE CARE - DEPARTMENT OF DEFENSE   \n",
       "229       HARRISON  (228) 377-6393  ACUTE CARE - DEPARTMENT OF DEFENSE   \n",
       "4242        GREENE  (937) 257-9926  ACUTE CARE - DEPARTMENT OF DEFENSE   \n",
       "\n",
       "         hospital_ownership  \n",
       "5044  DEPARTMENT OF DEFENSE  \n",
       "368   DEPARTMENT OF DEFENSE  \n",
       "2366  DEPARTMENT OF DEFENSE  \n",
       "229   DEPARTMENT OF DEFENSE  \n",
       "4242  DEPARTMENT OF DEFENSE  "
      ]
     },
     "execution_count": 17,
     "metadata": {},
     "output_type": "execute_result"
    }
   ],
   "source": [
    "hinfo_df_main.sort_values('facility_name', ascending=True, inplace=True)\n",
    "hinfo_df_main.head()"
   ]
  },
  {
   "cell_type": "code",
   "execution_count": 18,
   "metadata": {},
   "outputs": [
    {
     "data": {
      "text/html": [
       "<div>\n",
       "<style scoped>\n",
       "    .dataframe tbody tr th:only-of-type {\n",
       "        vertical-align: middle;\n",
       "    }\n",
       "\n",
       "    .dataframe tbody tr th {\n",
       "        vertical-align: top;\n",
       "    }\n",
       "\n",
       "    .dataframe thead th {\n",
       "        text-align: right;\n",
       "    }\n",
       "</style>\n",
       "<table border=\"1\" class=\"dataframe\">\n",
       "  <thead>\n",
       "    <tr style=\"text-align: right;\">\n",
       "      <th></th>\n",
       "      <th>facility_id</th>\n",
       "      <th>facility_name</th>\n",
       "      <th>Address</th>\n",
       "      <th>City</th>\n",
       "      <th>State</th>\n",
       "      <th>zip_code</th>\n",
       "      <th>county_name</th>\n",
       "      <th>phone_number</th>\n",
       "      <th>hospital_type</th>\n",
       "      <th>hospital_ownership</th>\n",
       "    </tr>\n",
       "  </thead>\n",
       "  <tbody>\n",
       "    <tr>\n",
       "      <th>368</th>\n",
       "      <td>05015F</td>\n",
       "      <td>60TH MEDICAL GROUP (TRAVIS AFB)</td>\n",
       "      <td>103 Bodin Circle</td>\n",
       "      <td>Fairfield</td>\n",
       "      <td>CA</td>\n",
       "      <td>94533</td>\n",
       "      <td>SOLANO</td>\n",
       "      <td>(707) 423-7300</td>\n",
       "      <td>ACUTE CARE - DEPARTMENT OF DEFENSE</td>\n",
       "      <td>DEPARTMENT OF DEFENSE</td>\n",
       "    </tr>\n",
       "    <tr>\n",
       "      <th>2323</th>\n",
       "      <td>050133</td>\n",
       "      <td>ADVENTIST HEALTH AND RIDEOUT</td>\n",
       "      <td>726 4TH ST</td>\n",
       "      <td>MARYSVILLE</td>\n",
       "      <td>CA</td>\n",
       "      <td>95901</td>\n",
       "      <td>YUBA</td>\n",
       "      <td>(530) 749-4300</td>\n",
       "      <td>ACUTE CARE HOSPITALS</td>\n",
       "      <td>GOVERNMENT - FEDERAL</td>\n",
       "    </tr>\n",
       "    <tr>\n",
       "      <th>1654</th>\n",
       "      <td>050455</td>\n",
       "      <td>ADVENTIST HEALTH BAKERSFIELD</td>\n",
       "      <td>2615 CHESTER AVENUE</td>\n",
       "      <td>BAKERSFIELD</td>\n",
       "      <td>CA</td>\n",
       "      <td>93301</td>\n",
       "      <td>KERN</td>\n",
       "      <td>(661) 395-3000</td>\n",
       "      <td>ACUTE CARE HOSPITALS</td>\n",
       "      <td>VOLUNTARY NON-PROFIT - PRIVATE</td>\n",
       "    </tr>\n",
       "    <tr>\n",
       "      <th>4124</th>\n",
       "      <td>051317</td>\n",
       "      <td>ADVENTIST HEALTH CLEARLAKE</td>\n",
       "      <td>15630 18TH AVE - HWY 53</td>\n",
       "      <td>CLEARLAKE</td>\n",
       "      <td>CA</td>\n",
       "      <td>95422</td>\n",
       "      <td>LAKE</td>\n",
       "      <td>(707) 994-6486</td>\n",
       "      <td>CRITICAL ACCESS HOSPITALS</td>\n",
       "      <td>VOLUNTARY NON-PROFIT - PRIVATE</td>\n",
       "    </tr>\n",
       "    <tr>\n",
       "      <th>1915</th>\n",
       "      <td>050225</td>\n",
       "      <td>ADVENTIST HEALTH FEATHER RIVER</td>\n",
       "      <td>5974 PENTZ ROAD</td>\n",
       "      <td>PARADISE</td>\n",
       "      <td>CA</td>\n",
       "      <td>95969</td>\n",
       "      <td>BUTTE</td>\n",
       "      <td>(530) 877-9361</td>\n",
       "      <td>ACUTE CARE HOSPITALS</td>\n",
       "      <td>VOLUNTARY NON-PROFIT - CHURCH</td>\n",
       "    </tr>\n",
       "  </tbody>\n",
       "</table>\n",
       "</div>"
      ],
      "text/plain": [
       "     facility_id                    facility_name                  Address  \\\n",
       "368       05015F  60TH MEDICAL GROUP (TRAVIS AFB)         103 Bodin Circle   \n",
       "2323      050133     ADVENTIST HEALTH AND RIDEOUT               726 4TH ST   \n",
       "1654      050455     ADVENTIST HEALTH BAKERSFIELD      2615 CHESTER AVENUE   \n",
       "4124      051317       ADVENTIST HEALTH CLEARLAKE  15630 18TH AVE - HWY 53   \n",
       "1915      050225   ADVENTIST HEALTH FEATHER RIVER          5974 PENTZ ROAD   \n",
       "\n",
       "             City State  zip_code county_name    phone_number  \\\n",
       "368     Fairfield    CA     94533      SOLANO  (707) 423-7300   \n",
       "2323   MARYSVILLE    CA     95901        YUBA  (530) 749-4300   \n",
       "1654  BAKERSFIELD    CA     93301        KERN  (661) 395-3000   \n",
       "4124    CLEARLAKE    CA     95422        LAKE  (707) 994-6486   \n",
       "1915     PARADISE    CA     95969       BUTTE  (530) 877-9361   \n",
       "\n",
       "                           hospital_type              hospital_ownership  \n",
       "368   ACUTE CARE - DEPARTMENT OF DEFENSE           DEPARTMENT OF DEFENSE  \n",
       "2323                ACUTE CARE HOSPITALS            GOVERNMENT - FEDERAL  \n",
       "1654                ACUTE CARE HOSPITALS  VOLUNTARY NON-PROFIT - PRIVATE  \n",
       "4124           CRITICAL ACCESS HOSPITALS  VOLUNTARY NON-PROFIT - PRIVATE  \n",
       "1915                ACUTE CARE HOSPITALS   VOLUNTARY NON-PROFIT - CHURCH  "
      ]
     },
     "execution_count": 18,
     "metadata": {},
     "output_type": "execute_result"
    }
   ],
   "source": [
    "indexNames = hinfo_df_main[hinfo_df_main['State'] != 'CA' ].index\n",
    "hinfo_df_main.drop(indexNames , inplace=True)\n",
    "hinfo_df_main.head()"
   ]
  },
  {
   "cell_type": "code",
   "execution_count": 19,
   "metadata": {},
   "outputs": [
    {
     "data": {
      "text/plain": [
       "316"
      ]
     },
     "execution_count": 19,
     "metadata": {},
     "output_type": "execute_result"
    }
   ],
   "source": [
    "hinfo_df_main['zip_code'].nunique()"
   ]
  },
  {
   "cell_type": "markdown",
   "metadata": {},
   "source": [
    "## NPI Data"
   ]
  },
  {
   "cell_type": "code",
   "execution_count": 20,
   "metadata": {},
   "outputs": [
    {
     "name": "stderr",
     "output_type": "stream",
     "text": [
      "/Library/Frameworks/Python.framework/Versions/3.8/lib/python3.8/site-packages/IPython/core/interactiveshell.py:3062: DtypeWarning: Columns (7,9) have mixed types.Specify dtype option on import or set low_memory=False.\n",
      "  has_raised = await self.run_ast_nodes(code_ast.body, cell_name,\n"
     ]
    },
    {
     "data": {
      "text/html": [
       "<div>\n",
       "<style scoped>\n",
       "    .dataframe tbody tr th:only-of-type {\n",
       "        vertical-align: middle;\n",
       "    }\n",
       "\n",
       "    .dataframe tbody tr th {\n",
       "        vertical-align: top;\n",
       "    }\n",
       "\n",
       "    .dataframe thead th {\n",
       "        text-align: right;\n",
       "    }\n",
       "</style>\n",
       "<table border=\"1\" class=\"dataframe\">\n",
       "  <thead>\n",
       "    <tr style=\"text-align: right;\">\n",
       "      <th></th>\n",
       "      <th>NPI</th>\n",
       "      <th>Provider Secondary Practice Location Address- Address Line 1</th>\n",
       "      <th>Provider Secondary Practice Location Address-  Address Line 2</th>\n",
       "      <th>Provider Secondary Practice Location Address - City Name</th>\n",
       "      <th>Provider Secondary Practice Location Address - State Name</th>\n",
       "      <th>Provider Secondary Practice Location Address - Postal Code</th>\n",
       "      <th>Provider Secondary Practice Location Address - Country Code (If outside U.S.)</th>\n",
       "      <th>Provider Secondary Practice Location Address - Telephone Number</th>\n",
       "      <th>Provider Secondary Practice Location Address - Telephone Extension</th>\n",
       "      <th>Provider Practice Location Address - Fax Number</th>\n",
       "    </tr>\n",
       "  </thead>\n",
       "  <tbody>\n",
       "    <tr>\n",
       "      <th>0</th>\n",
       "      <td>1124021324</td>\n",
       "      <td>31 S Stanfield Rd Ste 104</td>\n",
       "      <td>NaN</td>\n",
       "      <td>Troy</td>\n",
       "      <td>OH</td>\n",
       "      <td>453732334</td>\n",
       "      <td>US</td>\n",
       "      <td>9376413010</td>\n",
       "      <td>NaN</td>\n",
       "      <td>NaN</td>\n",
       "    </tr>\n",
       "    <tr>\n",
       "      <th>1</th>\n",
       "      <td>1124021324</td>\n",
       "      <td>3333 W Tech Blvd</td>\n",
       "      <td>NaN</td>\n",
       "      <td>Miamisburg</td>\n",
       "      <td>OH</td>\n",
       "      <td>453420817</td>\n",
       "      <td>US</td>\n",
       "      <td>9376413010</td>\n",
       "      <td>NaN</td>\n",
       "      <td>NaN</td>\n",
       "    </tr>\n",
       "    <tr>\n",
       "      <th>2</th>\n",
       "      <td>1063415271</td>\n",
       "      <td>560 Riverside Dr Ste A206</td>\n",
       "      <td>NaN</td>\n",
       "      <td>Salisbury</td>\n",
       "      <td>MD</td>\n",
       "      <td>218014704</td>\n",
       "      <td>US</td>\n",
       "      <td>4109125640</td>\n",
       "      <td>NaN</td>\n",
       "      <td>NaN</td>\n",
       "    </tr>\n",
       "    <tr>\n",
       "      <th>3</th>\n",
       "      <td>1699778894</td>\n",
       "      <td>221 Memorial Dr</td>\n",
       "      <td>NaN</td>\n",
       "      <td>Jacksonville</td>\n",
       "      <td>NC</td>\n",
       "      <td>285466333</td>\n",
       "      <td>US</td>\n",
       "      <td>9104555511</td>\n",
       "      <td>NaN</td>\n",
       "      <td>NaN</td>\n",
       "    </tr>\n",
       "    <tr>\n",
       "      <th>4</th>\n",
       "      <td>1699778894</td>\n",
       "      <td>1960 S 16th St</td>\n",
       "      <td>NaN</td>\n",
       "      <td>Wilmington</td>\n",
       "      <td>NC</td>\n",
       "      <td>284016676</td>\n",
       "      <td>US</td>\n",
       "      <td>9104555511</td>\n",
       "      <td>NaN</td>\n",
       "      <td>NaN</td>\n",
       "    </tr>\n",
       "  </tbody>\n",
       "</table>\n",
       "</div>"
      ],
      "text/plain": [
       "          NPI Provider Secondary Practice Location Address- Address Line 1  \\\n",
       "0  1124021324                          31 S Stanfield Rd Ste 104             \n",
       "1  1124021324                                   3333 W Tech Blvd             \n",
       "2  1063415271                          560 Riverside Dr Ste A206             \n",
       "3  1699778894                                    221 Memorial Dr             \n",
       "4  1699778894                                     1960 S 16th St             \n",
       "\n",
       "  Provider Secondary Practice Location Address-  Address Line 2  \\\n",
       "0                                                NaN              \n",
       "1                                                NaN              \n",
       "2                                                NaN              \n",
       "3                                                NaN              \n",
       "4                                                NaN              \n",
       "\n",
       "  Provider Secondary Practice Location Address - City Name  \\\n",
       "0                                               Troy         \n",
       "1                                         Miamisburg         \n",
       "2                                          Salisbury         \n",
       "3                                       Jacksonville         \n",
       "4                                         Wilmington         \n",
       "\n",
       "  Provider Secondary Practice Location Address - State Name  \\\n",
       "0                                                 OH          \n",
       "1                                                 OH          \n",
       "2                                                 MD          \n",
       "3                                                 NC          \n",
       "4                                                 NC          \n",
       "\n",
       "  Provider Secondary Practice Location Address - Postal Code  \\\n",
       "0                                          453732334           \n",
       "1                                          453420817           \n",
       "2                                          218014704           \n",
       "3                                          285466333           \n",
       "4                                          284016676           \n",
       "\n",
       "  Provider Secondary Practice Location Address - Country Code (If outside U.S.)  \\\n",
       "0                                                 US                              \n",
       "1                                                 US                              \n",
       "2                                                 US                              \n",
       "3                                                 US                              \n",
       "4                                                 US                              \n",
       "\n",
       "  Provider Secondary Practice Location Address - Telephone Number  \\\n",
       "0                                         9376413010                \n",
       "1                                         9376413010                \n",
       "2                                         4109125640                \n",
       "3                                         9104555511                \n",
       "4                                         9104555511                \n",
       "\n",
       "   Provider Secondary Practice Location Address - Telephone Extension  \\\n",
       "0                                                NaN                    \n",
       "1                                                NaN                    \n",
       "2                                                NaN                    \n",
       "3                                                NaN                    \n",
       "4                                                NaN                    \n",
       "\n",
       "  Provider Practice Location Address - Fax Number  \n",
       "0                                             NaN  \n",
       "1                                             NaN  \n",
       "2                                             NaN  \n",
       "3                                             NaN  \n",
       "4                                             NaN  "
      ]
     },
     "execution_count": 20,
     "metadata": {},
     "output_type": "execute_result"
    }
   ],
   "source": [
    "csv_file2 = \"NPI_data.csv\"\n",
    "npi = pd.read_csv(csv_file2)\n",
    "npi.head()"
   ]
  },
  {
   "cell_type": "code",
   "execution_count": 21,
   "metadata": {},
   "outputs": [
    {
     "data": {
      "text/plain": [
       "['NPI',\n",
       " 'Provider Secondary Practice Location Address- Address Line 1',\n",
       " 'Provider Secondary Practice Location Address-  Address Line 2',\n",
       " 'Provider Secondary Practice Location Address - City Name',\n",
       " 'Provider Secondary Practice Location Address - State Name',\n",
       " 'Provider Secondary Practice Location Address - Postal Code',\n",
       " 'Provider Secondary Practice Location Address - Country Code (If outside U.S.)',\n",
       " 'Provider Secondary Practice Location Address - Telephone Number',\n",
       " 'Provider Secondary Practice Location Address - Telephone Extension',\n",
       " 'Provider Practice Location Address - Fax Number']"
      ]
     },
     "execution_count": 21,
     "metadata": {},
     "output_type": "execute_result"
    }
   ],
   "source": [
    "list(npi.columns)"
   ]
  },
  {
   "cell_type": "code",
   "execution_count": 22,
   "metadata": {},
   "outputs": [
    {
     "data": {
      "text/html": [
       "<div>\n",
       "<style scoped>\n",
       "    .dataframe tbody tr th:only-of-type {\n",
       "        vertical-align: middle;\n",
       "    }\n",
       "\n",
       "    .dataframe tbody tr th {\n",
       "        vertical-align: top;\n",
       "    }\n",
       "\n",
       "    .dataframe thead th {\n",
       "        text-align: right;\n",
       "    }\n",
       "</style>\n",
       "<table border=\"1\" class=\"dataframe\">\n",
       "  <thead>\n",
       "    <tr style=\"text-align: right;\">\n",
       "      <th></th>\n",
       "      <th>NPI</th>\n",
       "      <th>Provider Secondary Practice Location Address- Address Line 1</th>\n",
       "      <th>Provider Secondary Practice Location Address - City Name</th>\n",
       "      <th>Provider Secondary Practice Location Address - State Name</th>\n",
       "      <th>Provider Secondary Practice Location Address - Postal Code</th>\n",
       "      <th>Provider Secondary Practice Location Address - Telephone Number</th>\n",
       "    </tr>\n",
       "  </thead>\n",
       "  <tbody>\n",
       "    <tr>\n",
       "      <th>0</th>\n",
       "      <td>1124021324</td>\n",
       "      <td>31 S Stanfield Rd Ste 104</td>\n",
       "      <td>Troy</td>\n",
       "      <td>OH</td>\n",
       "      <td>453732334</td>\n",
       "      <td>9376413010</td>\n",
       "    </tr>\n",
       "    <tr>\n",
       "      <th>1</th>\n",
       "      <td>1124021324</td>\n",
       "      <td>3333 W Tech Blvd</td>\n",
       "      <td>Miamisburg</td>\n",
       "      <td>OH</td>\n",
       "      <td>453420817</td>\n",
       "      <td>9376413010</td>\n",
       "    </tr>\n",
       "    <tr>\n",
       "      <th>2</th>\n",
       "      <td>1063415271</td>\n",
       "      <td>560 Riverside Dr Ste A206</td>\n",
       "      <td>Salisbury</td>\n",
       "      <td>MD</td>\n",
       "      <td>218014704</td>\n",
       "      <td>4109125640</td>\n",
       "    </tr>\n",
       "    <tr>\n",
       "      <th>3</th>\n",
       "      <td>1699778894</td>\n",
       "      <td>221 Memorial Dr</td>\n",
       "      <td>Jacksonville</td>\n",
       "      <td>NC</td>\n",
       "      <td>285466333</td>\n",
       "      <td>9104555511</td>\n",
       "    </tr>\n",
       "    <tr>\n",
       "      <th>4</th>\n",
       "      <td>1699778894</td>\n",
       "      <td>1960 S 16th St</td>\n",
       "      <td>Wilmington</td>\n",
       "      <td>NC</td>\n",
       "      <td>284016676</td>\n",
       "      <td>9104555511</td>\n",
       "    </tr>\n",
       "  </tbody>\n",
       "</table>\n",
       "</div>"
      ],
      "text/plain": [
       "          NPI Provider Secondary Practice Location Address- Address Line 1  \\\n",
       "0  1124021324                          31 S Stanfield Rd Ste 104             \n",
       "1  1124021324                                   3333 W Tech Blvd             \n",
       "2  1063415271                          560 Riverside Dr Ste A206             \n",
       "3  1699778894                                    221 Memorial Dr             \n",
       "4  1699778894                                     1960 S 16th St             \n",
       "\n",
       "  Provider Secondary Practice Location Address - City Name  \\\n",
       "0                                               Troy         \n",
       "1                                         Miamisburg         \n",
       "2                                          Salisbury         \n",
       "3                                       Jacksonville         \n",
       "4                                         Wilmington         \n",
       "\n",
       "  Provider Secondary Practice Location Address - State Name  \\\n",
       "0                                                 OH          \n",
       "1                                                 OH          \n",
       "2                                                 MD          \n",
       "3                                                 NC          \n",
       "4                                                 NC          \n",
       "\n",
       "  Provider Secondary Practice Location Address - Postal Code  \\\n",
       "0                                          453732334           \n",
       "1                                          453420817           \n",
       "2                                          218014704           \n",
       "3                                          285466333           \n",
       "4                                          284016676           \n",
       "\n",
       "  Provider Secondary Practice Location Address - Telephone Number  \n",
       "0                                         9376413010               \n",
       "1                                         9376413010               \n",
       "2                                         4109125640               \n",
       "3                                         9104555511               \n",
       "4                                         9104555511               "
      ]
     },
     "execution_count": 22,
     "metadata": {},
     "output_type": "execute_result"
    }
   ],
   "source": [
    "npi_df = npi[['NPI', 'Provider Secondary Practice Location Address- Address Line 1', \n",
    "            'Provider Secondary Practice Location Address - City Name',\n",
    "            'Provider Secondary Practice Location Address - State Name',\n",
    "            'Provider Secondary Practice Location Address - Postal Code',\n",
    "            'Provider Secondary Practice Location Address - Telephone Number',\n",
    "             ]].copy()\n",
    "npi_df.head()"
   ]
  },
  {
   "cell_type": "code",
   "execution_count": 23,
   "metadata": {},
   "outputs": [],
   "source": [
    "npi_df.rename(columns={'Provider Secondary Practice Location Address- Address Line 1':'Address',\n",
    "                       'Provider Secondary Practice Location Address - City Name': 'City',\n",
    "                       'Provider Secondary Practice Location Address - State Name': 'State',\n",
    "                       'Provider Secondary Practice Location Address - Postal Code': 'zip_code',\n",
    "                       'Provider Secondary Practice Location Address - Telephone Number': 'phone_number'\n",
    "                      }, inplace=True)"
   ]
  },
  {
   "cell_type": "code",
   "execution_count": 24,
   "metadata": {},
   "outputs": [],
   "source": [
    "npi_df.drop(columns = ['zip_code', 'phone_number'], inplace = True)"
   ]
  },
  {
   "cell_type": "code",
   "execution_count": 25,
   "metadata": {},
   "outputs": [
    {
     "data": {
      "text/html": [
       "<div>\n",
       "<style scoped>\n",
       "    .dataframe tbody tr th:only-of-type {\n",
       "        vertical-align: middle;\n",
       "    }\n",
       "\n",
       "    .dataframe tbody tr th {\n",
       "        vertical-align: top;\n",
       "    }\n",
       "\n",
       "    .dataframe thead th {\n",
       "        text-align: right;\n",
       "    }\n",
       "</style>\n",
       "<table border=\"1\" class=\"dataframe\">\n",
       "  <thead>\n",
       "    <tr style=\"text-align: right;\">\n",
       "      <th></th>\n",
       "      <th>NPI</th>\n",
       "      <th>Address</th>\n",
       "      <th>City</th>\n",
       "      <th>State</th>\n",
       "    </tr>\n",
       "  </thead>\n",
       "  <tbody>\n",
       "    <tr>\n",
       "      <th>0</th>\n",
       "      <td>1124021324</td>\n",
       "      <td>31 S Stanfield Rd Ste 104</td>\n",
       "      <td>Troy</td>\n",
       "      <td>OH</td>\n",
       "    </tr>\n",
       "    <tr>\n",
       "      <th>1</th>\n",
       "      <td>1124021324</td>\n",
       "      <td>3333 W Tech Blvd</td>\n",
       "      <td>Miamisburg</td>\n",
       "      <td>OH</td>\n",
       "    </tr>\n",
       "    <tr>\n",
       "      <th>2</th>\n",
       "      <td>1063415271</td>\n",
       "      <td>560 Riverside Dr Ste A206</td>\n",
       "      <td>Salisbury</td>\n",
       "      <td>MD</td>\n",
       "    </tr>\n",
       "    <tr>\n",
       "      <th>3</th>\n",
       "      <td>1699778894</td>\n",
       "      <td>221 Memorial Dr</td>\n",
       "      <td>Jacksonville</td>\n",
       "      <td>NC</td>\n",
       "    </tr>\n",
       "    <tr>\n",
       "      <th>4</th>\n",
       "      <td>1699778894</td>\n",
       "      <td>1960 S 16th St</td>\n",
       "      <td>Wilmington</td>\n",
       "      <td>NC</td>\n",
       "    </tr>\n",
       "  </tbody>\n",
       "</table>\n",
       "</div>"
      ],
      "text/plain": [
       "          NPI                    Address          City State\n",
       "0  1124021324  31 S Stanfield Rd Ste 104          Troy    OH\n",
       "1  1124021324           3333 W Tech Blvd    Miamisburg    OH\n",
       "2  1063415271  560 Riverside Dr Ste A206     Salisbury    MD\n",
       "3  1699778894            221 Memorial Dr  Jacksonville    NC\n",
       "4  1699778894             1960 S 16th St    Wilmington    NC"
      ]
     },
     "execution_count": 25,
     "metadata": {},
     "output_type": "execute_result"
    }
   ],
   "source": [
    "npi_df.head()"
   ]
  },
  {
   "cell_type": "code",
   "execution_count": 26,
   "metadata": {},
   "outputs": [
    {
     "data": {
      "text/html": [
       "<div>\n",
       "<style scoped>\n",
       "    .dataframe tbody tr th:only-of-type {\n",
       "        vertical-align: middle;\n",
       "    }\n",
       "\n",
       "    .dataframe tbody tr th {\n",
       "        vertical-align: top;\n",
       "    }\n",
       "\n",
       "    .dataframe thead th {\n",
       "        text-align: right;\n",
       "    }\n",
       "</style>\n",
       "<table border=\"1\" class=\"dataframe\">\n",
       "  <thead>\n",
       "    <tr style=\"text-align: right;\">\n",
       "      <th></th>\n",
       "      <th>NPI</th>\n",
       "      <th>Address</th>\n",
       "      <th>City</th>\n",
       "      <th>State</th>\n",
       "    </tr>\n",
       "  </thead>\n",
       "  <tbody>\n",
       "    <tr>\n",
       "      <th>0</th>\n",
       "      <td>1124021324</td>\n",
       "      <td>31 S STANFIELD RD STE 104</td>\n",
       "      <td>TROY</td>\n",
       "      <td>OH</td>\n",
       "    </tr>\n",
       "    <tr>\n",
       "      <th>1</th>\n",
       "      <td>1124021324</td>\n",
       "      <td>3333 W TECH BLVD</td>\n",
       "      <td>MIAMISBURG</td>\n",
       "      <td>OH</td>\n",
       "    </tr>\n",
       "    <tr>\n",
       "      <th>2</th>\n",
       "      <td>1063415271</td>\n",
       "      <td>560 RIVERSIDE DR STE A206</td>\n",
       "      <td>SALISBURY</td>\n",
       "      <td>MD</td>\n",
       "    </tr>\n",
       "    <tr>\n",
       "      <th>3</th>\n",
       "      <td>1699778894</td>\n",
       "      <td>221 MEMORIAL DR</td>\n",
       "      <td>JACKSONVILLE</td>\n",
       "      <td>NC</td>\n",
       "    </tr>\n",
       "    <tr>\n",
       "      <th>4</th>\n",
       "      <td>1699778894</td>\n",
       "      <td>1960 S 16TH ST</td>\n",
       "      <td>WILMINGTON</td>\n",
       "      <td>NC</td>\n",
       "    </tr>\n",
       "  </tbody>\n",
       "</table>\n",
       "</div>"
      ],
      "text/plain": [
       "          NPI                    Address          City State\n",
       "0  1124021324  31 S STANFIELD RD STE 104          TROY    OH\n",
       "1  1124021324           3333 W TECH BLVD    MIAMISBURG    OH\n",
       "2  1063415271  560 RIVERSIDE DR STE A206     SALISBURY    MD\n",
       "3  1699778894            221 MEMORIAL DR  JACKSONVILLE    NC\n",
       "4  1699778894             1960 S 16TH ST    WILMINGTON    NC"
      ]
     },
     "execution_count": 26,
     "metadata": {},
     "output_type": "execute_result"
    }
   ],
   "source": [
    "npi_df['Address'] = npi_df['Address'].str.upper()\n",
    "npi_df['City'] = npi_df['City'].str.upper()\n",
    "npi_df.head()"
   ]
  },
  {
   "cell_type": "code",
   "execution_count": 27,
   "metadata": {},
   "outputs": [
    {
     "data": {
      "text/plain": [
       "22724"
      ]
     },
     "execution_count": 27,
     "metadata": {},
     "output_type": "execute_result"
    }
   ],
   "source": [
    "indexNames = npi_df[npi_df['State'] != 'CA'].index\n",
    "npi_df.drop(indexNames , inplace=True)\n",
    "npi_df.head()\n",
    "npi_df['Address'].nunique()"
   ]
  },
  {
   "cell_type": "code",
   "execution_count": null,
   "metadata": {},
   "outputs": [],
   "source": []
  },
  {
   "cell_type": "markdown",
   "metadata": {},
   "source": [
    "## Connection to DataBase with psycopg2"
   ]
  },
  {
   "cell_type": "code",
   "execution_count": 34,
   "metadata": {},
   "outputs": [],
   "source": [
    "# Create PostgreSQL database connection using credentials form config.sys\n",
    "database_url = f\"postgres://{creds.PGUSER}:{creds.PGPASSWORD}@{creds.PGHOST}:5432/{creds.PGDATABASE}\"\n",
    "engine = sqlalchemy_package.create_engine(database_url,\n",
    "                connect_args={'options': '-csearch_path={}'.format(creds.DBSCHEMA)})"
   ]
  },
  {
   "cell_type": "code",
   "execution_count": 35,
   "metadata": {},
   "outputs": [
    {
     "data": {
      "text/plain": [
       "['staffing',\n",
       " 'ca_hospitals',\n",
       " 'hospitals_geometry',\n",
       " 'h_info',\n",
       " 'us_hospitals',\n",
       " 'hospitals_beds',\n",
       " 'hospitals_location',\n",
       " 'hospitals_info']"
      ]
     },
     "execution_count": 35,
     "metadata": {},
     "output_type": "execute_result"
    }
   ],
   "source": [
    "engine.table_names()"
   ]
  },
  {
   "cell_type": "markdown",
   "metadata": {},
   "source": [
    "## Check for Names"
   ]
  },
  {
   "cell_type": "code",
   "execution_count": 39,
   "metadata": {},
   "outputs": [],
   "source": [
    "hinfo_df_main.to_sql(name='hospitals_info', con=engine, if_exists='replace', index=False)"
   ]
  },
  {
   "cell_type": "code",
   "execution_count": 37,
   "metadata": {},
   "outputs": [
    {
     "data": {
      "text/html": [
       "<div>\n",
       "<style scoped>\n",
       "    .dataframe tbody tr th:only-of-type {\n",
       "        vertical-align: middle;\n",
       "    }\n",
       "\n",
       "    .dataframe tbody tr th {\n",
       "        vertical-align: top;\n",
       "    }\n",
       "\n",
       "    .dataframe thead th {\n",
       "        text-align: right;\n",
       "    }\n",
       "</style>\n",
       "<table border=\"1\" class=\"dataframe\">\n",
       "  <thead>\n",
       "    <tr style=\"text-align: right;\">\n",
       "      <th></th>\n",
       "      <th>facility_id</th>\n",
       "      <th>facility_name</th>\n",
       "      <th>Address</th>\n",
       "      <th>City</th>\n",
       "      <th>State</th>\n",
       "      <th>zip_code</th>\n",
       "      <th>county_name</th>\n",
       "      <th>phone_number</th>\n",
       "      <th>hospital_type</th>\n",
       "      <th>hospital_ownership</th>\n",
       "    </tr>\n",
       "  </thead>\n",
       "  <tbody>\n",
       "    <tr>\n",
       "      <th>0</th>\n",
       "      <td>05015F</td>\n",
       "      <td>60TH MEDICAL GROUP (TRAVIS AFB)</td>\n",
       "      <td>103 Bodin Circle</td>\n",
       "      <td>Fairfield</td>\n",
       "      <td>CA</td>\n",
       "      <td>94533</td>\n",
       "      <td>SOLANO</td>\n",
       "      <td>(707) 423-7300</td>\n",
       "      <td>ACUTE CARE - DEPARTMENT OF DEFENSE</td>\n",
       "      <td>DEPARTMENT OF DEFENSE</td>\n",
       "    </tr>\n",
       "    <tr>\n",
       "      <th>1</th>\n",
       "      <td>050133</td>\n",
       "      <td>ADVENTIST HEALTH AND RIDEOUT</td>\n",
       "      <td>726 4TH ST</td>\n",
       "      <td>MARYSVILLE</td>\n",
       "      <td>CA</td>\n",
       "      <td>95901</td>\n",
       "      <td>YUBA</td>\n",
       "      <td>(530) 749-4300</td>\n",
       "      <td>ACUTE CARE HOSPITALS</td>\n",
       "      <td>GOVERNMENT - FEDERAL</td>\n",
       "    </tr>\n",
       "    <tr>\n",
       "      <th>2</th>\n",
       "      <td>050455</td>\n",
       "      <td>ADVENTIST HEALTH BAKERSFIELD</td>\n",
       "      <td>2615 CHESTER AVENUE</td>\n",
       "      <td>BAKERSFIELD</td>\n",
       "      <td>CA</td>\n",
       "      <td>93301</td>\n",
       "      <td>KERN</td>\n",
       "      <td>(661) 395-3000</td>\n",
       "      <td>ACUTE CARE HOSPITALS</td>\n",
       "      <td>VOLUNTARY NON-PROFIT - PRIVATE</td>\n",
       "    </tr>\n",
       "    <tr>\n",
       "      <th>3</th>\n",
       "      <td>051317</td>\n",
       "      <td>ADVENTIST HEALTH CLEARLAKE</td>\n",
       "      <td>15630 18TH AVE - HWY 53</td>\n",
       "      <td>CLEARLAKE</td>\n",
       "      <td>CA</td>\n",
       "      <td>95422</td>\n",
       "      <td>LAKE</td>\n",
       "      <td>(707) 994-6486</td>\n",
       "      <td>CRITICAL ACCESS HOSPITALS</td>\n",
       "      <td>VOLUNTARY NON-PROFIT - PRIVATE</td>\n",
       "    </tr>\n",
       "    <tr>\n",
       "      <th>4</th>\n",
       "      <td>050225</td>\n",
       "      <td>ADVENTIST HEALTH FEATHER RIVER</td>\n",
       "      <td>5974 PENTZ ROAD</td>\n",
       "      <td>PARADISE</td>\n",
       "      <td>CA</td>\n",
       "      <td>95969</td>\n",
       "      <td>BUTTE</td>\n",
       "      <td>(530) 877-9361</td>\n",
       "      <td>ACUTE CARE HOSPITALS</td>\n",
       "      <td>VOLUNTARY NON-PROFIT - CHURCH</td>\n",
       "    </tr>\n",
       "  </tbody>\n",
       "</table>\n",
       "</div>"
      ],
      "text/plain": [
       "  facility_id                    facility_name                  Address  \\\n",
       "0      05015F  60TH MEDICAL GROUP (TRAVIS AFB)         103 Bodin Circle   \n",
       "1      050133     ADVENTIST HEALTH AND RIDEOUT               726 4TH ST   \n",
       "2      050455     ADVENTIST HEALTH BAKERSFIELD      2615 CHESTER AVENUE   \n",
       "3      051317       ADVENTIST HEALTH CLEARLAKE  15630 18TH AVE - HWY 53   \n",
       "4      050225   ADVENTIST HEALTH FEATHER RIVER          5974 PENTZ ROAD   \n",
       "\n",
       "          City State  zip_code county_name    phone_number  \\\n",
       "0    Fairfield    CA     94533      SOLANO  (707) 423-7300   \n",
       "1   MARYSVILLE    CA     95901        YUBA  (530) 749-4300   \n",
       "2  BAKERSFIELD    CA     93301        KERN  (661) 395-3000   \n",
       "3    CLEARLAKE    CA     95422        LAKE  (707) 994-6486   \n",
       "4     PARADISE    CA     95969       BUTTE  (530) 877-9361   \n",
       "\n",
       "                        hospital_type              hospital_ownership  \n",
       "0  ACUTE CARE - DEPARTMENT OF DEFENSE           DEPARTMENT OF DEFENSE  \n",
       "1                ACUTE CARE HOSPITALS            GOVERNMENT - FEDERAL  \n",
       "2                ACUTE CARE HOSPITALS  VOLUNTARY NON-PROFIT - PRIVATE  \n",
       "3           CRITICAL ACCESS HOSPITALS  VOLUNTARY NON-PROFIT - PRIVATE  \n",
       "4                ACUTE CARE HOSPITALS   VOLUNTARY NON-PROFIT - CHURCH  "
      ]
     },
     "execution_count": 37,
     "metadata": {},
     "output_type": "execute_result"
    }
   ],
   "source": [
    "pd.read_sql_query('select * from hinfo_db', con=engine).head()"
   ]
  },
  {
   "cell_type": "code",
   "execution_count": null,
   "metadata": {},
   "outputs": [],
   "source": []
  },
  {
   "cell_type": "code",
   "execution_count": null,
   "metadata": {},
   "outputs": [],
   "source": []
  }
 ],
 "metadata": {
  "kernelspec": {
   "display_name": "Python 3",
   "language": "python",
   "name": "python3"
  },
  "language_info": {
   "codemirror_mode": {
    "name": "ipython",
    "version": 3
   },
   "file_extension": ".py",
   "mimetype": "text/x-python",
   "name": "python",
   "nbconvert_exporter": "python",
   "pygments_lexer": "ipython3",
   "version": "3.8.2"
  }
 },
 "nbformat": 4,
 "nbformat_minor": 4
}
