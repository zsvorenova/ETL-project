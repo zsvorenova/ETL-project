{
 "cells": [
  {
   "cell_type": "code",
   "execution_count": 5,
   "metadata": {},
   "outputs": [],
   "source": [
    "import pandas as pd\n",
    "from sqlalchemy import create_engine\n"
   ]
  },
  {
   "cell_type": "code",
   "execution_count": 6,
   "metadata": {},
   "outputs": [
    {
     "data": {
      "text/html": [
       "<div>\n",
       "<style scoped>\n",
       "    .dataframe tbody tr th:only-of-type {\n",
       "        vertical-align: middle;\n",
       "    }\n",
       "\n",
       "    .dataframe tbody tr th {\n",
       "        vertical-align: top;\n",
       "    }\n",
       "\n",
       "    .dataframe thead th {\n",
       "        text-align: right;\n",
       "    }\n",
       "</style>\n",
       "<table border=\"1\" class=\"dataframe\">\n",
       "  <thead>\n",
       "    <tr style=\"text-align: right;\">\n",
       "      <th></th>\n",
       "      <th>Facility ID</th>\n",
       "      <th>Facility Name</th>\n",
       "      <th>Address</th>\n",
       "      <th>City</th>\n",
       "      <th>State</th>\n",
       "      <th>ZIP Code</th>\n",
       "      <th>County Name</th>\n",
       "      <th>Phone Number</th>\n",
       "      <th>Hospital Type</th>\n",
       "      <th>Hospital Ownership</th>\n",
       "      <th>...</th>\n",
       "      <th>Readmission national comparison footnote</th>\n",
       "      <th>Patient experience national comparison</th>\n",
       "      <th>Patient experience national comparison footnote</th>\n",
       "      <th>Effectiveness of care national comparison</th>\n",
       "      <th>Effectiveness of care national comparison footnote</th>\n",
       "      <th>Timeliness of care national comparison</th>\n",
       "      <th>Timeliness of care national comparison footnote</th>\n",
       "      <th>Efficient use of medical imaging national comparison</th>\n",
       "      <th>Efficient use of medical imaging national comparison footnote</th>\n",
       "      <th>Location</th>\n",
       "    </tr>\n",
       "  </thead>\n",
       "  <tbody>\n",
       "    <tr>\n",
       "      <th>0</th>\n",
       "      <td>044022</td>\n",
       "      <td>CONWAY BEHAVIORAL HEALTH</td>\n",
       "      <td>2255 STURGIS ROAD</td>\n",
       "      <td>CONWAY</td>\n",
       "      <td>AR</td>\n",
       "      <td>72034</td>\n",
       "      <td>FAULKNER</td>\n",
       "      <td>(501) 205-0011</td>\n",
       "      <td>Psychiatric</td>\n",
       "      <td>Proprietary</td>\n",
       "      <td>...</td>\n",
       "      <td>19.0</td>\n",
       "      <td>Not Available</td>\n",
       "      <td>19.0</td>\n",
       "      <td>Not Available</td>\n",
       "      <td>19.0</td>\n",
       "      <td>Not Available</td>\n",
       "      <td>19.0</td>\n",
       "      <td>Not Available</td>\n",
       "      <td>19.0</td>\n",
       "      <td>NaN</td>\n",
       "    </tr>\n",
       "    <tr>\n",
       "      <th>1</th>\n",
       "      <td>054154</td>\n",
       "      <td>SAN JOSE BEHAVIORAL HEALTH</td>\n",
       "      <td>455 SILICON VALLEY BOULEVARD</td>\n",
       "      <td>SAN JOSE</td>\n",
       "      <td>CA</td>\n",
       "      <td>95138</td>\n",
       "      <td>SANTA CLARA</td>\n",
       "      <td>(669) 234-5959</td>\n",
       "      <td>Psychiatric</td>\n",
       "      <td>Proprietary</td>\n",
       "      <td>...</td>\n",
       "      <td>19.0</td>\n",
       "      <td>Not Available</td>\n",
       "      <td>19.0</td>\n",
       "      <td>Not Available</td>\n",
       "      <td>19.0</td>\n",
       "      <td>Not Available</td>\n",
       "      <td>19.0</td>\n",
       "      <td>Not Available</td>\n",
       "      <td>19.0</td>\n",
       "      <td>POINT (-121.77291599999998 37.246742)</td>\n",
       "    </tr>\n",
       "    <tr>\n",
       "      <th>2</th>\n",
       "      <td>141328</td>\n",
       "      <td>HARDIN COUNTY GENERAL HOSPITAL &amp; CLINIC</td>\n",
       "      <td>FERRELL ROAD</td>\n",
       "      <td>ROSICLARE</td>\n",
       "      <td>IL</td>\n",
       "      <td>62982</td>\n",
       "      <td>HARDIN</td>\n",
       "      <td>(618) 285-6634</td>\n",
       "      <td>Critical Access Hospitals</td>\n",
       "      <td>Voluntary non-profit - Private</td>\n",
       "      <td>...</td>\n",
       "      <td>NaN</td>\n",
       "      <td>Not Available</td>\n",
       "      <td>16.0</td>\n",
       "      <td>Not Available</td>\n",
       "      <td>16.0</td>\n",
       "      <td>Not Available</td>\n",
       "      <td>5.0</td>\n",
       "      <td>Not Available</td>\n",
       "      <td>5.0</td>\n",
       "      <td>NaN</td>\n",
       "    </tr>\n",
       "    <tr>\n",
       "      <th>3</th>\n",
       "      <td>194089</td>\n",
       "      <td>GENESIS BEHAVIORAL HOSPITAL</td>\n",
       "      <td>606 LATIOLAIS ROAD</td>\n",
       "      <td>BREAUX BRIDGE</td>\n",
       "      <td>LA</td>\n",
       "      <td>70517</td>\n",
       "      <td>ST. MARTIN</td>\n",
       "      <td>(337) 442-6254</td>\n",
       "      <td>Psychiatric</td>\n",
       "      <td>Proprietary</td>\n",
       "      <td>...</td>\n",
       "      <td>19.0</td>\n",
       "      <td>Not Available</td>\n",
       "      <td>19.0</td>\n",
       "      <td>Not Available</td>\n",
       "      <td>19.0</td>\n",
       "      <td>Not Available</td>\n",
       "      <td>19.0</td>\n",
       "      <td>Not Available</td>\n",
       "      <td>19.0</td>\n",
       "      <td>NaN</td>\n",
       "    </tr>\n",
       "    <tr>\n",
       "      <th>4</th>\n",
       "      <td>194114</td>\n",
       "      <td>RIVER PLACE BEHAVIORAL HEALTH</td>\n",
       "      <td>500 RUE DE SANTE</td>\n",
       "      <td>LA PLACE</td>\n",
       "      <td>LA</td>\n",
       "      <td>70068</td>\n",
       "      <td>ST. JOHN BAPTIST</td>\n",
       "      <td>(985) 444-5100</td>\n",
       "      <td>Psychiatric</td>\n",
       "      <td>Proprietary</td>\n",
       "      <td>...</td>\n",
       "      <td>19.0</td>\n",
       "      <td>Not Available</td>\n",
       "      <td>19.0</td>\n",
       "      <td>Not Available</td>\n",
       "      <td>19.0</td>\n",
       "      <td>Not Available</td>\n",
       "      <td>19.0</td>\n",
       "      <td>Not Available</td>\n",
       "      <td>19.0</td>\n",
       "      <td>POINT (-90.514023 30.071081)</td>\n",
       "    </tr>\n",
       "  </tbody>\n",
       "</table>\n",
       "<p>5 rows × 29 columns</p>\n",
       "</div>"
      ],
      "text/plain": [
       "  Facility ID                            Facility Name  \\\n",
       "0      044022                 CONWAY BEHAVIORAL HEALTH   \n",
       "1      054154               SAN JOSE BEHAVIORAL HEALTH   \n",
       "2      141328  HARDIN COUNTY GENERAL HOSPITAL & CLINIC   \n",
       "3      194089              GENESIS BEHAVIORAL HOSPITAL   \n",
       "4      194114            RIVER PLACE BEHAVIORAL HEALTH   \n",
       "\n",
       "                        Address           City State  ZIP Code  \\\n",
       "0             2255 STURGIS ROAD         CONWAY    AR     72034   \n",
       "1  455 SILICON VALLEY BOULEVARD       SAN JOSE    CA     95138   \n",
       "2                  FERRELL ROAD      ROSICLARE    IL     62982   \n",
       "3            606 LATIOLAIS ROAD  BREAUX BRIDGE    LA     70517   \n",
       "4              500 RUE DE SANTE       LA PLACE    LA     70068   \n",
       "\n",
       "        County Name    Phone Number              Hospital Type  \\\n",
       "0          FAULKNER  (501) 205-0011                Psychiatric   \n",
       "1       SANTA CLARA  (669) 234-5959                Psychiatric   \n",
       "2            HARDIN  (618) 285-6634  Critical Access Hospitals   \n",
       "3        ST. MARTIN  (337) 442-6254                Psychiatric   \n",
       "4  ST. JOHN BAPTIST  (985) 444-5100                Psychiatric   \n",
       "\n",
       "               Hospital Ownership  ...  \\\n",
       "0                     Proprietary  ...   \n",
       "1                     Proprietary  ...   \n",
       "2  Voluntary non-profit - Private  ...   \n",
       "3                     Proprietary  ...   \n",
       "4                     Proprietary  ...   \n",
       "\n",
       "  Readmission national comparison footnote  \\\n",
       "0                                     19.0   \n",
       "1                                     19.0   \n",
       "2                                      NaN   \n",
       "3                                     19.0   \n",
       "4                                     19.0   \n",
       "\n",
       "  Patient experience national comparison  \\\n",
       "0                          Not Available   \n",
       "1                          Not Available   \n",
       "2                          Not Available   \n",
       "3                          Not Available   \n",
       "4                          Not Available   \n",
       "\n",
       "  Patient experience national comparison footnote  \\\n",
       "0                                            19.0   \n",
       "1                                            19.0   \n",
       "2                                            16.0   \n",
       "3                                            19.0   \n",
       "4                                            19.0   \n",
       "\n",
       "   Effectiveness of care national comparison  \\\n",
       "0                              Not Available   \n",
       "1                              Not Available   \n",
       "2                              Not Available   \n",
       "3                              Not Available   \n",
       "4                              Not Available   \n",
       "\n",
       "  Effectiveness of care national comparison footnote  \\\n",
       "0                                               19.0   \n",
       "1                                               19.0   \n",
       "2                                               16.0   \n",
       "3                                               19.0   \n",
       "4                                               19.0   \n",
       "\n",
       "   Timeliness of care national comparison  \\\n",
       "0                           Not Available   \n",
       "1                           Not Available   \n",
       "2                           Not Available   \n",
       "3                           Not Available   \n",
       "4                           Not Available   \n",
       "\n",
       "  Timeliness of care national comparison footnote  \\\n",
       "0                                            19.0   \n",
       "1                                            19.0   \n",
       "2                                             5.0   \n",
       "3                                            19.0   \n",
       "4                                            19.0   \n",
       "\n",
       "   Efficient use of medical imaging national comparison  \\\n",
       "0                                      Not Available      \n",
       "1                                      Not Available      \n",
       "2                                      Not Available      \n",
       "3                                      Not Available      \n",
       "4                                      Not Available      \n",
       "\n",
       "  Efficient use of medical imaging national comparison footnote  \\\n",
       "0                                               19.0              \n",
       "1                                               19.0              \n",
       "2                                                5.0              \n",
       "3                                               19.0              \n",
       "4                                               19.0              \n",
       "\n",
       "                                Location  \n",
       "0                                    NaN  \n",
       "1  POINT (-121.77291599999998 37.246742)  \n",
       "2                                    NaN  \n",
       "3                                    NaN  \n",
       "4           POINT (-90.514023 30.071081)  \n",
       "\n",
       "[5 rows x 29 columns]"
      ]
     },
     "execution_count": 6,
     "metadata": {},
     "output_type": "execute_result"
    }
   ],
   "source": [
    "csv_file = \"Hospital_General_Information.csv\"\n",
    "hinfo_df = pd.read_csv(csv_file)\n",
    "hinfo_df.head()"
   ]
  },
  {
   "cell_type": "code",
   "execution_count": 7,
   "metadata": {},
   "outputs": [
    {
     "data": {
      "text/plain": [
       "['Facility ID',\n",
       " 'Facility Name',\n",
       " 'Address',\n",
       " 'City',\n",
       " 'State',\n",
       " 'ZIP Code',\n",
       " 'County Name',\n",
       " 'Phone Number',\n",
       " 'Hospital Type',\n",
       " 'Hospital Ownership',\n",
       " 'Emergency Services',\n",
       " 'Meets criteria for promoting interoperability of EHRs',\n",
       " 'Hospital overall rating',\n",
       " 'Hospital overall rating footnote',\n",
       " 'Mortality national comparison',\n",
       " 'Mortality national comparison footnote',\n",
       " 'Safety of care national comparison',\n",
       " 'Safety of care national comparison footnote',\n",
       " 'Readmission national comparison',\n",
       " 'Readmission national comparison footnote',\n",
       " 'Patient experience national comparison',\n",
       " 'Patient experience national comparison footnote',\n",
       " 'Effectiveness of care national comparison',\n",
       " 'Effectiveness of care national comparison footnote',\n",
       " 'Timeliness of care national comparison',\n",
       " 'Timeliness of care national comparison footnote',\n",
       " 'Efficient use of medical imaging national comparison',\n",
       " 'Efficient use of medical imaging national comparison footnote',\n",
       " 'Location']"
      ]
     },
     "execution_count": 7,
     "metadata": {},
     "output_type": "execute_result"
    }
   ],
   "source": [
    "list(hinfo_df.columns)"
   ]
  },
  {
   "cell_type": "code",
   "execution_count": 8,
   "metadata": {},
   "outputs": [
    {
     "data": {
      "text/html": [
       "<div>\n",
       "<style scoped>\n",
       "    .dataframe tbody tr th:only-of-type {\n",
       "        vertical-align: middle;\n",
       "    }\n",
       "\n",
       "    .dataframe tbody tr th {\n",
       "        vertical-align: top;\n",
       "    }\n",
       "\n",
       "    .dataframe thead th {\n",
       "        text-align: right;\n",
       "    }\n",
       "</style>\n",
       "<table border=\"1\" class=\"dataframe\">\n",
       "  <thead>\n",
       "    <tr style=\"text-align: right;\">\n",
       "      <th></th>\n",
       "      <th>Facility ID</th>\n",
       "      <th>Facility Name</th>\n",
       "      <th>Address</th>\n",
       "      <th>City</th>\n",
       "      <th>State</th>\n",
       "      <th>ZIP Code</th>\n",
       "      <th>County Name</th>\n",
       "      <th>Phone Number</th>\n",
       "      <th>Hospital Type</th>\n",
       "      <th>Hospital Ownership</th>\n",
       "    </tr>\n",
       "  </thead>\n",
       "  <tbody>\n",
       "    <tr>\n",
       "      <th>0</th>\n",
       "      <td>044022</td>\n",
       "      <td>CONWAY BEHAVIORAL HEALTH</td>\n",
       "      <td>2255 STURGIS ROAD</td>\n",
       "      <td>CONWAY</td>\n",
       "      <td>AR</td>\n",
       "      <td>72034</td>\n",
       "      <td>FAULKNER</td>\n",
       "      <td>(501) 205-0011</td>\n",
       "      <td>Psychiatric</td>\n",
       "      <td>Proprietary</td>\n",
       "    </tr>\n",
       "    <tr>\n",
       "      <th>1</th>\n",
       "      <td>054154</td>\n",
       "      <td>SAN JOSE BEHAVIORAL HEALTH</td>\n",
       "      <td>455 SILICON VALLEY BOULEVARD</td>\n",
       "      <td>SAN JOSE</td>\n",
       "      <td>CA</td>\n",
       "      <td>95138</td>\n",
       "      <td>SANTA CLARA</td>\n",
       "      <td>(669) 234-5959</td>\n",
       "      <td>Psychiatric</td>\n",
       "      <td>Proprietary</td>\n",
       "    </tr>\n",
       "    <tr>\n",
       "      <th>2</th>\n",
       "      <td>141328</td>\n",
       "      <td>HARDIN COUNTY GENERAL HOSPITAL &amp; CLINIC</td>\n",
       "      <td>FERRELL ROAD</td>\n",
       "      <td>ROSICLARE</td>\n",
       "      <td>IL</td>\n",
       "      <td>62982</td>\n",
       "      <td>HARDIN</td>\n",
       "      <td>(618) 285-6634</td>\n",
       "      <td>Critical Access Hospitals</td>\n",
       "      <td>Voluntary non-profit - Private</td>\n",
       "    </tr>\n",
       "    <tr>\n",
       "      <th>3</th>\n",
       "      <td>194089</td>\n",
       "      <td>GENESIS BEHAVIORAL HOSPITAL</td>\n",
       "      <td>606 LATIOLAIS ROAD</td>\n",
       "      <td>BREAUX BRIDGE</td>\n",
       "      <td>LA</td>\n",
       "      <td>70517</td>\n",
       "      <td>ST. MARTIN</td>\n",
       "      <td>(337) 442-6254</td>\n",
       "      <td>Psychiatric</td>\n",
       "      <td>Proprietary</td>\n",
       "    </tr>\n",
       "    <tr>\n",
       "      <th>4</th>\n",
       "      <td>194114</td>\n",
       "      <td>RIVER PLACE BEHAVIORAL HEALTH</td>\n",
       "      <td>500 RUE DE SANTE</td>\n",
       "      <td>LA PLACE</td>\n",
       "      <td>LA</td>\n",
       "      <td>70068</td>\n",
       "      <td>ST. JOHN BAPTIST</td>\n",
       "      <td>(985) 444-5100</td>\n",
       "      <td>Psychiatric</td>\n",
       "      <td>Proprietary</td>\n",
       "    </tr>\n",
       "  </tbody>\n",
       "</table>\n",
       "</div>"
      ],
      "text/plain": [
       "  Facility ID                            Facility Name  \\\n",
       "0      044022                 CONWAY BEHAVIORAL HEALTH   \n",
       "1      054154               SAN JOSE BEHAVIORAL HEALTH   \n",
       "2      141328  HARDIN COUNTY GENERAL HOSPITAL & CLINIC   \n",
       "3      194089              GENESIS BEHAVIORAL HOSPITAL   \n",
       "4      194114            RIVER PLACE BEHAVIORAL HEALTH   \n",
       "\n",
       "                        Address           City State  ZIP Code  \\\n",
       "0             2255 STURGIS ROAD         CONWAY    AR     72034   \n",
       "1  455 SILICON VALLEY BOULEVARD       SAN JOSE    CA     95138   \n",
       "2                  FERRELL ROAD      ROSICLARE    IL     62982   \n",
       "3            606 LATIOLAIS ROAD  BREAUX BRIDGE    LA     70517   \n",
       "4              500 RUE DE SANTE       LA PLACE    LA     70068   \n",
       "\n",
       "        County Name    Phone Number              Hospital Type  \\\n",
       "0          FAULKNER  (501) 205-0011                Psychiatric   \n",
       "1       SANTA CLARA  (669) 234-5959                Psychiatric   \n",
       "2            HARDIN  (618) 285-6634  Critical Access Hospitals   \n",
       "3        ST. MARTIN  (337) 442-6254                Psychiatric   \n",
       "4  ST. JOHN BAPTIST  (985) 444-5100                Psychiatric   \n",
       "\n",
       "               Hospital Ownership  \n",
       "0                     Proprietary  \n",
       "1                     Proprietary  \n",
       "2  Voluntary non-profit - Private  \n",
       "3                     Proprietary  \n",
       "4                     Proprietary  "
      ]
     },
     "execution_count": 8,
     "metadata": {},
     "output_type": "execute_result"
    }
   ],
   "source": [
    "hinfo_df_main = hinfo_df[['Facility ID', 'Facility Name', 'Address', 'City', \n",
    "                          'State', 'ZIP Code', 'County Name','Phone Number',\n",
    "                          'Hospital Type', 'Hospital Ownership']].copy()\n",
    "hinfo_df_main.head()"
   ]
  },
  {
   "cell_type": "code",
   "execution_count": 9,
   "metadata": {},
   "outputs": [
    {
     "data": {
      "text/plain": [
       "['facility_id',\n",
       " 'facility_name',\n",
       " 'Address',\n",
       " 'City',\n",
       " 'State',\n",
       " 'zip_code',\n",
       " 'county_name',\n",
       " 'phone_number',\n",
       " 'hospital_type',\n",
       " 'hospital_ownership']"
      ]
     },
     "execution_count": 9,
     "metadata": {},
     "output_type": "execute_result"
    }
   ],
   "source": [
    "hinfo_df_main.rename(columns={'Facility ID': 'facility_id',\n",
    "                    'Facility Name': 'facility_name',\n",
    "                    'ZIP Code': 'zip_code',\n",
    "                    'County Name': 'county_name',\n",
    "                    'Phone Number': 'phone_number',\n",
    "                    'Hospital Type': 'hospital_type',\n",
    "                    'Hospital Ownership': 'hospital_ownership'}, inplace=True)\n",
    "\n",
    "list(hinfo_df_main.columns)"
   ]
  },
  {
   "cell_type": "code",
   "execution_count": 10,
   "metadata": {},
   "outputs": [
    {
     "data": {
      "text/plain": [
       "False"
      ]
     },
     "execution_count": 10,
     "metadata": {},
     "output_type": "execute_result"
    }
   ],
   "source": [
    "hinfo_df_main['facility_id'].isnull().values.any()"
   ]
  },
  {
   "cell_type": "code",
   "execution_count": 11,
   "metadata": {},
   "outputs": [
    {
     "data": {
      "text/plain": [
       "False"
      ]
     },
     "execution_count": 11,
     "metadata": {},
     "output_type": "execute_result"
    }
   ],
   "source": [
    "hinfo_df_main['facility_name'].isnull().values.any()"
   ]
  },
  {
   "cell_type": "code",
   "execution_count": 12,
   "metadata": {},
   "outputs": [
    {
     "data": {
      "text/plain": [
       "False"
      ]
     },
     "execution_count": 12,
     "metadata": {},
     "output_type": "execute_result"
    }
   ],
   "source": [
    "hinfo_df_main['Address'].isnull().values.any()"
   ]
  },
  {
   "cell_type": "code",
   "execution_count": 13,
   "metadata": {},
   "outputs": [
    {
     "data": {
      "text/plain": [
       "False"
      ]
     },
     "execution_count": 13,
     "metadata": {},
     "output_type": "execute_result"
    }
   ],
   "source": [
    "hinfo_df_main['City'].isnull().values.any()"
   ]
  },
  {
   "cell_type": "code",
   "execution_count": 14,
   "metadata": {},
   "outputs": [
    {
     "data": {
      "text/plain": [
       "False"
      ]
     },
     "execution_count": 14,
     "metadata": {},
     "output_type": "execute_result"
    }
   ],
   "source": [
    "hinfo_df_main['State'].isnull().values.any()"
   ]
  },
  {
   "cell_type": "code",
   "execution_count": 15,
   "metadata": {},
   "outputs": [
    {
     "data": {
      "text/plain": [
       "False"
      ]
     },
     "execution_count": 15,
     "metadata": {},
     "output_type": "execute_result"
    }
   ],
   "source": [
    "hinfo_df_main['zip_code'].isnull().values.any()"
   ]
  },
  {
   "cell_type": "code",
   "execution_count": 16,
   "metadata": {},
   "outputs": [
    {
     "data": {
      "text/plain": [
       "False"
      ]
     },
     "execution_count": 16,
     "metadata": {},
     "output_type": "execute_result"
    }
   ],
   "source": [
    "hinfo_df_main['county_name'].isnull().values.any()"
   ]
  },
  {
   "cell_type": "code",
   "execution_count": 17,
   "metadata": {},
   "outputs": [
    {
     "data": {
      "text/plain": [
       "False"
      ]
     },
     "execution_count": 17,
     "metadata": {},
     "output_type": "execute_result"
    }
   ],
   "source": [
    "hinfo_df_main['phone_number'].isnull().values.any()"
   ]
  },
  {
   "cell_type": "code",
   "execution_count": 18,
   "metadata": {},
   "outputs": [
    {
     "data": {
      "text/plain": [
       "False"
      ]
     },
     "execution_count": 18,
     "metadata": {},
     "output_type": "execute_result"
    }
   ],
   "source": [
    "hinfo_df_main['hospital_type'].isnull().values.any()"
   ]
  },
  {
   "cell_type": "code",
   "execution_count": 19,
   "metadata": {},
   "outputs": [
    {
     "data": {
      "text/plain": [
       "False"
      ]
     },
     "execution_count": 19,
     "metadata": {},
     "output_type": "execute_result"
    }
   ],
   "source": [
    "hinfo_df_main['hospital_ownership'].isnull().values.any()"
   ]
  },
  {
   "cell_type": "code",
   "execution_count": 20,
   "metadata": {},
   "outputs": [],
   "source": [
    "hinfo_df_main['facility_name'] = hinfo_df_main['facility_name'].str.upper()\n",
    "hinfo_df_main['hospital_type'] = hinfo_df_main['hospital_type'].str.upper()\n",
    "hinfo_df_main['hospital_ownership'] = hinfo_df_main['hospital_ownership'].str.upper()"
   ]
  },
  {
   "cell_type": "code",
   "execution_count": 27,
   "metadata": {},
   "outputs": [
    {
     "data": {
      "text/html": [
       "<div>\n",
       "<style scoped>\n",
       "    .dataframe tbody tr th:only-of-type {\n",
       "        vertical-align: middle;\n",
       "    }\n",
       "\n",
       "    .dataframe tbody tr th {\n",
       "        vertical-align: top;\n",
       "    }\n",
       "\n",
       "    .dataframe thead th {\n",
       "        text-align: right;\n",
       "    }\n",
       "</style>\n",
       "<table border=\"1\" class=\"dataframe\">\n",
       "  <thead>\n",
       "    <tr style=\"text-align: right;\">\n",
       "      <th></th>\n",
       "      <th>facility_id</th>\n",
       "      <th>facility_name</th>\n",
       "      <th>Address</th>\n",
       "      <th>City</th>\n",
       "      <th>State</th>\n",
       "      <th>zip_code</th>\n",
       "      <th>county_name</th>\n",
       "      <th>phone_number</th>\n",
       "      <th>hospital_type</th>\n",
       "      <th>hospital_ownership</th>\n",
       "    </tr>\n",
       "  </thead>\n",
       "  <tbody>\n",
       "    <tr>\n",
       "      <th>5044</th>\n",
       "      <td>49005F</td>\n",
       "      <td>1ST MEDICAL GROUP (LANGLEY AFB)</td>\n",
       "      <td>633 MDG 77 Nealy Ave</td>\n",
       "      <td>Langley</td>\n",
       "      <td>VA</td>\n",
       "      <td>23665</td>\n",
       "      <td>HAMPTON CITY</td>\n",
       "      <td>(757) 225-7630</td>\n",
       "      <td>ACUTE CARE - DEPARTMENT OF DEFENSE</td>\n",
       "      <td>DEPARTMENT OF DEFENSE</td>\n",
       "    </tr>\n",
       "    <tr>\n",
       "      <th>368</th>\n",
       "      <td>05015F</td>\n",
       "      <td>60TH MEDICAL GROUP (TRAVIS AFB)</td>\n",
       "      <td>103 Bodin Circle</td>\n",
       "      <td>Fairfield</td>\n",
       "      <td>CA</td>\n",
       "      <td>94533</td>\n",
       "      <td>SOLANO</td>\n",
       "      <td>(707) 423-7300</td>\n",
       "      <td>ACUTE CARE - DEPARTMENT OF DEFENSE</td>\n",
       "      <td>DEPARTMENT OF DEFENSE</td>\n",
       "    </tr>\n",
       "    <tr>\n",
       "      <th>2366</th>\n",
       "      <td>02013F</td>\n",
       "      <td>673RD MEDICAL GROUP (JOINT BASE ELMENDORF-RICH...</td>\n",
       "      <td>673 MDG 5955 Zeamer Ave</td>\n",
       "      <td>JBER</td>\n",
       "      <td>AK</td>\n",
       "      <td>99506</td>\n",
       "      <td>ANCHORAGE</td>\n",
       "      <td>(907) 384-1110</td>\n",
       "      <td>ACUTE CARE - DEPARTMENT OF DEFENSE</td>\n",
       "      <td>DEPARTMENT OF DEFENSE</td>\n",
       "    </tr>\n",
       "    <tr>\n",
       "      <th>229</th>\n",
       "      <td>25039F</td>\n",
       "      <td>81ST MEDICAL GROUP (KEESLER AFB)</td>\n",
       "      <td>81 MDG 301 Fisher St. Suite 109</td>\n",
       "      <td>Biloxi</td>\n",
       "      <td>MS</td>\n",
       "      <td>39530</td>\n",
       "      <td>HARRISON</td>\n",
       "      <td>(228) 377-6393</td>\n",
       "      <td>ACUTE CARE - DEPARTMENT OF DEFENSE</td>\n",
       "      <td>DEPARTMENT OF DEFENSE</td>\n",
       "    </tr>\n",
       "    <tr>\n",
       "      <th>4242</th>\n",
       "      <td>36006F</td>\n",
       "      <td>88TH MEDICAL GROUP (WRIGHT-PATTERSON AFB)</td>\n",
       "      <td>88 MDG 4881 Sugar Maple Dr.</td>\n",
       "      <td>Wright-Patterson AFB</td>\n",
       "      <td>OH</td>\n",
       "      <td>45433</td>\n",
       "      <td>GREENE</td>\n",
       "      <td>(937) 257-9926</td>\n",
       "      <td>ACUTE CARE - DEPARTMENT OF DEFENSE</td>\n",
       "      <td>DEPARTMENT OF DEFENSE</td>\n",
       "    </tr>\n",
       "  </tbody>\n",
       "</table>\n",
       "</div>"
      ],
      "text/plain": [
       "     facility_id                                      facility_name  \\\n",
       "5044      49005F                    1ST MEDICAL GROUP (LANGLEY AFB)   \n",
       "368       05015F                    60TH MEDICAL GROUP (TRAVIS AFB)   \n",
       "2366      02013F  673RD MEDICAL GROUP (JOINT BASE ELMENDORF-RICH...   \n",
       "229       25039F                   81ST MEDICAL GROUP (KEESLER AFB)   \n",
       "4242      36006F          88TH MEDICAL GROUP (WRIGHT-PATTERSON AFB)   \n",
       "\n",
       "                              Address                  City State  zip_code  \\\n",
       "5044             633 MDG 77 Nealy Ave               Langley    VA     23665   \n",
       "368                  103 Bodin Circle             Fairfield    CA     94533   \n",
       "2366          673 MDG 5955 Zeamer Ave                  JBER    AK     99506   \n",
       "229   81 MDG 301 Fisher St. Suite 109                Biloxi    MS     39530   \n",
       "4242      88 MDG 4881 Sugar Maple Dr.  Wright-Patterson AFB    OH     45433   \n",
       "\n",
       "       county_name    phone_number                       hospital_type  \\\n",
       "5044  HAMPTON CITY  (757) 225-7630  ACUTE CARE - DEPARTMENT OF DEFENSE   \n",
       "368         SOLANO  (707) 423-7300  ACUTE CARE - DEPARTMENT OF DEFENSE   \n",
       "2366     ANCHORAGE  (907) 384-1110  ACUTE CARE - DEPARTMENT OF DEFENSE   \n",
       "229       HARRISON  (228) 377-6393  ACUTE CARE - DEPARTMENT OF DEFENSE   \n",
       "4242        GREENE  (937) 257-9926  ACUTE CARE - DEPARTMENT OF DEFENSE   \n",
       "\n",
       "         hospital_ownership  \n",
       "5044  DEPARTMENT OF DEFENSE  \n",
       "368   DEPARTMENT OF DEFENSE  \n",
       "2366  DEPARTMENT OF DEFENSE  \n",
       "229   DEPARTMENT OF DEFENSE  \n",
       "4242  DEPARTMENT OF DEFENSE  "
      ]
     },
     "execution_count": 27,
     "metadata": {},
     "output_type": "execute_result"
    }
   ],
   "source": [
    "hinfo_df_main.sort_values('facility_name', ascending=True, inplace=True)\n",
    "hinfo_df_main.head()"
   ]
  },
  {
   "cell_type": "code",
   "execution_count": null,
   "metadata": {},
   "outputs": [],
   "source": []
  },
  {
   "cell_type": "markdown",
   "metadata": {},
   "source": [
    "## Connection to DataBase with psycopg2"
   ]
  },
  {
   "cell_type": "code",
   "execution_count": 28,
   "metadata": {},
   "outputs": [],
   "source": [
    "rds_connection_string = \"postgres:<password>@localhost:5432/customer_db\"\n",
    "engine = create_engine(f'postgresql://{rds_connection_string}')"
   ]
  },
  {
   "cell_type": "code",
   "execution_count": 29,
   "metadata": {},
   "outputs": [
    {
     "data": {
      "text/plain": [
       "['premise', 'county', 'hinfo_db']"
      ]
     },
     "execution_count": 29,
     "metadata": {},
     "output_type": "execute_result"
    }
   ],
   "source": [
    "engine.table_names()"
   ]
  },
  {
   "cell_type": "markdown",
   "metadata": {},
   "source": [
    "## Check for Names"
   ]
  },
  {
   "cell_type": "code",
   "execution_count": 30,
   "metadata": {},
   "outputs": [],
   "source": [
    "hinfo_df_main.to_sql(name='hinfo_db', con=engine, if_exists='replace', index=False)"
   ]
  },
  {
   "cell_type": "code",
   "execution_count": 31,
   "metadata": {},
   "outputs": [
    {
     "data": {
      "text/html": [
       "<div>\n",
       "<style scoped>\n",
       "    .dataframe tbody tr th:only-of-type {\n",
       "        vertical-align: middle;\n",
       "    }\n",
       "\n",
       "    .dataframe tbody tr th {\n",
       "        vertical-align: top;\n",
       "    }\n",
       "\n",
       "    .dataframe thead th {\n",
       "        text-align: right;\n",
       "    }\n",
       "</style>\n",
       "<table border=\"1\" class=\"dataframe\">\n",
       "  <thead>\n",
       "    <tr style=\"text-align: right;\">\n",
       "      <th></th>\n",
       "      <th>facility_id</th>\n",
       "      <th>facility_name</th>\n",
       "      <th>Address</th>\n",
       "      <th>City</th>\n",
       "      <th>State</th>\n",
       "      <th>zip_code</th>\n",
       "      <th>county_name</th>\n",
       "      <th>phone_number</th>\n",
       "      <th>hospital_type</th>\n",
       "      <th>hospital_ownership</th>\n",
       "    </tr>\n",
       "  </thead>\n",
       "  <tbody>\n",
       "    <tr>\n",
       "      <th>0</th>\n",
       "      <td>49005F</td>\n",
       "      <td>1ST MEDICAL GROUP (LANGLEY AFB)</td>\n",
       "      <td>633 MDG 77 Nealy Ave</td>\n",
       "      <td>Langley</td>\n",
       "      <td>VA</td>\n",
       "      <td>23665</td>\n",
       "      <td>HAMPTON CITY</td>\n",
       "      <td>(757) 225-7630</td>\n",
       "      <td>ACUTE CARE - DEPARTMENT OF DEFENSE</td>\n",
       "      <td>DEPARTMENT OF DEFENSE</td>\n",
       "    </tr>\n",
       "    <tr>\n",
       "      <th>1</th>\n",
       "      <td>05015F</td>\n",
       "      <td>60TH MEDICAL GROUP (TRAVIS AFB)</td>\n",
       "      <td>103 Bodin Circle</td>\n",
       "      <td>Fairfield</td>\n",
       "      <td>CA</td>\n",
       "      <td>94533</td>\n",
       "      <td>SOLANO</td>\n",
       "      <td>(707) 423-7300</td>\n",
       "      <td>ACUTE CARE - DEPARTMENT OF DEFENSE</td>\n",
       "      <td>DEPARTMENT OF DEFENSE</td>\n",
       "    </tr>\n",
       "    <tr>\n",
       "      <th>2</th>\n",
       "      <td>02013F</td>\n",
       "      <td>673RD MEDICAL GROUP (JOINT BASE ELMENDORF-RICH...</td>\n",
       "      <td>673 MDG 5955 Zeamer Ave</td>\n",
       "      <td>JBER</td>\n",
       "      <td>AK</td>\n",
       "      <td>99506</td>\n",
       "      <td>ANCHORAGE</td>\n",
       "      <td>(907) 384-1110</td>\n",
       "      <td>ACUTE CARE - DEPARTMENT OF DEFENSE</td>\n",
       "      <td>DEPARTMENT OF DEFENSE</td>\n",
       "    </tr>\n",
       "    <tr>\n",
       "      <th>3</th>\n",
       "      <td>25039F</td>\n",
       "      <td>81ST MEDICAL GROUP (KEESLER AFB)</td>\n",
       "      <td>81 MDG 301 Fisher St. Suite 109</td>\n",
       "      <td>Biloxi</td>\n",
       "      <td>MS</td>\n",
       "      <td>39530</td>\n",
       "      <td>HARRISON</td>\n",
       "      <td>(228) 377-6393</td>\n",
       "      <td>ACUTE CARE - DEPARTMENT OF DEFENSE</td>\n",
       "      <td>DEPARTMENT OF DEFENSE</td>\n",
       "    </tr>\n",
       "    <tr>\n",
       "      <th>4</th>\n",
       "      <td>36006F</td>\n",
       "      <td>88TH MEDICAL GROUP (WRIGHT-PATTERSON AFB)</td>\n",
       "      <td>88 MDG 4881 Sugar Maple Dr.</td>\n",
       "      <td>Wright-Patterson AFB</td>\n",
       "      <td>OH</td>\n",
       "      <td>45433</td>\n",
       "      <td>GREENE</td>\n",
       "      <td>(937) 257-9926</td>\n",
       "      <td>ACUTE CARE - DEPARTMENT OF DEFENSE</td>\n",
       "      <td>DEPARTMENT OF DEFENSE</td>\n",
       "    </tr>\n",
       "  </tbody>\n",
       "</table>\n",
       "</div>"
      ],
      "text/plain": [
       "  facility_id                                      facility_name  \\\n",
       "0      49005F                    1ST MEDICAL GROUP (LANGLEY AFB)   \n",
       "1      05015F                    60TH MEDICAL GROUP (TRAVIS AFB)   \n",
       "2      02013F  673RD MEDICAL GROUP (JOINT BASE ELMENDORF-RICH...   \n",
       "3      25039F                   81ST MEDICAL GROUP (KEESLER AFB)   \n",
       "4      36006F          88TH MEDICAL GROUP (WRIGHT-PATTERSON AFB)   \n",
       "\n",
       "                           Address                  City State  zip_code  \\\n",
       "0             633 MDG 77 Nealy Ave               Langley    VA     23665   \n",
       "1                 103 Bodin Circle             Fairfield    CA     94533   \n",
       "2          673 MDG 5955 Zeamer Ave                  JBER    AK     99506   \n",
       "3  81 MDG 301 Fisher St. Suite 109                Biloxi    MS     39530   \n",
       "4      88 MDG 4881 Sugar Maple Dr.  Wright-Patterson AFB    OH     45433   \n",
       "\n",
       "    county_name    phone_number                       hospital_type  \\\n",
       "0  HAMPTON CITY  (757) 225-7630  ACUTE CARE - DEPARTMENT OF DEFENSE   \n",
       "1        SOLANO  (707) 423-7300  ACUTE CARE - DEPARTMENT OF DEFENSE   \n",
       "2     ANCHORAGE  (907) 384-1110  ACUTE CARE - DEPARTMENT OF DEFENSE   \n",
       "3      HARRISON  (228) 377-6393  ACUTE CARE - DEPARTMENT OF DEFENSE   \n",
       "4        GREENE  (937) 257-9926  ACUTE CARE - DEPARTMENT OF DEFENSE   \n",
       "\n",
       "      hospital_ownership  \n",
       "0  DEPARTMENT OF DEFENSE  \n",
       "1  DEPARTMENT OF DEFENSE  \n",
       "2  DEPARTMENT OF DEFENSE  \n",
       "3  DEPARTMENT OF DEFENSE  \n",
       "4  DEPARTMENT OF DEFENSE  "
      ]
     },
     "execution_count": 31,
     "metadata": {},
     "output_type": "execute_result"
    }
   ],
   "source": [
    "pd.read_sql_query('select * from hinfo_db', con=engine).head()"
   ]
  },
  {
   "cell_type": "code",
   "execution_count": null,
   "metadata": {},
   "outputs": [],
   "source": []
  }
 ],
 "metadata": {
  "kernelspec": {
   "display_name": "Python 3",
   "language": "python",
   "name": "python3"
  },
  "language_info": {
   "codemirror_mode": {
    "name": "ipython",
    "version": 3
   },
   "file_extension": ".py",
   "mimetype": "text/x-python",
   "name": "python",
   "nbconvert_exporter": "python",
   "pygments_lexer": "ipython3",
   "version": "3.7.6"
  }
 },
 "nbformat": 4,
 "nbformat_minor": 4
}
