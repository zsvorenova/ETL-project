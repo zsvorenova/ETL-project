{
 "cells": [
  {
   "cell_type": "markdown",
   "metadata": {},
   "source": [
    "## ETL Project: USA HOSPITALS\n",
    "#### Dependencies and Setup"
   ]
  },
  {
   "cell_type": "code",
   "execution_count": 41,
   "metadata": {},
   "outputs": [],
   "source": [
    "import requests\n",
    "import pandas as pd"
   ]
  },
  {
   "cell_type": "markdown",
   "metadata": {},
   "source": [
    "#### Extracting Data via API interaction \n",
    "* ESRI Dataset: Definitive Healthcare: USA Hospital Beds"
   ]
  },
  {
   "cell_type": "code",
   "execution_count": 8,
   "metadata": {},
   "outputs": [],
   "source": [
    "# Query URL\n",
    "url = f\"https://services7.arcgis.com/LXCny1HyhQCUSueu/arcgis/rest/services/Definitive_Healthcare_USA_Hospital_Beds/FeatureServer/0/query?where=1%3D1&outFields=*&outSR=4326&f=json\""
   ]
  },
  {
   "cell_type": "code",
   "execution_count": 30,
   "metadata": {},
   "outputs": [
    {
     "data": {
      "text/plain": [
       "{'OBJECTID': 2,\n",
       " 'HOSPITAL_NAME': 'Southern Arizona VA Health Care System',\n",
       " 'HOSPITAL_TYPE': 'VA Hospital',\n",
       " 'HQ_ADDRESS': '3601 S 6th Ave',\n",
       " 'HQ_ADDRESS1': None,\n",
       " 'HQ_CITY': 'Tucson',\n",
       " 'HQ_STATE': 'AZ',\n",
       " 'HQ_ZIP_CODE': '85723',\n",
       " 'COUNTY_NAME': 'Pima',\n",
       " 'STATE_NAME': 'Arizona',\n",
       " 'STATE_FIPS': '04',\n",
       " 'CNTY_FIPS': '019',\n",
       " 'FIPS': '04019',\n",
       " 'NUM_LICENSED_BEDS': 295,\n",
       " 'NUM_STAFFED_BEDS': 295,\n",
       " 'NUM_ICU_BEDS': 2,\n",
       " 'ADULT_ICU_BEDS': 2,\n",
       " 'PEDI_ICU_BEDS': None,\n",
       " 'BED_UTILIZATION': None,\n",
       " 'Potential_Increase_In_Bed_Capac': 0,\n",
       " 'AVG_VENTILATOR_USAGE': 2}"
      ]
     },
     "execution_count": 30,
     "metadata": {},
     "output_type": "execute_result"
    }
   ],
   "source": [
    "# Get Hospitals JSON data\n",
    "response = requests.get(url).json()\n",
    "hospitals_data = response['features']\n",
    "hospitals_data[1]['attributes']"
   ]
  },
  {
   "cell_type": "code",
   "execution_count": 61,
   "metadata": {},
   "outputs": [],
   "source": [
    "# Create Lists of Data Dictionaries\n",
    "hospitals = []\n",
    "hospitals_beds = []\n",
    "hospitals_location = []\n",
    "hospitals_geometry = []\n",
    "number = 1\n",
    "for record in hospitals_data:\n",
    "    hospital_id = str(number) + \"-\" + record['attributes']['FIPS']\n",
    "    number += 1\n",
    "    # create hospitals dataset\n",
    "    row = {}\n",
    "    row['Hospital_ID'] = hospital_id\n",
    "    row['Hospital_Name'] = record['attributes']['HOSPITAL_NAME']\n",
    "    hospitals.append(row)\n",
    "    # create hospitals beds dataset\n",
    "    row = {}\n",
    "    row['Hospital_ID'] = hospital_id\n",
    "    row['Licensed_Beds'] = record['attributes']['NUM_LICENSED_BEDS']\n",
    "    row['ICU_Beds'] = record['attributes']['NUM_ICU_BEDS']\n",
    "    row['Ventilator_Usage'] = record['attributes']['AVG_VENTILATOR_USAGE']\n",
    "    hospitals_beds.append(row)\n",
    "    # create hospitals location dataset\n",
    "    row = {}\n",
    "    row['Hospital_ID'] = hospital_id\n",
    "    row['Hospital_Type'] = record['attributes']['HOSPITAL_TYPE']\n",
    "    row['Hospital_HQ_Address'] = record['attributes']['HQ_ADDRESS']\n",
    "    row['Hospital_HQ_City'] = record['attributes']['HQ_CITY']\n",
    "    row['Hospital_HQ_State'] = record['attributes']['HQ_STATE']\n",
    "    row['Hospital_HQ_ZIP_CODE'] = record['attributes']['HQ_ZIP_CODE']\n",
    "    row['State_Name'] = record['attributes']['STATE_NAME']\n",
    "    hospitals_location.append(row)\n",
    "    # create hospitals geometry\n",
    "    row = {}\n",
    "    row['Hospital_ID'] = hospital_id\n",
    "    row['Lat'] = record['geometry']['x']\n",
    "    row['Lng'] = record['geometry']['y']\n",
    "    hospitals_geometry.append(row)    "
   ]
  },
  {
   "cell_type": "code",
   "execution_count": 63,
   "metadata": {},
   "outputs": [
    {
     "data": {
      "text/html": [
       "<div>\n",
       "<style scoped>\n",
       "    .dataframe tbody tr th:only-of-type {\n",
       "        vertical-align: middle;\n",
       "    }\n",
       "\n",
       "    .dataframe tbody tr th {\n",
       "        vertical-align: top;\n",
       "    }\n",
       "\n",
       "    .dataframe thead th {\n",
       "        text-align: right;\n",
       "    }\n",
       "</style>\n",
       "<table border=\"1\" class=\"dataframe\">\n",
       "  <thead>\n",
       "    <tr style=\"text-align: right;\">\n",
       "      <th></th>\n",
       "      <th>Hospital_ID</th>\n",
       "      <th>Hospital_Type</th>\n",
       "      <th>Hospital_HQ_Address</th>\n",
       "      <th>Hospital_HQ_City</th>\n",
       "      <th>Hospital_HQ_State</th>\n",
       "      <th>Hospital_HQ_ZIP_CODE</th>\n",
       "      <th>State_Name</th>\n",
       "    </tr>\n",
       "  </thead>\n",
       "  <tbody>\n",
       "    <tr>\n",
       "      <th>0</th>\n",
       "      <td>1-04013</td>\n",
       "      <td>VA Hospital</td>\n",
       "      <td>650 E Indian School Rd</td>\n",
       "      <td>Phoenix</td>\n",
       "      <td>AZ</td>\n",
       "      <td>85012</td>\n",
       "      <td>Arizona</td>\n",
       "    </tr>\n",
       "    <tr>\n",
       "      <th>1</th>\n",
       "      <td>2-04019</td>\n",
       "      <td>VA Hospital</td>\n",
       "      <td>3601 S 6th Ave</td>\n",
       "      <td>Tucson</td>\n",
       "      <td>AZ</td>\n",
       "      <td>85723</td>\n",
       "      <td>Arizona</td>\n",
       "    </tr>\n",
       "    <tr>\n",
       "      <th>2</th>\n",
       "      <td>3-06019</td>\n",
       "      <td>VA Hospital</td>\n",
       "      <td>2615 E Clinton Ave</td>\n",
       "      <td>Fresno</td>\n",
       "      <td>CA</td>\n",
       "      <td>93703</td>\n",
       "      <td>California</td>\n",
       "    </tr>\n",
       "    <tr>\n",
       "      <th>3</th>\n",
       "      <td>4-09009</td>\n",
       "      <td>VA Hospital</td>\n",
       "      <td>950 Campbell Ave</td>\n",
       "      <td>West Haven</td>\n",
       "      <td>CT</td>\n",
       "      <td>6516</td>\n",
       "      <td>Connecticut</td>\n",
       "    </tr>\n",
       "    <tr>\n",
       "      <th>4</th>\n",
       "      <td>5-10003</td>\n",
       "      <td>VA Hospital</td>\n",
       "      <td>1601 Kirkwood Hwy</td>\n",
       "      <td>Wilmington</td>\n",
       "      <td>DE</td>\n",
       "      <td>19805</td>\n",
       "      <td>Delaware</td>\n",
       "    </tr>\n",
       "  </tbody>\n",
       "</table>\n",
       "</div>"
      ],
      "text/plain": [
       "  Hospital_ID Hospital_Type     Hospital_HQ_Address Hospital_HQ_City  \\\n",
       "0     1-04013   VA Hospital  650 E Indian School Rd          Phoenix   \n",
       "1     2-04019   VA Hospital          3601 S 6th Ave           Tucson   \n",
       "2     3-06019   VA Hospital      2615 E Clinton Ave           Fresno   \n",
       "3     4-09009   VA Hospital        950 Campbell Ave       West Haven   \n",
       "4     5-10003   VA Hospital       1601 Kirkwood Hwy       Wilmington   \n",
       "\n",
       "  Hospital_HQ_State Hospital_HQ_ZIP_CODE   State_Name  \n",
       "0                AZ                85012      Arizona  \n",
       "1                AZ                85723      Arizona  \n",
       "2                CA                93703   California  \n",
       "3                CT                 6516  Connecticut  \n",
       "4                DE                19805     Delaware  "
      ]
     },
     "execution_count": 63,
     "metadata": {},
     "output_type": "execute_result"
    }
   ],
   "source": [
    "hospitals_location_pd = pd.DataFrame(hospitals_location)\n",
    "hospitals_location_pd.head(5)"
   ]
  },
  {
   "cell_type": "code",
   "execution_count": null,
   "metadata": {},
   "outputs": [],
   "source": []
  },
  {
   "cell_type": "code",
   "execution_count": null,
   "metadata": {},
   "outputs": [],
   "source": []
  }
 ],
 "metadata": {
  "kernelspec": {
   "display_name": "Python 3",
   "language": "python",
   "name": "python3"
  },
  "language_info": {
   "codemirror_mode": {
    "name": "ipython",
    "version": 3
   },
   "file_extension": ".py",
   "mimetype": "text/x-python",
   "name": "python",
   "nbconvert_exporter": "python",
   "pygments_lexer": "ipython3",
   "version": "3.8.2"
  }
 },
 "nbformat": 4,
 "nbformat_minor": 4
}
