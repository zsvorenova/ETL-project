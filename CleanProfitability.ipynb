{
 "cells": [
  {
   "cell_type": "code",
   "execution_count": 1,
   "metadata": {},
   "outputs": [],
   "source": [
    "#import pandas as pd\n",
    "import pandas as pd\n",
    "import numpy as np\n",
    "import matplotlib.pyplot as plt\n",
    "from sqlalchemy import create_engine\n",
    "from pandas_profiling import ProfileReport\n",
    "import config as creds\n",
    "import sqlalchemy as sqlalchemy_package"
   ]
  },
  {
   "cell_type": "code",
   "execution_count": 2,
   "metadata": {},
   "outputs": [
    {
     "data": {
      "text/html": [
       "<div>\n",
       "<style scoped>\n",
       "    .dataframe tbody tr th:only-of-type {\n",
       "        vertical-align: middle;\n",
       "    }\n",
       "\n",
       "    .dataframe tbody tr th {\n",
       "        vertical-align: top;\n",
       "    }\n",
       "\n",
       "    .dataframe thead th {\n",
       "        text-align: right;\n",
       "    }\n",
       "</style>\n",
       "<table border=\"1\" class=\"dataframe\">\n",
       "  <thead>\n",
       "    <tr style=\"text-align: right;\">\n",
       "      <th></th>\n",
       "      <th>Year</th>\n",
       "      <th>Facility Number</th>\n",
       "      <th>Facility Name</th>\n",
       "      <th>Begin Date</th>\n",
       "      <th>End Date</th>\n",
       "      <th>County Name</th>\n",
       "      <th>Type of Control</th>\n",
       "      <th>Income Statement Item</th>\n",
       "      <th>Income Statement Amount</th>\n",
       "      <th>Amount per Adjusted Patient Day</th>\n",
       "    </tr>\n",
       "  </thead>\n",
       "  <tbody>\n",
       "    <tr>\n",
       "      <th>0</th>\n",
       "      <td>2009</td>\n",
       "      <td>106010735.0</td>\n",
       "      <td>ALAMEDA HOSPITAL</td>\n",
       "      <td>07/01/2008</td>\n",
       "      <td>06/30/2009</td>\n",
       "      <td>Alameda</td>\n",
       "      <td>District</td>\n",
       "      <td>GR_PT_REV</td>\n",
       "      <td>282813469.0</td>\n",
       "      <td>5220.0</td>\n",
       "    </tr>\n",
       "    <tr>\n",
       "      <th>1</th>\n",
       "      <td>2009</td>\n",
       "      <td>106010735.0</td>\n",
       "      <td>ALAMEDA HOSPITAL</td>\n",
       "      <td>07/01/2008</td>\n",
       "      <td>06/30/2009</td>\n",
       "      <td>Alameda</td>\n",
       "      <td>District</td>\n",
       "      <td>DED_REV_PLUS_DSH</td>\n",
       "      <td>219753983.0</td>\n",
       "      <td>4056.0</td>\n",
       "    </tr>\n",
       "    <tr>\n",
       "      <th>2</th>\n",
       "      <td>2009</td>\n",
       "      <td>106010735.0</td>\n",
       "      <td>ALAMEDA HOSPITAL</td>\n",
       "      <td>07/01/2008</td>\n",
       "      <td>06/30/2009</td>\n",
       "      <td>Alameda</td>\n",
       "      <td>District</td>\n",
       "      <td>TOT_CAP_REV</td>\n",
       "      <td>0.0</td>\n",
       "      <td>0.0</td>\n",
       "    </tr>\n",
       "    <tr>\n",
       "      <th>3</th>\n",
       "      <td>2009</td>\n",
       "      <td>106010735.0</td>\n",
       "      <td>ALAMEDA HOSPITAL</td>\n",
       "      <td>07/01/2008</td>\n",
       "      <td>06/30/2009</td>\n",
       "      <td>Alameda</td>\n",
       "      <td>District</td>\n",
       "      <td>NET_REV_LESS_DSH</td>\n",
       "      <td>63059486.0</td>\n",
       "      <td>1164.0</td>\n",
       "    </tr>\n",
       "    <tr>\n",
       "      <th>4</th>\n",
       "      <td>2009</td>\n",
       "      <td>106010735.0</td>\n",
       "      <td>ALAMEDA HOSPITAL</td>\n",
       "      <td>07/01/2008</td>\n",
       "      <td>06/30/2009</td>\n",
       "      <td>Alameda</td>\n",
       "      <td>District</td>\n",
       "      <td>OTH_OP_REV</td>\n",
       "      <td>192252.0</td>\n",
       "      <td>4.0</td>\n",
       "    </tr>\n",
       "  </tbody>\n",
       "</table>\n",
       "</div>"
      ],
      "text/plain": [
       "   Year  Facility Number     Facility Name  Begin Date    End Date  \\\n",
       "0  2009      106010735.0  ALAMEDA HOSPITAL  07/01/2008  06/30/2009   \n",
       "1  2009      106010735.0  ALAMEDA HOSPITAL  07/01/2008  06/30/2009   \n",
       "2  2009      106010735.0  ALAMEDA HOSPITAL  07/01/2008  06/30/2009   \n",
       "3  2009      106010735.0  ALAMEDA HOSPITAL  07/01/2008  06/30/2009   \n",
       "4  2009      106010735.0  ALAMEDA HOSPITAL  07/01/2008  06/30/2009   \n",
       "\n",
       "  County Name Type of Control Income Statement Item  Income Statement Amount  \\\n",
       "0     Alameda        District             GR_PT_REV              282813469.0   \n",
       "1     Alameda        District      DED_REV_PLUS_DSH              219753983.0   \n",
       "2     Alameda        District           TOT_CAP_REV                      0.0   \n",
       "3     Alameda        District      NET_REV_LESS_DSH               63059486.0   \n",
       "4     Alameda        District            OTH_OP_REV                 192252.0   \n",
       "\n",
       "   Amount per Adjusted Patient Day  \n",
       "0                           5220.0  \n",
       "1                           4056.0  \n",
       "2                              0.0  \n",
       "3                           1164.0  \n",
       "4                              4.0  "
      ]
     },
     "execution_count": 2,
     "metadata": {},
     "output_type": "execute_result"
    }
   ],
   "source": [
    "#files to load\n",
    "\n",
    "hospital_profitability1 = \"Resources/hospital-profitability-2009-2013.csv\"\n",
    "hospital_profitability2= \"Resources/hospital-profitability-2009-2013-2.csv\"\n",
    "\n",
    "profit1= pd.read_csv(hospital_profitability1)\n",
    "profit2=pd.read_csv(hospital_profitability2)\n",
    "\n",
    "profit1.head()\n",
    "#merge or join datasets? they look the exact same have same values and colum names\n",
    "# Combine the data into a single dataset\n",
    "#profitcombo = pd.merge(profit1, profit2, how=\"left\", on=[\"Year\"])\n",
    "#profitcombo.head()\n"
   ]
  },
  {
   "cell_type": "code",
   "execution_count": 3,
   "metadata": {},
   "outputs": [
    {
     "data": {
      "text/html": [
       "<div>\n",
       "<style scoped>\n",
       "    .dataframe tbody tr th:only-of-type {\n",
       "        vertical-align: middle;\n",
       "    }\n",
       "\n",
       "    .dataframe tbody tr th {\n",
       "        vertical-align: top;\n",
       "    }\n",
       "\n",
       "    .dataframe thead th {\n",
       "        text-align: right;\n",
       "    }\n",
       "</style>\n",
       "<table border=\"1\" class=\"dataframe\">\n",
       "  <thead>\n",
       "    <tr style=\"text-align: right;\">\n",
       "      <th></th>\n",
       "      <th>Year</th>\n",
       "      <th>Facility Number</th>\n",
       "      <th>Facility Name</th>\n",
       "      <th>Begin Date</th>\n",
       "      <th>End Date</th>\n",
       "      <th>County Name</th>\n",
       "      <th>Type of Control</th>\n",
       "      <th>Income Statement Item</th>\n",
       "      <th>Income Statement Amount</th>\n",
       "      <th>Amount per Adjusted Patient Day</th>\n",
       "    </tr>\n",
       "  </thead>\n",
       "  <tbody>\n",
       "    <tr>\n",
       "      <th>0</th>\n",
       "      <td>2009</td>\n",
       "      <td>106010735.0</td>\n",
       "      <td>ALAMEDA HOSPITAL</td>\n",
       "      <td>07/01/2008</td>\n",
       "      <td>06/30/2009</td>\n",
       "      <td>Alameda</td>\n",
       "      <td>District</td>\n",
       "      <td>GR_PT_REV</td>\n",
       "      <td>282813469.0</td>\n",
       "      <td>5220.0</td>\n",
       "    </tr>\n",
       "    <tr>\n",
       "      <th>1</th>\n",
       "      <td>2009</td>\n",
       "      <td>106010735.0</td>\n",
       "      <td>ALAMEDA HOSPITAL</td>\n",
       "      <td>07/01/2008</td>\n",
       "      <td>06/30/2009</td>\n",
       "      <td>Alameda</td>\n",
       "      <td>District</td>\n",
       "      <td>DED_REV_PLUS_DSH</td>\n",
       "      <td>219753983.0</td>\n",
       "      <td>4056.0</td>\n",
       "    </tr>\n",
       "    <tr>\n",
       "      <th>2</th>\n",
       "      <td>2009</td>\n",
       "      <td>106010735.0</td>\n",
       "      <td>ALAMEDA HOSPITAL</td>\n",
       "      <td>07/01/2008</td>\n",
       "      <td>06/30/2009</td>\n",
       "      <td>Alameda</td>\n",
       "      <td>District</td>\n",
       "      <td>TOT_CAP_REV</td>\n",
       "      <td>0.0</td>\n",
       "      <td>0.0</td>\n",
       "    </tr>\n",
       "    <tr>\n",
       "      <th>3</th>\n",
       "      <td>2009</td>\n",
       "      <td>106010735.0</td>\n",
       "      <td>ALAMEDA HOSPITAL</td>\n",
       "      <td>07/01/2008</td>\n",
       "      <td>06/30/2009</td>\n",
       "      <td>Alameda</td>\n",
       "      <td>District</td>\n",
       "      <td>NET_REV_LESS_DSH</td>\n",
       "      <td>63059486.0</td>\n",
       "      <td>1164.0</td>\n",
       "    </tr>\n",
       "    <tr>\n",
       "      <th>4</th>\n",
       "      <td>2009</td>\n",
       "      <td>106010735.0</td>\n",
       "      <td>ALAMEDA HOSPITAL</td>\n",
       "      <td>07/01/2008</td>\n",
       "      <td>06/30/2009</td>\n",
       "      <td>Alameda</td>\n",
       "      <td>District</td>\n",
       "      <td>OTH_OP_REV</td>\n",
       "      <td>192252.0</td>\n",
       "      <td>4.0</td>\n",
       "    </tr>\n",
       "  </tbody>\n",
       "</table>\n",
       "</div>"
      ],
      "text/plain": [
       "   Year  Facility Number     Facility Name  Begin Date    End Date  \\\n",
       "0  2009      106010735.0  ALAMEDA HOSPITAL  07/01/2008  06/30/2009   \n",
       "1  2009      106010735.0  ALAMEDA HOSPITAL  07/01/2008  06/30/2009   \n",
       "2  2009      106010735.0  ALAMEDA HOSPITAL  07/01/2008  06/30/2009   \n",
       "3  2009      106010735.0  ALAMEDA HOSPITAL  07/01/2008  06/30/2009   \n",
       "4  2009      106010735.0  ALAMEDA HOSPITAL  07/01/2008  06/30/2009   \n",
       "\n",
       "  County Name Type of Control Income Statement Item  Income Statement Amount  \\\n",
       "0     Alameda        District             GR_PT_REV              282813469.0   \n",
       "1     Alameda        District      DED_REV_PLUS_DSH              219753983.0   \n",
       "2     Alameda        District           TOT_CAP_REV                      0.0   \n",
       "3     Alameda        District      NET_REV_LESS_DSH               63059486.0   \n",
       "4     Alameda        District            OTH_OP_REV                 192252.0   \n",
       "\n",
       "   Amount per Adjusted Patient Day  \n",
       "0                           5220.0  \n",
       "1                           4056.0  \n",
       "2                              0.0  \n",
       "3                           1164.0  \n",
       "4                              4.0  "
      ]
     },
     "execution_count": 3,
     "metadata": {},
     "output_type": "execute_result"
    }
   ],
   "source": [
    "profit2.head()"
   ]
  },
  {
   "cell_type": "code",
   "execution_count": 4,
   "metadata": {},
   "outputs": [
    {
     "name": "stdout",
     "output_type": "stream",
     "text": [
      "columns are same\n",
      "number of different rows in dfs: 0\n"
     ]
    },
    {
     "data": {
      "text/html": [
       "<div>\n",
       "<style scoped>\n",
       "    .dataframe tbody tr th:only-of-type {\n",
       "        vertical-align: middle;\n",
       "    }\n",
       "\n",
       "    .dataframe tbody tr th {\n",
       "        vertical-align: top;\n",
       "    }\n",
       "\n",
       "    .dataframe thead th {\n",
       "        text-align: right;\n",
       "    }\n",
       "</style>\n",
       "<table border=\"1\" class=\"dataframe\">\n",
       "  <thead>\n",
       "    <tr style=\"text-align: right;\">\n",
       "      <th></th>\n",
       "      <th>Year</th>\n",
       "      <th>Facility Number</th>\n",
       "      <th>Facility Name</th>\n",
       "      <th>Begin Date</th>\n",
       "      <th>End Date</th>\n",
       "      <th>County Name</th>\n",
       "      <th>Type of Control</th>\n",
       "      <th>Income Statement Item</th>\n",
       "      <th>Income Statement Amount</th>\n",
       "      <th>Amount per Adjusted Patient Day</th>\n",
       "    </tr>\n",
       "  </thead>\n",
       "  <tbody>\n",
       "  </tbody>\n",
       "</table>\n",
       "</div>"
      ],
      "text/plain": [
       "Empty DataFrame\n",
       "Columns: [Year, Facility Number, Facility Name, Begin Date, End Date, County Name, Type of Control, Income Statement Item, Income Statement Amount, Amount per Adjusted Patient Day]\n",
       "Index: []"
      ]
     },
     "execution_count": 4,
     "metadata": {},
     "output_type": "execute_result"
    }
   ],
   "source": [
    "## 1. Identify if datasets are identical:\n",
    "# resource: https://stackoverflow.com/questions/20225110/comparing-two-dataframes-and-getting-the-differences/52047609#52047609\n",
    "#identify if the columns heading are equal\n",
    "if profit1.columns.all() == profit2.columns.all():\n",
    "    print('columns are same')\n",
    "else:\n",
    "    print('columns differ')\n",
    "#Compare dfs: concat dfs and drop all duplicates to get the df of differences\n",
    "df_diff = pd.concat([profit1,profit2]).drop_duplicates(keep=False)\n",
    "print(f'number of different rows in dfs: {len(df_diff)}')\n",
    "df_diff\n",
    "# DatasestS are identical. Will work with profit1 df. Dropping Profit2 dataset"
   ]
  },
  {
   "cell_type": "code",
   "execution_count": 5,
   "metadata": {},
   "outputs": [
    {
     "name": "stdout",
     "output_type": "stream",
     "text": [
      "Number if duplicated rows in df: 0\n"
     ]
    },
    {
     "data": {
      "text/html": [
       "<div>\n",
       "<style scoped>\n",
       "    .dataframe tbody tr th:only-of-type {\n",
       "        vertical-align: middle;\n",
       "    }\n",
       "\n",
       "    .dataframe tbody tr th {\n",
       "        vertical-align: top;\n",
       "    }\n",
       "\n",
       "    .dataframe thead th {\n",
       "        text-align: right;\n",
       "    }\n",
       "</style>\n",
       "<table border=\"1\" class=\"dataframe\">\n",
       "  <thead>\n",
       "    <tr style=\"text-align: right;\">\n",
       "      <th></th>\n",
       "      <th>Year</th>\n",
       "      <th>Facility Number</th>\n",
       "      <th>Facility Name</th>\n",
       "      <th>Begin Date</th>\n",
       "      <th>End Date</th>\n",
       "      <th>County Name</th>\n",
       "      <th>Type of Control</th>\n",
       "      <th>Income Statement Item</th>\n",
       "      <th>Income Statement Amount</th>\n",
       "      <th>Amount per Adjusted Patient Day</th>\n",
       "    </tr>\n",
       "  </thead>\n",
       "  <tbody>\n",
       "  </tbody>\n",
       "</table>\n",
       "</div>"
      ],
      "text/plain": [
       "Empty DataFrame\n",
       "Columns: [Year, Facility Number, Facility Name, Begin Date, End Date, County Name, Type of Control, Income Statement Item, Income Statement Amount, Amount per Adjusted Patient Day]\n",
       "Index: []"
      ]
     },
     "execution_count": 5,
     "metadata": {},
     "output_type": "execute_result"
    }
   ],
   "source": [
    "## 2. assign value 0 if any duplicates \n",
    "print(f\"Number if duplicated rows in df: {len(profit1[profit1.duplicated(keep='first') == True])}\")\n",
    "\n",
    "profit1[profit1.duplicated(keep='first') == True]"
   ]
  },
  {
   "cell_type": "code",
   "execution_count": 6,
   "metadata": {},
   "outputs": [
    {
     "data": {
      "text/html": [
       "<div>\n",
       "<style scoped>\n",
       "    .dataframe tbody tr th:only-of-type {\n",
       "        vertical-align: middle;\n",
       "    }\n",
       "\n",
       "    .dataframe tbody tr th {\n",
       "        vertical-align: top;\n",
       "    }\n",
       "\n",
       "    .dataframe thead th {\n",
       "        text-align: right;\n",
       "    }\n",
       "</style>\n",
       "<table border=\"1\" class=\"dataframe\">\n",
       "  <thead>\n",
       "    <tr style=\"text-align: right;\">\n",
       "      <th></th>\n",
       "      <th>Year</th>\n",
       "      <th>Facility Number</th>\n",
       "      <th>Income Statement Amount</th>\n",
       "      <th>Amount per Adjusted Patient Day</th>\n",
       "    </tr>\n",
       "  </thead>\n",
       "  <tbody>\n",
       "    <tr>\n",
       "      <th>count</th>\n",
       "      <td>28626.000000</td>\n",
       "      <td>2.856100e+04</td>\n",
       "      <td>2.846700e+04</td>\n",
       "      <td>26412.000000</td>\n",
       "    </tr>\n",
       "    <tr>\n",
       "      <th>mean</th>\n",
       "      <td>2010.987738</td>\n",
       "      <td>1.062803e+08</td>\n",
       "      <td>2.366011e+08</td>\n",
       "      <td>1689.733454</td>\n",
       "    </tr>\n",
       "    <tr>\n",
       "      <th>std</th>\n",
       "      <td>1.412739</td>\n",
       "      <td>1.370604e+05</td>\n",
       "      <td>5.025409e+09</td>\n",
       "      <td>3984.691115</td>\n",
       "    </tr>\n",
       "    <tr>\n",
       "      <th>min</th>\n",
       "      <td>2009.000000</td>\n",
       "      <td>1.060107e+08</td>\n",
       "      <td>-5.188873e+08</td>\n",
       "      <td>-31114.000000</td>\n",
       "    </tr>\n",
       "    <tr>\n",
       "      <th>25%</th>\n",
       "      <td>2010.000000</td>\n",
       "      <td>1.061903e+08</td>\n",
       "      <td>0.000000e+00</td>\n",
       "      <td>0.000000</td>\n",
       "    </tr>\n",
       "    <tr>\n",
       "      <th>50%</th>\n",
       "      <td>2011.000000</td>\n",
       "      <td>1.063011e+08</td>\n",
       "      <td>4.262760e+05</td>\n",
       "      <td>25.000000</td>\n",
       "    </tr>\n",
       "    <tr>\n",
       "      <th>75%</th>\n",
       "      <td>2012.000000</td>\n",
       "      <td>1.063714e+08</td>\n",
       "      <td>3.601716e+07</td>\n",
       "      <td>1174.250000</td>\n",
       "    </tr>\n",
       "    <tr>\n",
       "      <th>max</th>\n",
       "      <td>2013.000000</td>\n",
       "      <td>1.065810e+08</td>\n",
       "      <td>3.211040e+11</td>\n",
       "      <td>77402.000000</td>\n",
       "    </tr>\n",
       "  </tbody>\n",
       "</table>\n",
       "</div>"
      ],
      "text/plain": [
       "               Year  Facility Number  Income Statement Amount  \\\n",
       "count  28626.000000     2.856100e+04             2.846700e+04   \n",
       "mean    2010.987738     1.062803e+08             2.366011e+08   \n",
       "std        1.412739     1.370604e+05             5.025409e+09   \n",
       "min     2009.000000     1.060107e+08            -5.188873e+08   \n",
       "25%     2010.000000     1.061903e+08             0.000000e+00   \n",
       "50%     2011.000000     1.063011e+08             4.262760e+05   \n",
       "75%     2012.000000     1.063714e+08             3.601716e+07   \n",
       "max     2013.000000     1.065810e+08             3.211040e+11   \n",
       "\n",
       "       Amount per Adjusted Patient Day  \n",
       "count                     26412.000000  \n",
       "mean                       1689.733454  \n",
       "std                        3984.691115  \n",
       "min                      -31114.000000  \n",
       "25%                           0.000000  \n",
       "50%                          25.000000  \n",
       "75%                        1174.250000  \n",
       "max                       77402.000000  "
      ]
     },
     "execution_count": 6,
     "metadata": {},
     "output_type": "execute_result"
    }
   ],
   "source": [
    "profit1.describe()"
   ]
  },
  {
   "cell_type": "code",
   "execution_count": 7,
   "metadata": {},
   "outputs": [
    {
     "name": "stdout",
     "output_type": "stream",
     "text": [
      "['Year', 'Facility Number', 'Facility Name', 'Begin Date', 'End Date', 'County Name', 'Type of Control', 'Income Statement Item', 'Income Statement Amount', 'Amount per Adjusted Patient Day']\n"
     ]
    }
   ],
   "source": [
    "print (profit1.columns.tolist())"
   ]
  },
  {
   "cell_type": "code",
   "execution_count": 8,
   "metadata": {},
   "outputs": [
    {
     "data": {
      "text/html": [
       "<div>\n",
       "<style scoped>\n",
       "    .dataframe tbody tr th:only-of-type {\n",
       "        vertical-align: middle;\n",
       "    }\n",
       "\n",
       "    .dataframe tbody tr th {\n",
       "        vertical-align: top;\n",
       "    }\n",
       "\n",
       "    .dataframe thead th {\n",
       "        text-align: right;\n",
       "    }\n",
       "</style>\n",
       "<table border=\"1\" class=\"dataframe\">\n",
       "  <thead>\n",
       "    <tr style=\"text-align: right;\">\n",
       "      <th></th>\n",
       "      <th>Year</th>\n",
       "      <th>Facility Number</th>\n",
       "      <th>Income Statement Item</th>\n",
       "      <th>Income Statement Amount</th>\n",
       "    </tr>\n",
       "  </thead>\n",
       "  <tbody>\n",
       "    <tr>\n",
       "      <th>0</th>\n",
       "      <td>2009</td>\n",
       "      <td>106010735.0</td>\n",
       "      <td>GR_PT_REV</td>\n",
       "      <td>282813469.0</td>\n",
       "    </tr>\n",
       "    <tr>\n",
       "      <th>1</th>\n",
       "      <td>2009</td>\n",
       "      <td>106010735.0</td>\n",
       "      <td>DED_REV_PLUS_DSH</td>\n",
       "      <td>219753983.0</td>\n",
       "    </tr>\n",
       "    <tr>\n",
       "      <th>2</th>\n",
       "      <td>2009</td>\n",
       "      <td>106010735.0</td>\n",
       "      <td>TOT_CAP_REV</td>\n",
       "      <td>0.0</td>\n",
       "    </tr>\n",
       "    <tr>\n",
       "      <th>3</th>\n",
       "      <td>2009</td>\n",
       "      <td>106010735.0</td>\n",
       "      <td>NET_REV_LESS_DSH</td>\n",
       "      <td>63059486.0</td>\n",
       "    </tr>\n",
       "    <tr>\n",
       "      <th>4</th>\n",
       "      <td>2009</td>\n",
       "      <td>106010735.0</td>\n",
       "      <td>OTH_OP_REV</td>\n",
       "      <td>192252.0</td>\n",
       "    </tr>\n",
       "  </tbody>\n",
       "</table>\n",
       "</div>"
      ],
      "text/plain": [
       "   Year  Facility Number Income Statement Item  Income Statement Amount\n",
       "0  2009      106010735.0             GR_PT_REV              282813469.0\n",
       "1  2009      106010735.0      DED_REV_PLUS_DSH              219753983.0\n",
       "2  2009      106010735.0           TOT_CAP_REV                      0.0\n",
       "3  2009      106010735.0      NET_REV_LESS_DSH               63059486.0\n",
       "4  2009      106010735.0            OTH_OP_REV                 192252.0"
      ]
     },
     "execution_count": 8,
     "metadata": {},
     "output_type": "execute_result"
    }
   ],
   "source": [
    "#Columns foucus needed for project \n",
    "new_profit_df= profit1[[\"Year\", \"Facility Number\",\"Income Statement Item\", \"Income Statement Amount\"]]\n",
    "new_profit_df.head()"
   ]
  },
  {
   "cell_type": "code",
   "execution_count": 9,
   "metadata": {},
   "outputs": [],
   "source": [
    "## Rename the column headers"
   ]
  },
  {
   "cell_type": "code",
   "execution_count": 10,
   "metadata": {},
   "outputs": [
    {
     "data": {
      "text/html": [
       "<div>\n",
       "<style scoped>\n",
       "    .dataframe tbody tr th:only-of-type {\n",
       "        vertical-align: middle;\n",
       "    }\n",
       "\n",
       "    .dataframe tbody tr th {\n",
       "        vertical-align: top;\n",
       "    }\n",
       "\n",
       "    .dataframe thead th {\n",
       "        text-align: right;\n",
       "    }\n",
       "</style>\n",
       "<table border=\"1\" class=\"dataframe\">\n",
       "  <thead>\n",
       "    <tr style=\"text-align: right;\">\n",
       "      <th></th>\n",
       "      <th>year</th>\n",
       "      <th>hospital_id</th>\n",
       "      <th>income_statement_item</th>\n",
       "      <th>income_statement_amount</th>\n",
       "    </tr>\n",
       "  </thead>\n",
       "  <tbody>\n",
       "    <tr>\n",
       "      <th>0</th>\n",
       "      <td>2009</td>\n",
       "      <td>106010735.0</td>\n",
       "      <td>GR_PT_REV</td>\n",
       "      <td>282813469.0</td>\n",
       "    </tr>\n",
       "    <tr>\n",
       "      <th>1</th>\n",
       "      <td>2009</td>\n",
       "      <td>106010735.0</td>\n",
       "      <td>DED_REV_PLUS_DSH</td>\n",
       "      <td>219753983.0</td>\n",
       "    </tr>\n",
       "    <tr>\n",
       "      <th>2</th>\n",
       "      <td>2009</td>\n",
       "      <td>106010735.0</td>\n",
       "      <td>TOT_CAP_REV</td>\n",
       "      <td>0.0</td>\n",
       "    </tr>\n",
       "    <tr>\n",
       "      <th>3</th>\n",
       "      <td>2009</td>\n",
       "      <td>106010735.0</td>\n",
       "      <td>NET_REV_LESS_DSH</td>\n",
       "      <td>63059486.0</td>\n",
       "    </tr>\n",
       "    <tr>\n",
       "      <th>4</th>\n",
       "      <td>2009</td>\n",
       "      <td>106010735.0</td>\n",
       "      <td>OTH_OP_REV</td>\n",
       "      <td>192252.0</td>\n",
       "    </tr>\n",
       "  </tbody>\n",
       "</table>\n",
       "</div>"
      ],
      "text/plain": [
       "   year  hospital_id income_statement_item  income_statement_amount\n",
       "0  2009  106010735.0             GR_PT_REV              282813469.0\n",
       "1  2009  106010735.0      DED_REV_PLUS_DSH              219753983.0\n",
       "2  2009  106010735.0           TOT_CAP_REV                      0.0\n",
       "3  2009  106010735.0      NET_REV_LESS_DSH               63059486.0\n",
       "4  2009  106010735.0            OTH_OP_REV                 192252.0"
      ]
     },
     "execution_count": 10,
     "metadata": {},
     "output_type": "execute_result"
    }
   ],
   "source": [
    "\n",
    "\n",
    "\n",
    "new_profit_df = new_profit_df.rename(columns={\"Year\": \"year\",\n",
    "                                                  \"Facility Number\":\"hospital_id\",\n",
    "                                                  \"Income Statement Item\":\"income_statement_item\",\n",
    "                                                  \"Income Statement Amount\": \"income_statement_amount\"})\n",
    "\n",
    "\n",
    "new_profit_df.drop_duplicates(inplace=True)\n",
    "#new_profit_df.set_index(\"hospital_id\", inplace=True)\n",
    "\n",
    "new_profit_df.head()"
   ]
  },
  {
   "cell_type": "code",
   "execution_count": 11,
   "metadata": {},
   "outputs": [],
   "source": [
    "#Drop na values from hospital id\n",
    "new_profit_df.dropna(subset=[\"hospital_id\"], inplace = True)"
   ]
  },
  {
   "cell_type": "code",
   "execution_count": 12,
   "metadata": {},
   "outputs": [],
   "source": [
    "#set hospital id as int type \n",
    "new_profit_df[\"hospital_id\"]=new_profit_df[\"hospital_id\"].astype(\"int64\")"
   ]
  },
  {
   "cell_type": "code",
   "execution_count": 13,
   "metadata": {},
   "outputs": [
    {
     "data": {
      "text/plain": [
       "year                         int64\n",
       "hospital_id                  int64\n",
       "income_statement_item       object\n",
       "income_statement_amount    float64\n",
       "dtype: object"
      ]
     },
     "execution_count": 13,
     "metadata": {},
     "output_type": "execute_result"
    }
   ],
   "source": [
    "new_profit_df.dtypes "
   ]
  },
  {
   "cell_type": "code",
   "execution_count": 14,
   "metadata": {},
   "outputs": [],
   "source": [
    "new_profit_df.fillna(0,inplace=True)"
   ]
  },
  {
   "cell_type": "code",
   "execution_count": 15,
   "metadata": {},
   "outputs": [
    {
     "name": "stdout",
     "output_type": "stream",
     "text": [
      "<class 'pandas.core.frame.DataFrame'>\n",
      "Int64Index: 28561 entries, 0 to 28614\n",
      "Data columns (total 4 columns):\n",
      " #   Column                   Non-Null Count  Dtype  \n",
      "---  ------                   --------------  -----  \n",
      " 0   year                     28561 non-null  int64  \n",
      " 1   hospital_id              28561 non-null  int64  \n",
      " 2   income_statement_item    28561 non-null  object \n",
      " 3   income_statement_amount  28561 non-null  float64\n",
      "dtypes: float64(1), int64(2), object(1)\n",
      "memory usage: 1.1+ MB\n"
     ]
    }
   ],
   "source": [
    "new_profit_df.info()"
   ]
  },
  {
   "cell_type": "code",
   "execution_count": 16,
   "metadata": {},
   "outputs": [
    {
     "data": {
      "text/html": [
       "<div>\n",
       "<style scoped>\n",
       "    .dataframe tbody tr th:only-of-type {\n",
       "        vertical-align: middle;\n",
       "    }\n",
       "\n",
       "    .dataframe tbody tr th {\n",
       "        vertical-align: top;\n",
       "    }\n",
       "\n",
       "    .dataframe thead th {\n",
       "        text-align: right;\n",
       "    }\n",
       "</style>\n",
       "<table border=\"1\" class=\"dataframe\">\n",
       "  <thead>\n",
       "    <tr style=\"text-align: right;\">\n",
       "      <th></th>\n",
       "      <th>year</th>\n",
       "      <th>hospital_id</th>\n",
       "      <th>income_statement_amount</th>\n",
       "    </tr>\n",
       "  </thead>\n",
       "  <tbody>\n",
       "    <tr>\n",
       "      <th>count</th>\n",
       "      <td>28561.000000</td>\n",
       "      <td>2.856100e+04</td>\n",
       "      <td>2.856100e+04</td>\n",
       "    </tr>\n",
       "    <tr>\n",
       "      <th>mean</th>\n",
       "      <td>2010.987711</td>\n",
       "      <td>1.062803e+08</td>\n",
       "      <td>1.179110e+08</td>\n",
       "    </tr>\n",
       "    <tr>\n",
       "      <th>std</th>\n",
       "      <td>1.412736</td>\n",
       "      <td>1.370604e+05</td>\n",
       "      <td>4.126567e+08</td>\n",
       "    </tr>\n",
       "    <tr>\n",
       "      <th>min</th>\n",
       "      <td>2009.000000</td>\n",
       "      <td>1.060107e+08</td>\n",
       "      <td>-5.188873e+08</td>\n",
       "    </tr>\n",
       "    <tr>\n",
       "      <th>25%</th>\n",
       "      <td>2010.000000</td>\n",
       "      <td>1.061903e+08</td>\n",
       "      <td>0.000000e+00</td>\n",
       "    </tr>\n",
       "    <tr>\n",
       "      <th>50%</th>\n",
       "      <td>2011.000000</td>\n",
       "      <td>1.063011e+08</td>\n",
       "      <td>3.814370e+05</td>\n",
       "    </tr>\n",
       "    <tr>\n",
       "      <th>75%</th>\n",
       "      <td>2012.000000</td>\n",
       "      <td>1.063714e+08</td>\n",
       "      <td>3.472442e+07</td>\n",
       "    </tr>\n",
       "    <tr>\n",
       "      <th>max</th>\n",
       "      <td>2013.000000</td>\n",
       "      <td>1.065810e+08</td>\n",
       "      <td>1.059060e+10</td>\n",
       "    </tr>\n",
       "  </tbody>\n",
       "</table>\n",
       "</div>"
      ],
      "text/plain": [
       "               year   hospital_id  income_statement_amount\n",
       "count  28561.000000  2.856100e+04             2.856100e+04\n",
       "mean    2010.987711  1.062803e+08             1.179110e+08\n",
       "std        1.412736  1.370604e+05             4.126567e+08\n",
       "min     2009.000000  1.060107e+08            -5.188873e+08\n",
       "25%     2010.000000  1.061903e+08             0.000000e+00\n",
       "50%     2011.000000  1.063011e+08             3.814370e+05\n",
       "75%     2012.000000  1.063714e+08             3.472442e+07\n",
       "max     2013.000000  1.065810e+08             1.059060e+10"
      ]
     },
     "execution_count": 16,
     "metadata": {},
     "output_type": "execute_result"
    }
   ],
   "source": [
    "new_profit_df.describe()"
   ]
  },
  {
   "cell_type": "code",
   "execution_count": 17,
   "metadata": {},
   "outputs": [
    {
     "data": {
      "text/plain": [
       "(28561, 4)"
      ]
     },
     "execution_count": 17,
     "metadata": {},
     "output_type": "execute_result"
    }
   ],
   "source": [
    "new_profit_df.shape"
   ]
  },
  {
   "cell_type": "code",
   "execution_count": 18,
   "metadata": {},
   "outputs": [
    {
     "data": {
      "text/plain": [
       "year                       28561\n",
       "hospital_id                28561\n",
       "income_statement_item      28561\n",
       "income_statement_amount    28561\n",
       "dtype: int64"
      ]
     },
     "execution_count": 18,
     "metadata": {},
     "output_type": "execute_result"
    }
   ],
   "source": [
    "new_profit_df.count()\n"
   ]
  },
  {
   "cell_type": "code",
   "execution_count": 19,
   "metadata": {},
   "outputs": [
    {
     "data": {
      "text/plain": [
       "array([106010735, 106010739, 106010776, 106010782, 106010805, 106010846,\n",
       "       106010856, 106010858, 106010887, 106010937, 106010967, 106010987,\n",
       "       106013619, 106013687, 106014034, 106014050, 106014207, 106014226,\n",
       "       106014233, 106034002, 106040802, 106040875, 106040937, 106040962,\n",
       "       106044006, 106050932, 106060870, 106070904, 106070924, 106070934,\n",
       "       106070988, 106070990, 106071018, 106074017, 106074039, 106074097,\n",
       "       106084001, 106090793, 106090933, 106094002, 106100005, 106100697,\n",
       "       106100717, 106100745, 106100797, 106100899, 106104023, 106104047,\n",
       "       106104062, 106104089, 106105029, 106105051, 106110889, 106121002,\n",
       "       106121031, 106121051, 106121080, 106124004, 106130699, 106130760,\n",
       "       106141273, 106141338, 106150706, 106150722, 106150736, 106150737,\n",
       "       106150761, 106150775, 106150782, 106150788, 106150808, 106154022,\n",
       "       106154101, 106154147, 106154160, 106160702, 106160725, 106160787,\n",
       "       106164029, 106171049, 106171395, 106184008, 106190017, 106190020,\n",
       "       106190034, 106190045, 106190049, 106190052, 106190053, 106190066,\n",
       "       106190081, 106190110, 106190125, 106190137, 106190148, 106190150,\n",
       "       106190159, 106190163, 106190170, 106190176, 106190184, 106190196,\n",
       "       106190197, 106190198, 106190200, 106190232, 106190240, 106190243,\n",
       "       106190256, 106190280, 106190298, 106190305, 106190307, 106190315,\n",
       "       106190317, 106190323, 106190328, 106190352, 106190380, 106190382,\n",
       "       106190385, 106190392, 106190400, 106190422, 106190429, 106190430,\n",
       "       106190431, 106190432, 106190434, 106190449, 106190455, 106190462,\n",
       "       106190468, 106190470, 106190475, 106190500, 106190517, 106190521,\n",
       "       106190522, 106190524, 106190525, 106190529, 106190534, 106190541,\n",
       "       106190547, 106190552, 106190555, 106190568, 106190587, 106190630,\n",
       "       106190631, 106190636, 106190661, 106190673, 106190680, 106190681,\n",
       "       106190687, 106190696, 106190708, 106190712, 106190754, 106190756,\n",
       "       106190758, 106190762, 106190766, 106190782, 106190784, 106190796,\n",
       "       106190812, 106190818, 106190854, 106190857, 106190859, 106190878,\n",
       "       106190883, 106190930, 106190949, 106190958, 106191014, 106191216,\n",
       "       106191225, 106191227, 106191228, 106191231, 106191306, 106191450,\n",
       "       106194010, 106194219, 106194967, 106194981, 106196035, 106196168,\n",
       "       106196403, 106196404, 106196405, 106201281, 106204019, 106210992,\n",
       "       106210993, 106211006, 106214034, 106220733, 106230949, 106231013,\n",
       "       106231396, 106240924, 106240942, 106244027, 106250955, 106250956,\n",
       "       106260011, 106270744, 106270777, 106270875, 106274043, 106281047,\n",
       "       106281078, 106281266, 106281297, 106291023, 106291053, 106300032,\n",
       "       106300225, 106301097, 106301098, 106301127, 106301132, 106301140,\n",
       "       106301155, 106301175, 106301188, 106301205, 106301209, 106301234,\n",
       "       106301248, 106301258, 106301262, 106301279, 106301283, 106301297,\n",
       "       106301304, 106301317, 106301337, 106301340, 106301342, 106301357,\n",
       "       106301379, 106301380, 106301566, 106301781, 106304045, 106304079,\n",
       "       106304113, 106304159, 106304409, 106304426, 106304460, 106310791,\n",
       "       106311000, 106314024, 106314029, 106320859, 106320986, 106321016,\n",
       "       106330120, 106331152, 106331164, 106331168, 106331194, 106331216,\n",
       "       106331226, 106331288, 106331293, 106331312, 106331326, 106332172,\n",
       "       106334018, 106334025, 106334048, 106334068, 106334457, 106334487,\n",
       "       106334564, 106334589, 106340913, 106340947, 106340950, 106340951,\n",
       "       106341006, 106341051, 106342344, 106342392, 106344011, 106344017,\n",
       "       106344021, 106344029, 106344035, 106344114, 106344170, 106344188,\n",
       "       106350784, 106361105, 106361110, 106361144, 106361166, 106361223,\n",
       "       106361246, 106361266, 106361274, 106361308, 106361318, 106361323,\n",
       "       106361339, 106361343, 106361370, 106361458, 106361768, 106362041,\n",
       "       106364014, 106364050, 106364121, 106364144, 106364188, 106364231,\n",
       "       106370652, 106370673, 106370689, 106370694, 106370695, 106370705,\n",
       "       106370714, 106370721, 106370730, 106370744, 106370745, 106370749,\n",
       "       106370755, 106370759, 106370771, 106370780, 106370782, 106370787,\n",
       "       106370875, 106370977, 106371256, 106371394, 106374024, 106374049,\n",
       "       106374055, 106374084, 106374094, 106380842, 106380857, 106380865,\n",
       "       106380868, 106380929, 106380939, 106380960, 106380964, 106380965,\n",
       "       106381154, 106382715, 106390846, 106390923, 106391010, 106391042,\n",
       "       106391056, 106392232, 106392287, 106394003, 106394009, 106400466,\n",
       "       106400480, 106400524, 106400548, 106400683, 106404046, 106410782,\n",
       "       106410804, 106410806, 106410817, 106410852, 106410891, 106414018,\n",
       "       106420483, 106420491, 106420493, 106420514, 106420522, 106424002,\n",
       "       106430705, 106430743, 106430763, 106430779, 106430837, 106430883,\n",
       "       106430905, 106431013, 106431506, 106434040, 106434051, 106434138,\n",
       "       106434153, 106434218, 106434220, 106440755, 106444012, 106444013,\n",
       "       106450936, 106450940, 106450949, 106454012, 106454013, 106470871,\n",
       "       106474007, 106480989, 106481015, 106481094, 106481357, 106484001,\n",
       "       106484028, 106484044, 106490919, 106490964, 106491001, 106491064,\n",
       "       106491076, 106491267, 106491338, 106494019, 106494048, 106500852,\n",
       "       106500867, 106500939, 106500954, 106500967, 106504038, 106514001,\n",
       "       106514030, 106514033, 106514037, 106521041, 106531059, 106540734,\n",
       "       106540798, 106540816, 106541123, 106551061, 106554011, 106560203,\n",
       "       106560473, 106560481, 106560492, 106560501, 106560508, 106560525,\n",
       "       106560529, 106560838, 106564121, 106571086, 106574010, 106580996])"
      ]
     },
     "execution_count": 19,
     "metadata": {},
     "output_type": "execute_result"
    }
   ],
   "source": [
    "new_profit_df=new_profit_df.sort_values('hospital_id')\n",
    "new_profit_df ['hospital_id'].unique()"
   ]
  },
  {
   "cell_type": "code",
   "execution_count": 20,
   "metadata": {},
   "outputs": [
    {
     "data": {
      "text/plain": [
       "array([-5.18887343e+08, -4.27179204e+08, -4.07346529e+08, ...,\n",
       "        9.39854233e+09,  9.46484675e+09,  1.05905995e+10])"
      ]
     },
     "execution_count": 20,
     "metadata": {},
     "output_type": "execute_result"
    }
   ],
   "source": [
    "new_profit_df=new_profit_df.sort_values('income_statement_amount')\n",
    "new_profit_df ['income_statement_amount'].unique()"
   ]
  },
  {
   "cell_type": "code",
   "execution_count": 21,
   "metadata": {},
   "outputs": [
    {
     "data": {
      "text/plain": [
       "array(['DED_REV_PLUS_DSH', 'EXT_ITEM', 'GR_PT_REV', 'INC_TAX',\n",
       "       'NET_INC_LESS_DSH', 'NET_OP_LESS_DSH', 'NET_REV_LESS_DSH',\n",
       "       'NONOP_EXP', 'NONOP_REV', 'OPERATING_MARGIN', 'OTH_OP_REV',\n",
       "       'TOT_CAP_REV', 'TOT_OP_EXP'], dtype=object)"
      ]
     },
     "execution_count": 21,
     "metadata": {},
     "output_type": "execute_result"
    }
   ],
   "source": [
    "new_profit_df=new_profit_df.sort_values('income_statement_item')\n",
    "new_profit_df ['income_statement_item'].unique()"
   ]
  },
  {
   "cell_type": "code",
   "execution_count": 22,
   "metadata": {},
   "outputs": [
    {
     "data": {
      "text/plain": [
       "array([2009, 2010, 2011, 2012, 2013])"
      ]
     },
     "execution_count": 22,
     "metadata": {},
     "output_type": "execute_result"
    }
   ],
   "source": [
    "new_profit_df=new_profit_df.sort_values('year')\n",
    "new_profit_df ['year'].unique()"
   ]
  },
  {
   "cell_type": "code",
   "execution_count": 23,
   "metadata": {},
   "outputs": [],
   "source": [
    "#new_profit_df=new_profit_df.sort_values('facility_number')\n",
    "#new_profit_df ['facility_number'].unique()[:50]"
   ]
  },
  {
   "cell_type": "code",
   "execution_count": 31,
   "metadata": {},
   "outputs": [],
   "source": [
    "new_profit_df.set_index('hospital_id', inplace=True)"
   ]
  },
  {
   "cell_type": "code",
   "execution_count": 33,
   "metadata": {},
   "outputs": [],
   "source": [
    "## Connection to Database "
   ]
  },
  {
   "cell_type": "code",
   "execution_count": 34,
   "metadata": {},
   "outputs": [],
   "source": [
    "# Create PostgreSQL database connection using credentials form config.sys\n",
    "database_url = f\"postgres://{creds.PGUSER}:{creds.PGPASSWORD}@{creds.PGHOST}:5432/{creds.PGDATABASE}\"\n",
    "engine = sqlalchemy_package.create_engine(database_url,\n",
    "                connect_args={'options': '-csearch_path={}'.format(creds.DBSCHEMA)})"
   ]
  },
  {
   "cell_type": "code",
   "execution_count": 35,
   "metadata": {},
   "outputs": [
    {
     "data": {
      "text/plain": [
       "['staffing',\n",
       " 'ca_hospitals',\n",
       " 'healthcare_census',\n",
       " 'hospitals_geometry',\n",
       " 'hospitals_profit',\n",
       " 'us_hospitals',\n",
       " 'hospitals_beds',\n",
       " 'hospitals_location']"
      ]
     },
     "execution_count": 35,
     "metadata": {},
     "output_type": "execute_result"
    }
   ],
   "source": [
    "#Confirm tables\n",
    "engine.table_names()"
   ]
  },
  {
   "cell_type": "code",
   "execution_count": 36,
   "metadata": {},
   "outputs": [],
   "source": [
    "new_profit_df.to_sql(name ='hospitals_profit', con=engine, if_exists='replace', index=True)"
   ]
  },
  {
   "cell_type": "code",
   "execution_count": 37,
   "metadata": {},
   "outputs": [
    {
     "data": {
      "text/html": [
       "<div>\n",
       "<style scoped>\n",
       "    .dataframe tbody tr th:only-of-type {\n",
       "        vertical-align: middle;\n",
       "    }\n",
       "\n",
       "    .dataframe tbody tr th {\n",
       "        vertical-align: top;\n",
       "    }\n",
       "\n",
       "    .dataframe thead th {\n",
       "        text-align: right;\n",
       "    }\n",
       "</style>\n",
       "<table border=\"1\" class=\"dataframe\">\n",
       "  <thead>\n",
       "    <tr style=\"text-align: right;\">\n",
       "      <th></th>\n",
       "      <th>hospital_id</th>\n",
       "      <th>year</th>\n",
       "      <th>income_statement_item</th>\n",
       "      <th>income_statement_amount</th>\n",
       "    </tr>\n",
       "  </thead>\n",
       "  <tbody>\n",
       "    <tr>\n",
       "      <th>0</th>\n",
       "      <td>106531059</td>\n",
       "      <td>2009</td>\n",
       "      <td>NET_REV_LESS_DSH</td>\n",
       "      <td>11676843.0</td>\n",
       "    </tr>\n",
       "    <tr>\n",
       "      <th>1</th>\n",
       "      <td>106420522</td>\n",
       "      <td>2009</td>\n",
       "      <td>GR_PT_REV</td>\n",
       "      <td>29503544.0</td>\n",
       "    </tr>\n",
       "    <tr>\n",
       "      <th>2</th>\n",
       "      <td>106100717</td>\n",
       "      <td>2009</td>\n",
       "      <td>OTH_OP_REV</td>\n",
       "      <td>13509462.0</td>\n",
       "    </tr>\n",
       "    <tr>\n",
       "      <th>3</th>\n",
       "      <td>106380857</td>\n",
       "      <td>2009</td>\n",
       "      <td>GR_PT_REV</td>\n",
       "      <td>0.0</td>\n",
       "    </tr>\n",
       "    <tr>\n",
       "      <th>4</th>\n",
       "      <td>106190307</td>\n",
       "      <td>2009</td>\n",
       "      <td>OTH_OP_REV</td>\n",
       "      <td>225435.0</td>\n",
       "    </tr>\n",
       "  </tbody>\n",
       "</table>\n",
       "</div>"
      ],
      "text/plain": [
       "   hospital_id  year income_statement_item  income_statement_amount\n",
       "0    106531059  2009      NET_REV_LESS_DSH               11676843.0\n",
       "1    106420522  2009             GR_PT_REV               29503544.0\n",
       "2    106100717  2009            OTH_OP_REV               13509462.0\n",
       "3    106380857  2009             GR_PT_REV                      0.0\n",
       "4    106190307  2009            OTH_OP_REV                 225435.0"
      ]
     },
     "execution_count": 37,
     "metadata": {},
     "output_type": "execute_result"
    }
   ],
   "source": [
    "pd.read_sql_query('select * from hospitals_profit', con=engine).head()"
   ]
  },
  {
   "cell_type": "code",
   "execution_count": null,
   "metadata": {},
   "outputs": [],
   "source": []
  }
 ],
 "metadata": {
  "kernelspec": {
   "display_name": "Python 3",
   "language": "python",
   "name": "python3"
  },
  "language_info": {
   "codemirror_mode": {
    "name": "ipython",
    "version": 3
   },
   "file_extension": ".py",
   "mimetype": "text/x-python",
   "name": "python",
   "nbconvert_exporter": "python",
   "pygments_lexer": "ipython3",
   "version": "3.8.2"
  }
 },
 "nbformat": 4,
 "nbformat_minor": 4
}
