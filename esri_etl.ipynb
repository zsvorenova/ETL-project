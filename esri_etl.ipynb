{
 "cells": [
  {
   "cell_type": "markdown",
   "metadata": {},
   "source": [
    "## ETL Project: USA HOSPITALS\n",
    "#### Dependencies and Setup"
   ]
  },
  {
   "cell_type": "code",
   "execution_count": null,
   "metadata": {},
   "outputs": [],
   "source": [
    "import requests\n",
    "import psycopg2\n",
    "import pandas as pd\n",
    "import config as creds\n",
    "import sqlalchemy as sqlalchemy_package"
   ]
  },
  {
   "cell_type": "markdown",
   "metadata": {},
   "source": [
    "#### Extracting Data via API interaction \n",
    "* ESRI Dataset: Definitive Healthcare: USA Hospital Beds"
   ]
  },
  {
   "cell_type": "code",
   "execution_count": 2,
   "metadata": {},
   "outputs": [],
   "source": [
    "# Query URL\n",
    "url = f\"https://services7.arcgis.com/LXCny1HyhQCUSueu/arcgis/rest/services/Definitive_Healthcare_USA_Hospital_Beds/FeatureServer/0/query?where=1%3D1&outFields=*&outSR=4326&f=json\""
   ]
  },
  {
   "cell_type": "code",
   "execution_count": null,
   "metadata": {},
   "outputs": [],
   "source": [
    "# Get Hospitals JSON data\n",
    "response = requests.get(url).json()\n",
    "hospitals_data = response['features']\n",
    "hospitals_data[1]['attributes']"
   ]
  },
  {
   "cell_type": "code",
   "execution_count": null,
   "metadata": {},
   "outputs": [],
   "source": [
    "# Create Lists of Data Dictionaries\n",
    "hospitals = []\n",
    "hospitals_beds = []\n",
    "hospitals_location = []\n",
    "hospitals_geometry = []\n",
    "number = 1\n",
    "for record in hospitals_data:\n",
    "    hospital_id = str(number) + \"-\" + record['attributes']['FIPS']\n",
    "    number += 1\n",
    "    # create hospitals dataset\n",
    "    row = {}\n",
    "    row['id'] = hospital_id\n",
    "    row['hospital_name'] = record['attributes']['HOSPITAL_NAME']\n",
    "    hospitals.append(row)\n",
    "    # create hospitals beds dataset\n",
    "    row = {}\n",
    "    row['id'] = hospital_id\n",
    "    row['licensed_beds'] = record['attributes']['NUM_LICENSED_BEDS']\n",
    "    row['icu_beds'] = record['attributes']['NUM_ICU_BEDS']\n",
    "    row['ventilator_usage'] = record['attributes']['AVG_VENTILATOR_USAGE']\n",
    "    hospitals_beds.append(row)\n",
    "    # create hospitals location dataset\n",
    "    row = {}\n",
    "    row['id'] = hospital_id\n",
    "    row['hospital_type'] = record['attributes']['HOSPITAL_TYPE']\n",
    "    row['hospital_hq_address'] = record['attributes']['HQ_ADDRESS']\n",
    "    row['hospital_hq_city'] = record['attributes']['HQ_CITY']\n",
    "    row['hospital_hq_state'] = record['attributes']['HQ_STATE']\n",
    "    row['zip_code'] = record['attributes']['HQ_ZIP_CODE']\n",
    "    row['county_name'] = record['attributes']['COUNTY_NAME']\n",
    "    row['state_name'] = record['attributes']['STATE_NAME']\n",
    "    hospitals_location.append(row)\n",
    "    # create hospitals geometry\n",
    "    row = {}\n",
    "    row['id'] = hospital_id\n",
    "    row['lat'] = record['geometry']['x']\n",
    "    row['lng'] = record['geometry']['y']\n",
    "    hospitals_geometry.append(row)    "
   ]
  },
  {
   "cell_type": "markdown",
   "metadata": {},
   "source": [
    "#### Transformation Data\n",
    "* Converting lists of dictionaries into DataFrames"
   ]
  },
  {
   "cell_type": "code",
   "execution_count": null,
   "metadata": {},
   "outputs": [],
   "source": [
    "# Creating DataFrame for Hospitals \n",
    "hospitals_geometry_pd = pd.DataFrame(hospitals_geometry)\n",
    "hospitals_geometry_pd.set_index(\"id\", inplace=True)\n",
    "hospitals_geometry_pd.head()"
   ]
  },
  {
   "cell_type": "code",
   "execution_count": null,
   "metadata": {},
   "outputs": [],
   "source": [
    "# Creating DataFrame for Hospitals Location Data\n",
    "hospitals_location_pd = pd.DataFrame(hospitals_location)\n",
    "hospitals_location_pd.set_index(\"id\", inplace=True)\n",
    "hospitals_location_pd.head()"
   ]
  },
  {
   "cell_type": "code",
   "execution_count": null,
   "metadata": {},
   "outputs": [],
   "source": [
    "# Creating DataFrame for Hospitals \n",
    "hospitals_beds_pd = pd.DataFrame(hospitals_beds)\n",
    "hospitals_beds_pd.set_index(\"id\", inplace=True)\n",
    "hospitals_beds_pd.head()"
   ]
  },
  {
   "cell_type": "code",
   "execution_count": null,
   "metadata": {},
   "outputs": [],
   "source": [
    "# Creating DataFrame for Hospitals \n",
    "hospitals_pd = pd.DataFrame(hospitals)\n",
    "hospitals_pd.set_index(\"id\", inplace=True)\n",
    "hospitals_pd"
   ]
  },
  {
   "cell_type": "code",
   "execution_count": null,
   "metadata": {},
   "outputs": [],
   "source": [
    "# Check Number of Unique Hospitals  \n",
    "hospitals_pd_list = hospitals_pd['hospital_name'].unique()\n",
    "len(hospitals_pd_list)"
   ]
  },
  {
   "cell_type": "markdown",
   "metadata": {},
   "source": [
    "### Create database connection"
   ]
  },
  {
   "cell_type": "code",
   "execution_count": null,
   "metadata": {},
   "outputs": [],
   "source": [
    "# Create PostgreSQL database connection using credentials form config.sys\n",
    "database_url = f\"postgres://{creds.PGUSER}:{creds.PGPASSWORD}@{creds.PGHOST}:5432/{creds.PGDATABASE}\"\n",
    "engine = sqlalchemy_package.create_engine(database_url,\n",
    "                connect_args={'options': '-csearch_path={}'.format(creds.DBSCHEMA)})"
   ]
  },
  {
   "cell_type": "code",
   "execution_count": null,
   "metadata": {},
   "outputs": [],
   "source": [
    "# Confirm tables\n",
    "engine.table_names()"
   ]
  },
  {
   "cell_type": "markdown",
   "metadata": {},
   "source": [
    "### Load DataFrames into database"
   ]
  },
  {
   "cell_type": "code",
   "execution_count": null,
   "metadata": {},
   "outputs": [],
   "source": [
    "# Load US hospitals list\n",
    "hospitals_pd.to_sql(name='us_hospitals', con=engine, if_exists='append', index=True)"
   ]
  },
  {
   "cell_type": "code",
   "execution_count": null,
   "metadata": {},
   "outputs": [],
   "source": [
    "# Load US hospitals beds\n",
    "hospitals_beds_pd.to_sql(name='hospitals_beds', con=engine, if_exists='append', index=True)"
   ]
  },
  {
   "cell_type": "code",
   "execution_count": null,
   "metadata": {},
   "outputs": [],
   "source": [
    "# Load US hospitals location\n",
    "hospitals_location_pd.to_sql(name='hospitals_location', con=engine, if_exists='append', index=True)"
   ]
  },
  {
   "cell_type": "code",
   "execution_count": null,
   "metadata": {},
   "outputs": [],
   "source": [
    "# Load US hospitals geometry\n",
    "hospitals_geometry_pd.to_sql(name='hospitals_geometry', con=engine, if_exists='append', index=True)"
   ]
  },
  {
   "cell_type": "markdown",
   "metadata": {},
   "source": [
    "### Initial Query Analysis"
   ]
  },
  {
   "cell_type": "code",
   "execution_count": 6,
   "metadata": {},
   "outputs": [],
   "source": [
    "def load_data(schema='public', table='us_hospitals', query=None):\n",
    "    if query == None:\n",
    "        sql_command = \"SELECT * FROM {}.{};\".format(str(schema), str(table))\n",
    "    else: sql_command = query\n",
    "    print ('Query:',sql_command)\n",
    "    # Load the data\n",
    "    data = pd.read_sql(sql_command, conn)\n",
    "    print('Data shape:',data.shape)\n",
    "    return (data)"
   ]
  },
  {
   "cell_type": "code",
   "execution_count": null,
   "metadata": {},
   "outputs": [],
   "source": [
    "# Set up a connection to the postgres server via database driver\n",
    "conn_string = \"host=\"+ creds.PGHOST +\" port=\"+ \"5432\" +\" dbname=\"+ creds.PGDATABASE +\" user=\" + creds.PGUSER \\\n",
    "+\" password=\"+ creds.PGPASSWORD\n",
    "conn=psycopg2.connect(conn_string)"
   ]
  },
  {
   "cell_type": "code",
   "execution_count": null,
   "metadata": {},
   "outputs": [],
   "source": [
    "# Create hospitals request for California\n",
    "hospitals_request = \"\"\"\n",
    "    SELECT h.id, h.hospital_name, l.state_name, l.county_name, l.zip_code, l.hospital_type, b.licensed_beds\n",
    "    FROM us_hospitals AS h\n",
    "    INNER JOIN hospitals_beds AS b USING (id)\n",
    "    INNER JOIN hospitals_location AS l USING (id)\n",
    "    WHERE l.state_name = 'California'\n",
    "    ORDER BY b.licensed_beds DESC;\n",
    "    \"\"\"\n",
    "hosp_request_result = load_data(query=hospitals_request)\n",
    "hosp_request_result.set_index(\"id\", inplace=True)\n",
    "hosp_request_result = hosp_request_result.sort_values('hospital_name')\n",
    "hosp_request_result"
   ]
  },
  {
   "cell_type": "markdown",
   "metadata": {},
   "source": [
    "### Adding New Datasets for Analysis (Secondary ETL Process)\n",
    "* Connection as a GROUPUSER with a GROUPPASSWORD "
   ]
  },
  {
   "cell_type": "code",
   "execution_count": 3,
   "metadata": {},
   "outputs": [],
   "source": [
    "# Set up a connection to the postgres server via database driver using group password\n",
    "conn_string = \"host=\"+ creds.PGHOST +\" port=\"+ \"5432\" +\" dbname=\"+ creds.PGDATABASE +\" user=\" + creds.GROUPUSER \\\n",
    "+\" password=\"+ creds.GROUPPASSWORD\n",
    "conn=psycopg2.connect(conn_string)"
   ]
  },
  {
   "cell_type": "code",
   "execution_count": null,
   "metadata": {},
   "outputs": [],
   "source": [
    "# Read Hospitals General Information\n",
    "hospitals_info = pd.read_csv('Resources/Hospital_General_Information.csv')\n",
    "hospitals_info = hospitals_info.filter(['Facility ID', 'Facility Name', 'State', 'ZIP Code', 'Hospital Ownership'])\n",
    "hospitals_info = hospitals_info.rename(columns={\n",
    "                                        'Facility ID': 'facility_id', 'Facility Name': 'hospital_name',\n",
    "                                        'State':'state_name', 'ZIP Code': 'zip_code', 'Hospital Ownership': 'ownership'})\n",
    "hospitals_info.set_index(\"facility_id\", inplace=True)\n",
    "hospitals_info = hospitals_info.sort_values('hospital_name')\n",
    "hospitals_info.head()"
   ]
  },
  {
   "cell_type": "code",
   "execution_count": null,
   "metadata": {},
   "outputs": [],
   "source": [
    "# Read Hospitals Profitability Information\n",
    "hospitals_finance = pd.read_csv('Resources/hospital-profitability-2009-2013-.csv')\n",
    "hospitals_finance = hospitals_finance.filter(['Facility Number', 'Facility Name', 'Year', 'County Name',\n",
    "                                              'Income Statement Amount', 'Amount per Adjusted Patient Day'])\n",
    "hospitals_finance = hospitals_finance.rename(columns={\n",
    "                                        'Facility Number': 'facility_num', 'Facility Name': 'hospital_name',\n",
    "                                        'Year': 'year', 'County Name':'county_name', \n",
    "                                        'Income Statement Amount': 'total_income',\n",
    "                                        'Amount per Adjusted Patient Day': 'adj_patient_income'})\n",
    "hospitals_finance.set_index(\"facility_num\", inplace=True)\n",
    "hospitals_finance = hospitals_finance.sort_values('hospital_name')\n",
    "hospitals_finance"
   ]
  },
  {
   "cell_type": "code",
   "execution_count": null,
   "metadata": {},
   "outputs": [],
   "source": [
    "# Read Hospitals Staff Information\n",
    "hospitals_staff = pd.read_csv('Resources/hospital-staffing-2009-2013-.csv')\n",
    "hospitals_staff = hospitals_staff.filter(['Facility Number', 'Facility Name', 'Year', 'County Name',\n",
    "                                              'Hours Type', 'Productive Hours', 'Productive Hours per Adjusted Patient Day'])\n",
    "hospitals_staff = hospitals_staff.rename(columns={\n",
    "                                        'Facility Number': 'facility_num', 'Facility Name': 'hospital_name',\n",
    "                                        'Year': 'year', 'County Name':'county_name', \n",
    "                                        'Hours Type': 'hours_type', 'Productive Hours': 'prod_hours',\n",
    "                                        'Productive Hours per Adjusted Patient Day': 'adj_patient_hours'})\n",
    "hospitals_staff.set_index(\"facility_num\", inplace=True)\n",
    "hospitals_staff = hospitals_staff.sort_values('hospital_name')\n",
    "hospitals_staff"
   ]
  },
  {
   "cell_type": "code",
   "execution_count": null,
   "metadata": {},
   "outputs": [],
   "source": [
    "# Read Hospitals Insuarance Info\n",
    "hospitals_insuarance = pd.read_csv('Resources/healthcare_census.csv')\n",
    "hospitals_insuarance = hospitals_insuarance.filter(['Provider Id', 'Provider Name', 'Provider Zip Code',\n",
    "                                              'Average Covered Charges', 'Average Total Payments'])\n",
    "hospitals_insuarance = hospitals_insuarance.rename(columns={\n",
    "                                        'Provider Id': 'provider_id', 'Provider Name': 'hospital_name',\n",
    "                                        'Provider Zip Code': 'zip_code', 'Average Covered Charges': 'avg_cov_charges',\n",
    "                                        'Average Total Payments': 'avg_tot_payments'})\n",
    "hospitals_insuarance.set_index(\"provider_id\", inplace=True)\n",
    "hospitals_insuarance = hospitals_insuarance.sort_values('hospital_name')\n",
    "hospitals_insuarance.head()"
   ]
  },
  {
   "cell_type": "code",
   "execution_count": null,
   "metadata": {},
   "outputs": [],
   "source": [
    "# Confirm tables\n",
    "engine.table_names()"
   ]
  },
  {
   "cell_type": "markdown",
   "metadata": {},
   "source": [
    "#### Normalization\n",
    "* NPI (National Provider Identifier) - unique identification number for health care providers\n",
    "* Hospital Name\n",
    "* Composite key: Zip code + address"
   ]
  },
  {
   "cell_type": "code",
   "execution_count": null,
   "metadata": {},
   "outputs": [],
   "source": [
    "# Check Hospitals List Inconsistency for California\n",
    "esri_list = hosp_request_result['hospital_name'].unique().tolist()\n",
    "esri_upper_list = []\n",
    "[esri_upper_list.append(i.upper()) for i in esri_list]\n",
    "staff_list = hospitals_staff['hospital_name'].unique().tolist()\n",
    "hopsitals_list = []\n",
    "[hopsitals_list.append(name)for name in staff_list if name in esri_upper_list]\n",
    "len(hopsitals_list)"
   ]
  },
  {
   "cell_type": "code",
   "execution_count": null,
   "metadata": {},
   "outputs": [],
   "source": [
    "esri_upper_list[:20]"
   ]
  },
  {
   "cell_type": "code",
   "execution_count": null,
   "metadata": {},
   "outputs": [],
   "source": [
    "staff_list[:10]"
   ]
  },
  {
   "cell_type": "markdown",
   "metadata": {},
   "source": [
    "* Overall, normalization requires more time and resources"
   ]
  },
  {
   "cell_type": "code",
   "execution_count": null,
   "metadata": {},
   "outputs": [],
   "source": [
    "# Load US hospitals info\n",
    "hospitals_info.to_sql(name='hospitals_info', con=engine, if_exists='append', index=True)"
   ]
  },
  {
   "cell_type": "code",
   "execution_count": null,
   "metadata": {},
   "outputs": [],
   "source": [
    "# Load US hospitals_staff\n",
    "# hospitals_insuarance.to_sql(name='hospitals_insuarance', con=engine, if_exists='append', index=True)"
   ]
  },
  {
   "cell_type": "code",
   "execution_count": null,
   "metadata": {},
   "outputs": [],
   "source": []
  }
 ],
 "metadata": {
  "kernelspec": {
   "display_name": "Python 3",
   "language": "python",
   "name": "python3"
  },
  "language_info": {
   "codemirror_mode": {
    "name": "ipython",
    "version": 3
   },
   "file_extension": ".py",
   "mimetype": "text/x-python",
   "name": "python",
   "nbconvert_exporter": "python",
   "pygments_lexer": "ipython3",
   "version": "3.8.2"
  }
 },
 "nbformat": 4,
 "nbformat_minor": 4
}
