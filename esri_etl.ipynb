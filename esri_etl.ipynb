{
 "cells": [
  {
   "cell_type": "markdown",
   "metadata": {},
   "source": [
    "## ETL Project: USA HOSPITALS\n",
    "#### Dependencies and Setup"
   ]
  },
  {
   "cell_type": "code",
   "execution_count": 79,
   "metadata": {},
   "outputs": [],
   "source": [
    "import requests\n",
    "import psycopg2\n",
    "import pandas as pd\n",
    "import config as creds\n",
    "import sqlalchemy as sqlalchemy_package"
   ]
  },
  {
   "cell_type": "markdown",
   "metadata": {},
   "source": [
    "#### Extracting Data via API interaction \n",
    "* ESRI Dataset: Definitive Healthcare: USA Hospital Beds"
   ]
  },
  {
   "cell_type": "code",
   "execution_count": 8,
   "metadata": {},
   "outputs": [],
   "source": [
    "# Query URL\n",
    "url = f\"https://services7.arcgis.com/LXCny1HyhQCUSueu/arcgis/rest/services/Definitive_Healthcare_USA_Hospital_Beds/FeatureServer/0/query?where=1%3D1&outFields=*&outSR=4326&f=json\""
   ]
  },
  {
   "cell_type": "code",
   "execution_count": 30,
   "metadata": {},
   "outputs": [
    {
     "data": {
      "text/plain": [
       "{'OBJECTID': 2,\n",
       " 'HOSPITAL_NAME': 'Southern Arizona VA Health Care System',\n",
       " 'HOSPITAL_TYPE': 'VA Hospital',\n",
       " 'HQ_ADDRESS': '3601 S 6th Ave',\n",
       " 'HQ_ADDRESS1': None,\n",
       " 'HQ_CITY': 'Tucson',\n",
       " 'HQ_STATE': 'AZ',\n",
       " 'HQ_ZIP_CODE': '85723',\n",
       " 'COUNTY_NAME': 'Pima',\n",
       " 'STATE_NAME': 'Arizona',\n",
       " 'STATE_FIPS': '04',\n",
       " 'CNTY_FIPS': '019',\n",
       " 'FIPS': '04019',\n",
       " 'NUM_LICENSED_BEDS': 295,\n",
       " 'NUM_STAFFED_BEDS': 295,\n",
       " 'NUM_ICU_BEDS': 2,\n",
       " 'ADULT_ICU_BEDS': 2,\n",
       " 'PEDI_ICU_BEDS': None,\n",
       " 'BED_UTILIZATION': None,\n",
       " 'Potential_Increase_In_Bed_Capac': 0,\n",
       " 'AVG_VENTILATOR_USAGE': 2}"
      ]
     },
     "execution_count": 30,
     "metadata": {},
     "output_type": "execute_result"
    }
   ],
   "source": [
    "# Get Hospitals JSON data\n",
    "response = requests.get(url).json()\n",
    "hospitals_data = response['features']\n",
    "hospitals_data[1]['attributes']"
   ]
  },
  {
   "cell_type": "code",
   "execution_count": 95,
   "metadata": {},
   "outputs": [],
   "source": [
    "# Create Lists of Data Dictionaries\n",
    "hospitals = []\n",
    "hospitals_beds = []\n",
    "hospitals_location = []\n",
    "hospitals_geometry = []\n",
    "number = 1\n",
    "for record in hospitals_data:\n",
    "    hospital_id = str(number) + \"-\" + record['attributes']['FIPS']\n",
    "    number += 1\n",
    "    # create hospitals dataset\n",
    "    row = {}\n",
    "    row['id'] = hospital_id\n",
    "    row['hospital_name'] = record['attributes']['HOSPITAL_NAME']\n",
    "    hospitals.append(row)\n",
    "    # create hospitals beds dataset\n",
    "    row = {}\n",
    "    row['id'] = hospital_id\n",
    "    row['licensed_beds'] = record['attributes']['NUM_LICENSED_BEDS']\n",
    "    row['icu_beds'] = record['attributes']['NUM_ICU_BEDS']\n",
    "    row['ventilator_usage'] = record['attributes']['AVG_VENTILATOR_USAGE']\n",
    "    hospitals_beds.append(row)\n",
    "    # create hospitals location dataset\n",
    "    row = {}\n",
    "    row['id'] = hospital_id\n",
    "    row['hospital_type'] = record['attributes']['HOSPITAL_TYPE']\n",
    "    row['hospital_hq_address'] = record['attributes']['HQ_ADDRESS']\n",
    "    row['hospital_hq_city'] = record['attributes']['HQ_CITY']\n",
    "    row['hospital_hq_state'] = record['attributes']['HQ_STATE']\n",
    "    row['hospital_hq_zip_code'] = record['attributes']['HQ_ZIP_CODE']\n",
    "    row['state_name'] = record['attributes']['STATE_NAME']\n",
    "    hospitals_location.append(row)\n",
    "    # create hospitals geometry\n",
    "    row = {}\n",
    "    row['id'] = hospital_id\n",
    "    row['lat'] = record['geometry']['x']\n",
    "    row['lng'] = record['geometry']['y']\n",
    "    hospitals_geometry.append(row)    "
   ]
  },
  {
   "cell_type": "markdown",
   "metadata": {},
   "source": [
    "#### Transformation Data\n",
    "* Converting lists of dictionaries into DataFrames"
   ]
  },
  {
   "cell_type": "code",
   "execution_count": 96,
   "metadata": {},
   "outputs": [
    {
     "data": {
      "text/html": [
       "<div>\n",
       "<style scoped>\n",
       "    .dataframe tbody tr th:only-of-type {\n",
       "        vertical-align: middle;\n",
       "    }\n",
       "\n",
       "    .dataframe tbody tr th {\n",
       "        vertical-align: top;\n",
       "    }\n",
       "\n",
       "    .dataframe thead th {\n",
       "        text-align: right;\n",
       "    }\n",
       "</style>\n",
       "<table border=\"1\" class=\"dataframe\">\n",
       "  <thead>\n",
       "    <tr style=\"text-align: right;\">\n",
       "      <th></th>\n",
       "      <th>lat</th>\n",
       "      <th>lng</th>\n",
       "    </tr>\n",
       "    <tr>\n",
       "      <th>id</th>\n",
       "      <th></th>\n",
       "      <th></th>\n",
       "    </tr>\n",
       "  </thead>\n",
       "  <tbody>\n",
       "    <tr>\n",
       "      <th>1-04013</th>\n",
       "      <td>-112.066157</td>\n",
       "      <td>33.495498</td>\n",
       "    </tr>\n",
       "    <tr>\n",
       "      <th>2-04019</th>\n",
       "      <td>-110.965885</td>\n",
       "      <td>32.181263</td>\n",
       "    </tr>\n",
       "    <tr>\n",
       "      <th>3-06019</th>\n",
       "      <td>-119.779742</td>\n",
       "      <td>36.773324</td>\n",
       "    </tr>\n",
       "    <tr>\n",
       "      <th>4-09009</th>\n",
       "      <td>-72.957610</td>\n",
       "      <td>41.284400</td>\n",
       "    </tr>\n",
       "    <tr>\n",
       "      <th>5-10003</th>\n",
       "      <td>-75.606532</td>\n",
       "      <td>39.740206</td>\n",
       "    </tr>\n",
       "  </tbody>\n",
       "</table>\n",
       "</div>"
      ],
      "text/plain": [
       "                lat        lng\n",
       "id                            \n",
       "1-04013 -112.066157  33.495498\n",
       "2-04019 -110.965885  32.181263\n",
       "3-06019 -119.779742  36.773324\n",
       "4-09009  -72.957610  41.284400\n",
       "5-10003  -75.606532  39.740206"
      ]
     },
     "execution_count": 96,
     "metadata": {},
     "output_type": "execute_result"
    }
   ],
   "source": [
    "# Creating DataFrame for Hospitals \n",
    "hospitals_geometry_pd = pd.DataFrame(hospitals_geometry)\n",
    "hospitals_geometry_pd.set_index(\"id\", inplace=True)\n",
    "hospitals_geometry_pd.head(5)"
   ]
  },
  {
   "cell_type": "code",
   "execution_count": 90,
   "metadata": {},
   "outputs": [
    {
     "data": {
      "text/html": [
       "<div>\n",
       "<style scoped>\n",
       "    .dataframe tbody tr th:only-of-type {\n",
       "        vertical-align: middle;\n",
       "    }\n",
       "\n",
       "    .dataframe tbody tr th {\n",
       "        vertical-align: top;\n",
       "    }\n",
       "\n",
       "    .dataframe thead th {\n",
       "        text-align: right;\n",
       "    }\n",
       "</style>\n",
       "<table border=\"1\" class=\"dataframe\">\n",
       "  <thead>\n",
       "    <tr style=\"text-align: right;\">\n",
       "      <th></th>\n",
       "      <th>hospital_type</th>\n",
       "      <th>hospital_hq_address</th>\n",
       "      <th>hospital_hq_city</th>\n",
       "      <th>hospital_hq_state</th>\n",
       "      <th>hospital_hq_zip_code</th>\n",
       "      <th>state_name</th>\n",
       "    </tr>\n",
       "    <tr>\n",
       "      <th>id</th>\n",
       "      <th></th>\n",
       "      <th></th>\n",
       "      <th></th>\n",
       "      <th></th>\n",
       "      <th></th>\n",
       "      <th></th>\n",
       "    </tr>\n",
       "  </thead>\n",
       "  <tbody>\n",
       "    <tr>\n",
       "      <th>1-04013</th>\n",
       "      <td>VA Hospital</td>\n",
       "      <td>650 E Indian School Rd</td>\n",
       "      <td>Phoenix</td>\n",
       "      <td>AZ</td>\n",
       "      <td>85012</td>\n",
       "      <td>Arizona</td>\n",
       "    </tr>\n",
       "    <tr>\n",
       "      <th>2-04019</th>\n",
       "      <td>VA Hospital</td>\n",
       "      <td>3601 S 6th Ave</td>\n",
       "      <td>Tucson</td>\n",
       "      <td>AZ</td>\n",
       "      <td>85723</td>\n",
       "      <td>Arizona</td>\n",
       "    </tr>\n",
       "    <tr>\n",
       "      <th>3-06019</th>\n",
       "      <td>VA Hospital</td>\n",
       "      <td>2615 E Clinton Ave</td>\n",
       "      <td>Fresno</td>\n",
       "      <td>CA</td>\n",
       "      <td>93703</td>\n",
       "      <td>California</td>\n",
       "    </tr>\n",
       "    <tr>\n",
       "      <th>4-09009</th>\n",
       "      <td>VA Hospital</td>\n",
       "      <td>950 Campbell Ave</td>\n",
       "      <td>West Haven</td>\n",
       "      <td>CT</td>\n",
       "      <td>6516</td>\n",
       "      <td>Connecticut</td>\n",
       "    </tr>\n",
       "    <tr>\n",
       "      <th>5-10003</th>\n",
       "      <td>VA Hospital</td>\n",
       "      <td>1601 Kirkwood Hwy</td>\n",
       "      <td>Wilmington</td>\n",
       "      <td>DE</td>\n",
       "      <td>19805</td>\n",
       "      <td>Delaware</td>\n",
       "    </tr>\n",
       "  </tbody>\n",
       "</table>\n",
       "</div>"
      ],
      "text/plain": [
       "        hospital_type     hospital_hq_address hospital_hq_city  \\\n",
       "id                                                               \n",
       "1-04013   VA Hospital  650 E Indian School Rd          Phoenix   \n",
       "2-04019   VA Hospital          3601 S 6th Ave           Tucson   \n",
       "3-06019   VA Hospital      2615 E Clinton Ave           Fresno   \n",
       "4-09009   VA Hospital        950 Campbell Ave       West Haven   \n",
       "5-10003   VA Hospital       1601 Kirkwood Hwy       Wilmington   \n",
       "\n",
       "        hospital_hq_state hospital_hq_zip_code   state_name  \n",
       "id                                                           \n",
       "1-04013                AZ                85012      Arizona  \n",
       "2-04019                AZ                85723      Arizona  \n",
       "3-06019                CA                93703   California  \n",
       "4-09009                CT                 6516  Connecticut  \n",
       "5-10003                DE                19805     Delaware  "
      ]
     },
     "execution_count": 90,
     "metadata": {},
     "output_type": "execute_result"
    }
   ],
   "source": [
    "# Creating DataFrame for Hospitals Location Data\n",
    "hospitals_location_pd = pd.DataFrame(hospitals_location)\n",
    "hospitals_location_pd.set_index(\"id\", inplace=True)\n",
    "hospitals_location_pd.head(5)"
   ]
  },
  {
   "cell_type": "code",
   "execution_count": 88,
   "metadata": {},
   "outputs": [
    {
     "data": {
      "text/html": [
       "<div>\n",
       "<style scoped>\n",
       "    .dataframe tbody tr th:only-of-type {\n",
       "        vertical-align: middle;\n",
       "    }\n",
       "\n",
       "    .dataframe tbody tr th {\n",
       "        vertical-align: top;\n",
       "    }\n",
       "\n",
       "    .dataframe thead th {\n",
       "        text-align: right;\n",
       "    }\n",
       "</style>\n",
       "<table border=\"1\" class=\"dataframe\">\n",
       "  <thead>\n",
       "    <tr style=\"text-align: right;\">\n",
       "      <th></th>\n",
       "      <th>licensed_beds</th>\n",
       "      <th>icu_beds</th>\n",
       "      <th>ventilator_usage</th>\n",
       "    </tr>\n",
       "    <tr>\n",
       "      <th>id</th>\n",
       "      <th></th>\n",
       "      <th></th>\n",
       "      <th></th>\n",
       "    </tr>\n",
       "  </thead>\n",
       "  <tbody>\n",
       "    <tr>\n",
       "      <th>1-04013</th>\n",
       "      <td>62.0</td>\n",
       "      <td>0</td>\n",
       "      <td>0</td>\n",
       "    </tr>\n",
       "    <tr>\n",
       "      <th>2-04019</th>\n",
       "      <td>295.0</td>\n",
       "      <td>2</td>\n",
       "      <td>2</td>\n",
       "    </tr>\n",
       "    <tr>\n",
       "      <th>3-06019</th>\n",
       "      <td>54.0</td>\n",
       "      <td>2</td>\n",
       "      <td>2</td>\n",
       "    </tr>\n",
       "    <tr>\n",
       "      <th>4-09009</th>\n",
       "      <td>216.0</td>\n",
       "      <td>1</td>\n",
       "      <td>2</td>\n",
       "    </tr>\n",
       "    <tr>\n",
       "      <th>5-10003</th>\n",
       "      <td>62.0</td>\n",
       "      <td>0</td>\n",
       "      <td>1</td>\n",
       "    </tr>\n",
       "  </tbody>\n",
       "</table>\n",
       "</div>"
      ],
      "text/plain": [
       "         licensed_beds  icu_beds  ventilator_usage\n",
       "id                                                \n",
       "1-04013           62.0         0                 0\n",
       "2-04019          295.0         2                 2\n",
       "3-06019           54.0         2                 2\n",
       "4-09009          216.0         1                 2\n",
       "5-10003           62.0         0                 1"
      ]
     },
     "execution_count": 88,
     "metadata": {},
     "output_type": "execute_result"
    }
   ],
   "source": [
    "# Creating DataFrame for Hospitals \n",
    "hospitals_beds_pd = pd.DataFrame(hospitals_beds)\n",
    "hospitals_beds_pd.set_index(\"id\", inplace=True)\n",
    "hospitals_beds_pd.head(5)"
   ]
  },
  {
   "cell_type": "code",
   "execution_count": 77,
   "metadata": {},
   "outputs": [
    {
     "data": {
      "text/html": [
       "<div>\n",
       "<style scoped>\n",
       "    .dataframe tbody tr th:only-of-type {\n",
       "        vertical-align: middle;\n",
       "    }\n",
       "\n",
       "    .dataframe tbody tr th {\n",
       "        vertical-align: top;\n",
       "    }\n",
       "\n",
       "    .dataframe thead th {\n",
       "        text-align: right;\n",
       "    }\n",
       "</style>\n",
       "<table border=\"1\" class=\"dataframe\">\n",
       "  <thead>\n",
       "    <tr style=\"text-align: right;\">\n",
       "      <th></th>\n",
       "      <th>hospital_name</th>\n",
       "    </tr>\n",
       "    <tr>\n",
       "      <th>id</th>\n",
       "      <th></th>\n",
       "    </tr>\n",
       "  </thead>\n",
       "  <tbody>\n",
       "    <tr>\n",
       "      <th>1-04013</th>\n",
       "      <td>Phoenix VA Health Care System (AKA Carl T Hayd...</td>\n",
       "    </tr>\n",
       "    <tr>\n",
       "      <th>2-04019</th>\n",
       "      <td>Southern Arizona VA Health Care System</td>\n",
       "    </tr>\n",
       "    <tr>\n",
       "      <th>3-06019</th>\n",
       "      <td>VA Central California Health Care System</td>\n",
       "    </tr>\n",
       "    <tr>\n",
       "      <th>4-09009</th>\n",
       "      <td>VA Connecticut Healthcare System - West Haven ...</td>\n",
       "    </tr>\n",
       "    <tr>\n",
       "      <th>5-10003</th>\n",
       "      <td>Wilmington VA Medical Center</td>\n",
       "    </tr>\n",
       "  </tbody>\n",
       "</table>\n",
       "</div>"
      ],
      "text/plain": [
       "                                             hospital_name\n",
       "id                                                        \n",
       "1-04013  Phoenix VA Health Care System (AKA Carl T Hayd...\n",
       "2-04019             Southern Arizona VA Health Care System\n",
       "3-06019           VA Central California Health Care System\n",
       "4-09009  VA Connecticut Healthcare System - West Haven ...\n",
       "5-10003                       Wilmington VA Medical Center"
      ]
     },
     "execution_count": 77,
     "metadata": {},
     "output_type": "execute_result"
    }
   ],
   "source": [
    "# Creating DataFrame for Hospitals \n",
    "hospitals_pd = pd.DataFrame(hospitals)\n",
    "hospitals_pd.set_index(\"id\", inplace=True)\n",
    "hospitals_pd.head(5)"
   ]
  },
  {
   "cell_type": "markdown",
   "metadata": {},
   "source": [
    "### Create database connection"
   ]
  },
  {
   "cell_type": "code",
   "execution_count": 82,
   "metadata": {},
   "outputs": [],
   "source": [
    "# Create PostgreSQL database connection using credentials form config.sys\n",
    "database_url = f\"postgres://{creds.PGUSER}:{creds.PGPASSWORD}@{creds.PGHOST}:5432/{creds.PGDATABASE}\"\n",
    "engine = sqlalchemy_package.create_engine(database_url,\n",
    "                connect_args={'options': '-csearch_path={}'.format(creds.DBSCHEMA)})"
   ]
  },
  {
   "cell_type": "code",
   "execution_count": 85,
   "metadata": {},
   "outputs": [
    {
     "data": {
      "text/plain": [
       "['us_hospitals', 'hospitals_location', 'hospitals_beds', 'hospitals_geometry']"
      ]
     },
     "execution_count": 85,
     "metadata": {},
     "output_type": "execute_result"
    }
   ],
   "source": [
    "# Confirm tables\n",
    "engine.table_names()"
   ]
  },
  {
   "cell_type": "markdown",
   "metadata": {},
   "source": [
    "### Load DataFrames into database"
   ]
  },
  {
   "cell_type": "code",
   "execution_count": 84,
   "metadata": {},
   "outputs": [],
   "source": [
    "# Load US hospitals list\n",
    "hospitals_pd.to_sql(name='us_hospitals', con=engine, if_exists='append', index=True)"
   ]
  },
  {
   "cell_type": "code",
   "execution_count": 89,
   "metadata": {},
   "outputs": [],
   "source": [
    "# Load US hospitals beds\n",
    "hospitals_beds_pd.to_sql(name='hospitals_beds', con=engine, if_exists='append', index=True)"
   ]
  },
  {
   "cell_type": "code",
   "execution_count": 93,
   "metadata": {},
   "outputs": [],
   "source": [
    "# Load US hospitals location\n",
    "hospitals_location_pd.to_sql(name='hospitals_location', con=engine, if_exists='append', index=True)"
   ]
  },
  {
   "cell_type": "code",
   "execution_count": 97,
   "metadata": {},
   "outputs": [],
   "source": [
    "# Load US hospitals geometry\n",
    "hospitals_geometry_pd.to_sql(name='hospitals_geometry', con=engine, if_exists='append', index=True)"
   ]
  },
  {
   "cell_type": "markdown",
   "metadata": {},
   "source": [
    "### Query Analysis"
   ]
  },
  {
   "cell_type": "code",
   "execution_count": 99,
   "metadata": {},
   "outputs": [],
   "source": [
    "def load_data(schema='public', table='us_hospitals', query=None):\n",
    "    if query == None:\n",
    "        sql_command = \"SELECT * FROM {}.{};\".format(str(schema), str(table))\n",
    "    else: sql_command = query\n",
    "    print ('Query:',sql_command)\n",
    "    # Load the data\n",
    "    data = pd.read_sql(sql_command, conn)\n",
    "    print('Data shape:',data.shape)\n",
    "    return (data)"
   ]
  },
  {
   "cell_type": "code",
   "execution_count": 100,
   "metadata": {},
   "outputs": [
    {
     "name": "stdout",
     "output_type": "stream",
     "text": [
      "Query: \n",
      "    SELECT h.hospital_name, l.hospital_type, l.state_name, b.licensed_beds\n",
      "    FROM hospitals AS h\n",
      "    INNER JOIN hospitals_beds AS b USING (id)\n",
      "    INNER JOIN hospitals_location AS l USING (id);\n",
      "    \n"
     ]
    },
    {
     "ename": "NameError",
     "evalue": "name 'conn' is not defined",
     "output_type": "error",
     "traceback": [
      "\u001b[0;31m---------------------------------------------------------------------------\u001b[0m",
      "\u001b[0;31mNameError\u001b[0m                                 Traceback (most recent call last)",
      "\u001b[0;32m<ipython-input-100-4f5b042e18a8>\u001b[0m in \u001b[0;36m<module>\u001b[0;34m\u001b[0m\n\u001b[1;32m      5\u001b[0m     \u001b[0mINNER\u001b[0m \u001b[0mJOIN\u001b[0m \u001b[0mhospitals_location\u001b[0m \u001b[0mAS\u001b[0m \u001b[0ml\u001b[0m \u001b[0mUSING\u001b[0m \u001b[0;34m(\u001b[0m\u001b[0mid\u001b[0m\u001b[0;34m)\u001b[0m\u001b[0;34m;\u001b[0m\u001b[0;34m\u001b[0m\u001b[0;34m\u001b[0m\u001b[0m\n\u001b[1;32m      6\u001b[0m     \"\"\"\n\u001b[0;32m----> 7\u001b[0;31m \u001b[0mhosp_data\u001b[0m \u001b[0;34m=\u001b[0m \u001b[0mload_data\u001b[0m\u001b[0;34m(\u001b[0m\u001b[0mquery\u001b[0m\u001b[0;34m=\u001b[0m\u001b[0mhospitals_request\u001b[0m\u001b[0;34m)\u001b[0m\u001b[0;34m\u001b[0m\u001b[0;34m\u001b[0m\u001b[0m\n\u001b[0m\u001b[1;32m      8\u001b[0m \u001b[0mhosp_data\u001b[0m\u001b[0;34m.\u001b[0m\u001b[0mhead\u001b[0m\u001b[0;34m(\u001b[0m\u001b[0;34m)\u001b[0m\u001b[0;34m\u001b[0m\u001b[0;34m\u001b[0m\u001b[0m\n",
      "\u001b[0;32m<ipython-input-99-ec41d1c00979>\u001b[0m in \u001b[0;36mload_data\u001b[0;34m(schema, table, query)\u001b[0m\n\u001b[1;32m      5\u001b[0m     \u001b[0mprint\u001b[0m \u001b[0;34m(\u001b[0m\u001b[0;34m'Query:'\u001b[0m\u001b[0;34m,\u001b[0m\u001b[0msql_command\u001b[0m\u001b[0;34m)\u001b[0m\u001b[0;34m\u001b[0m\u001b[0;34m\u001b[0m\u001b[0m\n\u001b[1;32m      6\u001b[0m     \u001b[0;31m# Load the data\u001b[0m\u001b[0;34m\u001b[0m\u001b[0;34m\u001b[0m\u001b[0;34m\u001b[0m\u001b[0m\n\u001b[0;32m----> 7\u001b[0;31m     \u001b[0mdata\u001b[0m \u001b[0;34m=\u001b[0m \u001b[0mpd\u001b[0m\u001b[0;34m.\u001b[0m\u001b[0mread_sql\u001b[0m\u001b[0;34m(\u001b[0m\u001b[0msql_command\u001b[0m\u001b[0;34m,\u001b[0m \u001b[0mconn\u001b[0m\u001b[0;34m)\u001b[0m\u001b[0;34m\u001b[0m\u001b[0;34m\u001b[0m\u001b[0m\n\u001b[0m\u001b[1;32m      8\u001b[0m     \u001b[0mprint\u001b[0m\u001b[0;34m(\u001b[0m\u001b[0;34m'Data shape:'\u001b[0m\u001b[0;34m,\u001b[0m\u001b[0mdata\u001b[0m\u001b[0;34m.\u001b[0m\u001b[0mshape\u001b[0m\u001b[0;34m)\u001b[0m\u001b[0;34m\u001b[0m\u001b[0;34m\u001b[0m\u001b[0m\n\u001b[1;32m      9\u001b[0m     \u001b[0;32mreturn\u001b[0m \u001b[0;34m(\u001b[0m\u001b[0mdata\u001b[0m\u001b[0;34m)\u001b[0m\u001b[0;34m\u001b[0m\u001b[0;34m\u001b[0m\u001b[0m\n",
      "\u001b[0;31mNameError\u001b[0m: name 'conn' is not defined"
     ]
    }
   ],
   "source": [
    "hospitals_request = \"\"\"\n",
    "    SELECT h.hospital_name, l.hospital_type, l.state_name, b.licensed_beds\n",
    "    FROM hospitals AS h\n",
    "    INNER JOIN hospitals_beds AS b USING (id)\n",
    "    INNER JOIN hospitals_location AS l USING (id);\n",
    "    \"\"\"\n",
    "hosp_data = load_data(query=hospitals_request)\n",
    "hosp_data.head()"
   ]
  },
  {
   "cell_type": "code",
   "execution_count": null,
   "metadata": {},
   "outputs": [],
   "source": []
  }
 ],
 "metadata": {
  "kernelspec": {
   "display_name": "Python 3",
   "language": "python",
   "name": "python3"
  },
  "language_info": {
   "codemirror_mode": {
    "name": "ipython",
    "version": 3
   },
   "file_extension": ".py",
   "mimetype": "text/x-python",
   "name": "python",
   "nbconvert_exporter": "python",
   "pygments_lexer": "ipython3",
   "version": "3.8.2"
  }
 },
 "nbformat": 4,
 "nbformat_minor": 4
}
