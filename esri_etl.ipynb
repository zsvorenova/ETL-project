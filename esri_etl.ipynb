{
 "cells": [
  {
   "cell_type": "markdown",
   "metadata": {},
   "source": [
    "## ETL Project: USA HOSPITALS\n",
    "#### Dependencies and Setup"
   ]
  },
  {
   "cell_type": "code",
   "execution_count": 2,
   "metadata": {},
   "outputs": [],
   "source": [
    "import requests\n",
    "import psycopg2\n",
    "import pandas as pd\n",
    "import config as creds\n",
    "import sqlalchemy as sqlalchemy_package"
   ]
  },
  {
   "cell_type": "markdown",
   "metadata": {},
   "source": [
    "#### Extracting Data via API interaction \n",
    "* ESRI Dataset: Definitive Healthcare: USA Hospital Beds"
   ]
  },
  {
   "cell_type": "code",
   "execution_count": 3,
   "metadata": {},
   "outputs": [],
   "source": [
    "# Query URL\n",
    "url = f\"https://services7.arcgis.com/LXCny1HyhQCUSueu/arcgis/rest/services/Definitive_Healthcare_USA_Hospital_Beds/FeatureServer/0/query?where=1%3D1&outFields=*&outSR=4326&f=json\""
   ]
  },
  {
   "cell_type": "code",
   "execution_count": 4,
   "metadata": {},
   "outputs": [
    {
     "data": {
      "text/plain": [
       "{'OBJECTID': 2,\n",
       " 'HOSPITAL_NAME': 'Southern Arizona VA Health Care System',\n",
       " 'HOSPITAL_TYPE': 'VA Hospital',\n",
       " 'HQ_ADDRESS': '3601 S 6th Ave',\n",
       " 'HQ_ADDRESS1': None,\n",
       " 'HQ_CITY': 'Tucson',\n",
       " 'HQ_STATE': 'AZ',\n",
       " 'HQ_ZIP_CODE': '85723',\n",
       " 'COUNTY_NAME': 'Pima',\n",
       " 'STATE_NAME': 'Arizona',\n",
       " 'STATE_FIPS': '04',\n",
       " 'CNTY_FIPS': '019',\n",
       " 'FIPS': '04019',\n",
       " 'NUM_LICENSED_BEDS': 295,\n",
       " 'NUM_STAFFED_BEDS': 295,\n",
       " 'NUM_ICU_BEDS': 2,\n",
       " 'ADULT_ICU_BEDS': 2,\n",
       " 'PEDI_ICU_BEDS': None,\n",
       " 'BED_UTILIZATION': None,\n",
       " 'Potential_Increase_In_Bed_Capac': 0,\n",
       " 'AVG_VENTILATOR_USAGE': 2}"
      ]
     },
     "execution_count": 4,
     "metadata": {},
     "output_type": "execute_result"
    }
   ],
   "source": [
    "# Get Hospitals JSON data\n",
    "response = requests.get(url).json()\n",
    "hospitals_data = response['features']\n",
    "hospitals_data[1]['attributes']"
   ]
  },
  {
   "cell_type": "code",
   "execution_count": 5,
   "metadata": {},
   "outputs": [],
   "source": [
    "# Create Lists of Data Dictionaries\n",
    "hospitals = []\n",
    "hospitals_beds = []\n",
    "hospitals_location = []\n",
    "hospitals_geometry = []\n",
    "number = 1\n",
    "for record in hospitals_data:\n",
    "    hospital_id = str(number) + \"-\" + record['attributes']['FIPS']\n",
    "    number += 1\n",
    "    # create hospitals dataset\n",
    "    row = {}\n",
    "    row['id'] = hospital_id\n",
    "    row['hospital_name'] = record['attributes']['HOSPITAL_NAME']\n",
    "    hospitals.append(row)\n",
    "    # create hospitals beds dataset\n",
    "    row = {}\n",
    "    row['id'] = hospital_id\n",
    "    row['licensed_beds'] = record['attributes']['NUM_LICENSED_BEDS']\n",
    "    row['icu_beds'] = record['attributes']['NUM_ICU_BEDS']\n",
    "    row['ventilator_usage'] = record['attributes']['AVG_VENTILATOR_USAGE']\n",
    "    hospitals_beds.append(row)\n",
    "    # create hospitals location dataset\n",
    "    row = {}\n",
    "    row['id'] = hospital_id\n",
    "    row['hospital_type'] = record['attributes']['HOSPITAL_TYPE']\n",
    "    row['hospital_hq_address'] = record['attributes']['HQ_ADDRESS']\n",
    "    row['hospital_hq_city'] = record['attributes']['HQ_CITY']\n",
    "    row['hospital_hq_state'] = record['attributes']['HQ_STATE']\n",
    "    row['zip_code'] = record['attributes']['HQ_ZIP_CODE']\n",
    "    row['county_name'] = record['attributes']['COUNTY_NAME']\n",
    "    row['state_name'] = record['attributes']['STATE_NAME']\n",
    "    hospitals_location.append(row)\n",
    "    # create hospitals geometry\n",
    "    row = {}\n",
    "    row['id'] = hospital_id\n",
    "    row['lat'] = record['geometry']['y']\n",
    "    row['lng'] = record['geometry']['x']\n",
    "    hospitals_geometry.append(row)    "
   ]
  },
  {
   "cell_type": "markdown",
   "metadata": {},
   "source": [
    "#### Transformation Data\n",
    "* Converting lists of dictionaries into DataFrames"
   ]
  },
  {
   "cell_type": "code",
   "execution_count": 6,
   "metadata": {},
   "outputs": [
    {
     "data": {
      "text/html": [
       "<div>\n",
       "<style scoped>\n",
       "    .dataframe tbody tr th:only-of-type {\n",
       "        vertical-align: middle;\n",
       "    }\n",
       "\n",
       "    .dataframe tbody tr th {\n",
       "        vertical-align: top;\n",
       "    }\n",
       "\n",
       "    .dataframe thead th {\n",
       "        text-align: right;\n",
       "    }\n",
       "</style>\n",
       "<table border=\"1\" class=\"dataframe\">\n",
       "  <thead>\n",
       "    <tr style=\"text-align: right;\">\n",
       "      <th></th>\n",
       "      <th>lat</th>\n",
       "      <th>lng</th>\n",
       "    </tr>\n",
       "    <tr>\n",
       "      <th>id</th>\n",
       "      <th></th>\n",
       "      <th></th>\n",
       "    </tr>\n",
       "  </thead>\n",
       "  <tbody>\n",
       "    <tr>\n",
       "      <th>1-04013</th>\n",
       "      <td>33.495498</td>\n",
       "      <td>-112.066157</td>\n",
       "    </tr>\n",
       "    <tr>\n",
       "      <th>2-04019</th>\n",
       "      <td>32.181263</td>\n",
       "      <td>-110.965885</td>\n",
       "    </tr>\n",
       "    <tr>\n",
       "      <th>3-06019</th>\n",
       "      <td>36.773324</td>\n",
       "      <td>-119.779742</td>\n",
       "    </tr>\n",
       "    <tr>\n",
       "      <th>4-09009</th>\n",
       "      <td>41.284400</td>\n",
       "      <td>-72.957610</td>\n",
       "    </tr>\n",
       "    <tr>\n",
       "      <th>5-10003</th>\n",
       "      <td>39.740206</td>\n",
       "      <td>-75.606532</td>\n",
       "    </tr>\n",
       "  </tbody>\n",
       "</table>\n",
       "</div>"
      ],
      "text/plain": [
       "               lat         lng\n",
       "id                            \n",
       "1-04013  33.495498 -112.066157\n",
       "2-04019  32.181263 -110.965885\n",
       "3-06019  36.773324 -119.779742\n",
       "4-09009  41.284400  -72.957610\n",
       "5-10003  39.740206  -75.606532"
      ]
     },
     "execution_count": 6,
     "metadata": {},
     "output_type": "execute_result"
    }
   ],
   "source": [
    "# Creating DataFrame for Hospitals \n",
    "hospitals_geometry_pd = pd.DataFrame(hospitals_geometry)\n",
    "hospitals_geometry_pd.set_index(\"id\", inplace=True)\n",
    "hospitals_geometry_pd.head()"
   ]
  },
  {
   "cell_type": "code",
   "execution_count": 7,
   "metadata": {},
   "outputs": [
    {
     "data": {
      "text/html": [
       "<div>\n",
       "<style scoped>\n",
       "    .dataframe tbody tr th:only-of-type {\n",
       "        vertical-align: middle;\n",
       "    }\n",
       "\n",
       "    .dataframe tbody tr th {\n",
       "        vertical-align: top;\n",
       "    }\n",
       "\n",
       "    .dataframe thead th {\n",
       "        text-align: right;\n",
       "    }\n",
       "</style>\n",
       "<table border=\"1\" class=\"dataframe\">\n",
       "  <thead>\n",
       "    <tr style=\"text-align: right;\">\n",
       "      <th></th>\n",
       "      <th>hospital_type</th>\n",
       "      <th>hospital_hq_address</th>\n",
       "      <th>hospital_hq_city</th>\n",
       "      <th>hospital_hq_state</th>\n",
       "      <th>zip_code</th>\n",
       "      <th>county_name</th>\n",
       "      <th>state_name</th>\n",
       "    </tr>\n",
       "    <tr>\n",
       "      <th>id</th>\n",
       "      <th></th>\n",
       "      <th></th>\n",
       "      <th></th>\n",
       "      <th></th>\n",
       "      <th></th>\n",
       "      <th></th>\n",
       "      <th></th>\n",
       "    </tr>\n",
       "  </thead>\n",
       "  <tbody>\n",
       "    <tr>\n",
       "      <th>1-04013</th>\n",
       "      <td>VA Hospital</td>\n",
       "      <td>650 E Indian School Rd</td>\n",
       "      <td>Phoenix</td>\n",
       "      <td>AZ</td>\n",
       "      <td>85012</td>\n",
       "      <td>Maricopa</td>\n",
       "      <td>Arizona</td>\n",
       "    </tr>\n",
       "    <tr>\n",
       "      <th>2-04019</th>\n",
       "      <td>VA Hospital</td>\n",
       "      <td>3601 S 6th Ave</td>\n",
       "      <td>Tucson</td>\n",
       "      <td>AZ</td>\n",
       "      <td>85723</td>\n",
       "      <td>Pima</td>\n",
       "      <td>Arizona</td>\n",
       "    </tr>\n",
       "    <tr>\n",
       "      <th>3-06019</th>\n",
       "      <td>VA Hospital</td>\n",
       "      <td>2615 E Clinton Ave</td>\n",
       "      <td>Fresno</td>\n",
       "      <td>CA</td>\n",
       "      <td>93703</td>\n",
       "      <td>Fresno</td>\n",
       "      <td>California</td>\n",
       "    </tr>\n",
       "    <tr>\n",
       "      <th>4-09009</th>\n",
       "      <td>VA Hospital</td>\n",
       "      <td>950 Campbell Ave</td>\n",
       "      <td>West Haven</td>\n",
       "      <td>CT</td>\n",
       "      <td>6516</td>\n",
       "      <td>New Haven</td>\n",
       "      <td>Connecticut</td>\n",
       "    </tr>\n",
       "    <tr>\n",
       "      <th>5-10003</th>\n",
       "      <td>VA Hospital</td>\n",
       "      <td>1601 Kirkwood Hwy</td>\n",
       "      <td>Wilmington</td>\n",
       "      <td>DE</td>\n",
       "      <td>19805</td>\n",
       "      <td>New Castle</td>\n",
       "      <td>Delaware</td>\n",
       "    </tr>\n",
       "  </tbody>\n",
       "</table>\n",
       "</div>"
      ],
      "text/plain": [
       "        hospital_type     hospital_hq_address hospital_hq_city  \\\n",
       "id                                                               \n",
       "1-04013   VA Hospital  650 E Indian School Rd          Phoenix   \n",
       "2-04019   VA Hospital          3601 S 6th Ave           Tucson   \n",
       "3-06019   VA Hospital      2615 E Clinton Ave           Fresno   \n",
       "4-09009   VA Hospital        950 Campbell Ave       West Haven   \n",
       "5-10003   VA Hospital       1601 Kirkwood Hwy       Wilmington   \n",
       "\n",
       "        hospital_hq_state zip_code county_name   state_name  \n",
       "id                                                           \n",
       "1-04013                AZ    85012    Maricopa      Arizona  \n",
       "2-04019                AZ    85723        Pima      Arizona  \n",
       "3-06019                CA    93703      Fresno   California  \n",
       "4-09009                CT     6516   New Haven  Connecticut  \n",
       "5-10003                DE    19805  New Castle     Delaware  "
      ]
     },
     "execution_count": 7,
     "metadata": {},
     "output_type": "execute_result"
    }
   ],
   "source": [
    "# Creating DataFrame for Hospitals Location Data\n",
    "hospitals_location_pd = pd.DataFrame(hospitals_location)\n",
    "hospitals_location_pd.set_index(\"id\", inplace=True)\n",
    "hospitals_location_pd.head()"
   ]
  },
  {
   "cell_type": "code",
   "execution_count": 8,
   "metadata": {},
   "outputs": [
    {
     "data": {
      "text/html": [
       "<div>\n",
       "<style scoped>\n",
       "    .dataframe tbody tr th:only-of-type {\n",
       "        vertical-align: middle;\n",
       "    }\n",
       "\n",
       "    .dataframe tbody tr th {\n",
       "        vertical-align: top;\n",
       "    }\n",
       "\n",
       "    .dataframe thead th {\n",
       "        text-align: right;\n",
       "    }\n",
       "</style>\n",
       "<table border=\"1\" class=\"dataframe\">\n",
       "  <thead>\n",
       "    <tr style=\"text-align: right;\">\n",
       "      <th></th>\n",
       "      <th>licensed_beds</th>\n",
       "      <th>icu_beds</th>\n",
       "      <th>ventilator_usage</th>\n",
       "    </tr>\n",
       "    <tr>\n",
       "      <th>id</th>\n",
       "      <th></th>\n",
       "      <th></th>\n",
       "      <th></th>\n",
       "    </tr>\n",
       "  </thead>\n",
       "  <tbody>\n",
       "    <tr>\n",
       "      <th>1-04013</th>\n",
       "      <td>62.0</td>\n",
       "      <td>0</td>\n",
       "      <td>0</td>\n",
       "    </tr>\n",
       "    <tr>\n",
       "      <th>2-04019</th>\n",
       "      <td>295.0</td>\n",
       "      <td>2</td>\n",
       "      <td>2</td>\n",
       "    </tr>\n",
       "    <tr>\n",
       "      <th>3-06019</th>\n",
       "      <td>54.0</td>\n",
       "      <td>2</td>\n",
       "      <td>2</td>\n",
       "    </tr>\n",
       "    <tr>\n",
       "      <th>4-09009</th>\n",
       "      <td>216.0</td>\n",
       "      <td>1</td>\n",
       "      <td>2</td>\n",
       "    </tr>\n",
       "    <tr>\n",
       "      <th>5-10003</th>\n",
       "      <td>62.0</td>\n",
       "      <td>0</td>\n",
       "      <td>1</td>\n",
       "    </tr>\n",
       "  </tbody>\n",
       "</table>\n",
       "</div>"
      ],
      "text/plain": [
       "         licensed_beds  icu_beds  ventilator_usage\n",
       "id                                                \n",
       "1-04013           62.0         0                 0\n",
       "2-04019          295.0         2                 2\n",
       "3-06019           54.0         2                 2\n",
       "4-09009          216.0         1                 2\n",
       "5-10003           62.0         0                 1"
      ]
     },
     "execution_count": 8,
     "metadata": {},
     "output_type": "execute_result"
    }
   ],
   "source": [
    "# Creating DataFrame for Hospitals \n",
    "hospitals_beds_pd = pd.DataFrame(hospitals_beds)\n",
    "hospitals_beds_pd.set_index(\"id\", inplace=True)\n",
    "hospitals_beds_pd.head()"
   ]
  },
  {
   "cell_type": "code",
   "execution_count": 9,
   "metadata": {},
   "outputs": [
    {
     "data": {
      "text/html": [
       "<div>\n",
       "<style scoped>\n",
       "    .dataframe tbody tr th:only-of-type {\n",
       "        vertical-align: middle;\n",
       "    }\n",
       "\n",
       "    .dataframe tbody tr th {\n",
       "        vertical-align: top;\n",
       "    }\n",
       "\n",
       "    .dataframe thead th {\n",
       "        text-align: right;\n",
       "    }\n",
       "</style>\n",
       "<table border=\"1\" class=\"dataframe\">\n",
       "  <thead>\n",
       "    <tr style=\"text-align: right;\">\n",
       "      <th></th>\n",
       "      <th>hospital_name</th>\n",
       "    </tr>\n",
       "    <tr>\n",
       "      <th>id</th>\n",
       "      <th></th>\n",
       "    </tr>\n",
       "  </thead>\n",
       "  <tbody>\n",
       "    <tr>\n",
       "      <th>1-04013</th>\n",
       "      <td>Phoenix VA Health Care System (AKA Carl T Hayd...</td>\n",
       "    </tr>\n",
       "    <tr>\n",
       "      <th>2-04019</th>\n",
       "      <td>Southern Arizona VA Health Care System</td>\n",
       "    </tr>\n",
       "    <tr>\n",
       "      <th>3-06019</th>\n",
       "      <td>VA Central California Health Care System</td>\n",
       "    </tr>\n",
       "    <tr>\n",
       "      <th>4-09009</th>\n",
       "      <td>VA Connecticut Healthcare System - West Haven ...</td>\n",
       "    </tr>\n",
       "    <tr>\n",
       "      <th>5-10003</th>\n",
       "      <td>Wilmington VA Medical Center</td>\n",
       "    </tr>\n",
       "    <tr>\n",
       "      <th>...</th>\n",
       "      <td>...</td>\n",
       "    </tr>\n",
       "    <tr>\n",
       "      <th>1996-27047</th>\n",
       "      <td>Mayo Clinic Hospital - Albert Lea</td>\n",
       "    </tr>\n",
       "    <tr>\n",
       "      <th>1997-27049</th>\n",
       "      <td>Mayo Clinic Hospital - Red Wing (FKA Fairview ...</td>\n",
       "    </tr>\n",
       "    <tr>\n",
       "      <th>1998-27049</th>\n",
       "      <td>Mayo Clinic Hospital - Cannon Falls</td>\n",
       "    </tr>\n",
       "    <tr>\n",
       "      <th>1999-27051</th>\n",
       "      <td>Prairie Ridge Hospital and Health Services</td>\n",
       "    </tr>\n",
       "    <tr>\n",
       "      <th>2000-27053</th>\n",
       "      <td>Childrens Hospitals and Clinics of Minnesota -...</td>\n",
       "    </tr>\n",
       "  </tbody>\n",
       "</table>\n",
       "<p>2000 rows × 1 columns</p>\n",
       "</div>"
      ],
      "text/plain": [
       "                                                hospital_name\n",
       "id                                                           \n",
       "1-04013     Phoenix VA Health Care System (AKA Carl T Hayd...\n",
       "2-04019                Southern Arizona VA Health Care System\n",
       "3-06019              VA Central California Health Care System\n",
       "4-09009     VA Connecticut Healthcare System - West Haven ...\n",
       "5-10003                          Wilmington VA Medical Center\n",
       "...                                                       ...\n",
       "1996-27047                  Mayo Clinic Hospital - Albert Lea\n",
       "1997-27049  Mayo Clinic Hospital - Red Wing (FKA Fairview ...\n",
       "1998-27049                Mayo Clinic Hospital - Cannon Falls\n",
       "1999-27051         Prairie Ridge Hospital and Health Services\n",
       "2000-27053  Childrens Hospitals and Clinics of Minnesota -...\n",
       "\n",
       "[2000 rows x 1 columns]"
      ]
     },
     "execution_count": 9,
     "metadata": {},
     "output_type": "execute_result"
    }
   ],
   "source": [
    "# Creating DataFrame for Hospitals \n",
    "hospitals_pd = pd.DataFrame(hospitals)\n",
    "hospitals_pd.set_index(\"id\", inplace=True)\n",
    "hospitals_pd"
   ]
  },
  {
   "cell_type": "code",
   "execution_count": 10,
   "metadata": {},
   "outputs": [
    {
     "data": {
      "text/plain": [
       "1960"
      ]
     },
     "execution_count": 10,
     "metadata": {},
     "output_type": "execute_result"
    }
   ],
   "source": [
    "# Check Number of Unique Hospitals  \n",
    "hospitals_pd_list = hospitals_pd['hospital_name'].unique()\n",
    "len(hospitals_pd_list)"
   ]
  },
  {
   "cell_type": "markdown",
   "metadata": {},
   "source": [
    "### Create database connection"
   ]
  },
  {
   "cell_type": "code",
   "execution_count": 11,
   "metadata": {},
   "outputs": [],
   "source": [
    "# Create PostgreSQL database connection using credentials form config.sys\n",
    "database_url = f\"postgres://{creds.PGUSER}:{creds.PGPASSWORD}@{creds.PGHOST}:5432/{creds.PGDATABASE}\"\n",
    "engine = sqlalchemy_package.create_engine(database_url,\n",
    "                connect_args={'options': '-csearch_path={}'.format(creds.DBSCHEMA)})"
   ]
  },
  {
   "cell_type": "code",
   "execution_count": 26,
   "metadata": {},
   "outputs": [
    {
     "data": {
      "text/plain": [
       "['staffing',\n",
       " 'ca_hospitals',\n",
       " 'hospitals_geometry',\n",
       " 'us_hospitals',\n",
       " 'hospitals_beds',\n",
       " 'hospitals_location',\n",
       " 'hospitals_info']"
      ]
     },
     "execution_count": 26,
     "metadata": {},
     "output_type": "execute_result"
    }
   ],
   "source": [
    "# Confirm tables\n",
    "engine.table_names()"
   ]
  },
  {
   "cell_type": "markdown",
   "metadata": {},
   "source": [
    "### Load DataFrames into database"
   ]
  },
  {
   "cell_type": "code",
   "execution_count": null,
   "metadata": {},
   "outputs": [],
   "source": [
    "# Load US hospitals list\n",
    "hospitals_pd.to_sql(name='us_hospitals', con=engine, if_exists='append', index=True)"
   ]
  },
  {
   "cell_type": "code",
   "execution_count": null,
   "metadata": {},
   "outputs": [],
   "source": [
    "# Load US hospitals beds\n",
    "hospitals_beds_pd.to_sql(name='hospitals_beds', con=engine, if_exists='append', index=True)"
   ]
  },
  {
   "cell_type": "code",
   "execution_count": null,
   "metadata": {},
   "outputs": [],
   "source": [
    "# Load US hospitals location\n",
    "hospitals_location_pd.to_sql(name='hospitals_location', con=engine, if_exists='append', index=True)"
   ]
  },
  {
   "cell_type": "code",
   "execution_count": 13,
   "metadata": {},
   "outputs": [],
   "source": [
    "# Load US hospitals geometry\n",
    "hospitals_geometry_pd.to_sql(name='hospitals_geometry', con=engine, if_exists='append', index=True)"
   ]
  },
  {
   "cell_type": "markdown",
   "metadata": {},
   "source": [
    "### Initial Query Analysis"
   ]
  },
  {
   "cell_type": "code",
   "execution_count": 14,
   "metadata": {},
   "outputs": [],
   "source": [
    "def load_data(schema='public', table='us_hospitals', query=None):\n",
    "    if query == None:\n",
    "        sql_command = \"SELECT * FROM {}.{};\".format(str(schema), str(table))\n",
    "    else: sql_command = query\n",
    "    print ('Query:',sql_command)\n",
    "    # Load the data\n",
    "    data = pd.read_sql(sql_command, conn)\n",
    "    print('Data shape:',data.shape)\n",
    "    return (data)"
   ]
  },
  {
   "cell_type": "code",
   "execution_count": 15,
   "metadata": {},
   "outputs": [],
   "source": [
    "# Set up a connection to the postgres server via database driver\n",
    "conn_string = \"host=\"+ creds.PGHOST +\" port=\"+ \"5432\" +\" dbname=\"+ creds.PGDATABASE +\" user=\" + creds.GROUPUSER \\\n",
    "+\" password=\"+ creds.GROUPPASSWORD\n",
    "conn=psycopg2.connect(conn_string)"
   ]
  },
  {
   "cell_type": "code",
   "execution_count": 17,
   "metadata": {},
   "outputs": [
    {
     "name": "stdout",
     "output_type": "stream",
     "text": [
      "Query: \n",
      "    SELECT h.id, h.hospital_name, l.state_name, l.county_name, l.zip_code, l.hospital_type, b.licensed_beds, g.lat, g.lng\n",
      "    FROM us_hospitals AS h\n",
      "    INNER JOIN hospitals_beds AS b USING (id)\n",
      "    INNER JOIN hospitals_location AS l USING (id)\n",
      "    INNER JOIN hospitals_geometry AS g USING (id)\n",
      "    WHERE l.state_name = 'California'\n",
      "    ORDER BY b.licensed_beds DESC;\n",
      "    \n",
      "Data shape: (322, 9)\n"
     ]
    },
    {
     "data": {
      "text/html": [
       "<div>\n",
       "<style scoped>\n",
       "    .dataframe tbody tr th:only-of-type {\n",
       "        vertical-align: middle;\n",
       "    }\n",
       "\n",
       "    .dataframe tbody tr th {\n",
       "        vertical-align: top;\n",
       "    }\n",
       "\n",
       "    .dataframe thead th {\n",
       "        text-align: right;\n",
       "    }\n",
       "</style>\n",
       "<table border=\"1\" class=\"dataframe\">\n",
       "  <thead>\n",
       "    <tr style=\"text-align: right;\">\n",
       "      <th></th>\n",
       "      <th>hospital_name</th>\n",
       "      <th>state_name</th>\n",
       "      <th>county_name</th>\n",
       "      <th>zip_code</th>\n",
       "      <th>hospital_type</th>\n",
       "      <th>licensed_beds</th>\n",
       "      <th>lat</th>\n",
       "      <th>lng</th>\n",
       "    </tr>\n",
       "    <tr>\n",
       "      <th>id</th>\n",
       "      <th></th>\n",
       "      <th></th>\n",
       "      <th></th>\n",
       "      <th></th>\n",
       "      <th></th>\n",
       "      <th></th>\n",
       "      <th></th>\n",
       "      <th></th>\n",
       "    </tr>\n",
       "  </thead>\n",
       "  <tbody>\n",
       "    <tr>\n",
       "      <th>417-06059</th>\n",
       "      <td>AHMC Anaheim Regional Medical Center</td>\n",
       "      <td>California</td>\n",
       "      <td>Orange</td>\n",
       "      <td>92801</td>\n",
       "      <td>Short Term Acute Care Hospital</td>\n",
       "      <td>223.0</td>\n",
       "      <td>33.848175</td>\n",
       "      <td>-117.934526</td>\n",
       "    </tr>\n",
       "    <tr>\n",
       "      <th>313-06029</th>\n",
       "      <td>Adventist Health Bakersfield (FKA San Joaquin ...</td>\n",
       "      <td>California</td>\n",
       "      <td>Kern</td>\n",
       "      <td>93301</td>\n",
       "      <td>Short Term Acute Care Hospital</td>\n",
       "      <td>254.0</td>\n",
       "      <td>35.383374</td>\n",
       "      <td>-119.020654</td>\n",
       "    </tr>\n",
       "    <tr>\n",
       "      <th>316-06033</th>\n",
       "      <td>Adventist Health Clear Lake (FKA St Helena Hos...</td>\n",
       "      <td>California</td>\n",
       "      <td>Lake</td>\n",
       "      <td>95422</td>\n",
       "      <td>Critical Access Hospital</td>\n",
       "      <td>32.0</td>\n",
       "      <td>38.935500</td>\n",
       "      <td>-122.620100</td>\n",
       "    </tr>\n",
       "    <tr>\n",
       "      <th>349-06037</th>\n",
       "      <td>Adventist Health Glendale (FKA Glendale Advent...</td>\n",
       "      <td>California</td>\n",
       "      <td>Los Angeles</td>\n",
       "      <td>91206</td>\n",
       "      <td>Short Term Acute Care Hospital</td>\n",
       "      <td>415.0</td>\n",
       "      <td>34.150214</td>\n",
       "      <td>-118.230459</td>\n",
       "    </tr>\n",
       "    <tr>\n",
       "      <th>315-06031</th>\n",
       "      <td>Adventist Health Hanford</td>\n",
       "      <td>California</td>\n",
       "      <td>Kings</td>\n",
       "      <td>93230</td>\n",
       "      <td>Short Term Acute Care Hospital</td>\n",
       "      <td>173.0</td>\n",
       "      <td>36.323787</td>\n",
       "      <td>-119.666447</td>\n",
       "    </tr>\n",
       "    <tr>\n",
       "      <th>...</th>\n",
       "      <td>...</td>\n",
       "      <td>...</td>\n",
       "      <td>...</td>\n",
       "      <td>...</td>\n",
       "      <td>...</td>\n",
       "      <td>...</td>\n",
       "      <td>...</td>\n",
       "      <td>...</td>\n",
       "    </tr>\n",
       "    <tr>\n",
       "      <th>370-06037</th>\n",
       "      <td>West Los Angeles Medical Center</td>\n",
       "      <td>California</td>\n",
       "      <td>Los Angeles</td>\n",
       "      <td>90034</td>\n",
       "      <td>Short Term Acute Care Hospital</td>\n",
       "      <td>265.0</td>\n",
       "      <td>34.038347</td>\n",
       "      <td>-118.375900</td>\n",
       "    </tr>\n",
       "    <tr>\n",
       "      <th>372-06037</th>\n",
       "      <td>Whittier Hospital Medical Center</td>\n",
       "      <td>California</td>\n",
       "      <td>Los Angeles</td>\n",
       "      <td>90605</td>\n",
       "      <td>Short Term Acute Care Hospital</td>\n",
       "      <td>156.0</td>\n",
       "      <td>33.949822</td>\n",
       "      <td>-118.003330</td>\n",
       "    </tr>\n",
       "    <tr>\n",
       "      <th>391-06037</th>\n",
       "      <td>Woodland Hills Medical Center</td>\n",
       "      <td>California</td>\n",
       "      <td>Los Angeles</td>\n",
       "      <td>91367</td>\n",
       "      <td>Short Term Acute Care Hospital</td>\n",
       "      <td>274.0</td>\n",
       "      <td>34.170385</td>\n",
       "      <td>-118.589936</td>\n",
       "    </tr>\n",
       "    <tr>\n",
       "      <th>584-06113</th>\n",
       "      <td>Woodland Memorial Hospital</td>\n",
       "      <td>California</td>\n",
       "      <td>Yolo</td>\n",
       "      <td>95695</td>\n",
       "      <td>Short Term Acute Care Hospital</td>\n",
       "      <td>74.0</td>\n",
       "      <td>38.664090</td>\n",
       "      <td>-121.792091</td>\n",
       "    </tr>\n",
       "    <tr>\n",
       "      <th>503-06075</th>\n",
       "      <td>Zuckerberg San Francisco General Hospital (FKA...</td>\n",
       "      <td>California</td>\n",
       "      <td>San Francisco</td>\n",
       "      <td>94110</td>\n",
       "      <td>Short Term Acute Care Hospital</td>\n",
       "      <td>284.0</td>\n",
       "      <td>37.755727</td>\n",
       "      <td>-122.404738</td>\n",
       "    </tr>\n",
       "  </tbody>\n",
       "</table>\n",
       "<p>322 rows × 8 columns</p>\n",
       "</div>"
      ],
      "text/plain": [
       "                                               hospital_name  state_name  \\\n",
       "id                                                                         \n",
       "417-06059               AHMC Anaheim Regional Medical Center  California   \n",
       "313-06029  Adventist Health Bakersfield (FKA San Joaquin ...  California   \n",
       "316-06033  Adventist Health Clear Lake (FKA St Helena Hos...  California   \n",
       "349-06037  Adventist Health Glendale (FKA Glendale Advent...  California   \n",
       "315-06031                           Adventist Health Hanford  California   \n",
       "...                                                      ...         ...   \n",
       "370-06037                    West Los Angeles Medical Center  California   \n",
       "372-06037                   Whittier Hospital Medical Center  California   \n",
       "391-06037                      Woodland Hills Medical Center  California   \n",
       "584-06113                         Woodland Memorial Hospital  California   \n",
       "503-06075  Zuckerberg San Francisco General Hospital (FKA...  California   \n",
       "\n",
       "             county_name  zip_code                   hospital_type  \\\n",
       "id                                                                   \n",
       "417-06059         Orange     92801  Short Term Acute Care Hospital   \n",
       "313-06029           Kern     93301  Short Term Acute Care Hospital   \n",
       "316-06033           Lake     95422        Critical Access Hospital   \n",
       "349-06037    Los Angeles     91206  Short Term Acute Care Hospital   \n",
       "315-06031          Kings     93230  Short Term Acute Care Hospital   \n",
       "...                  ...       ...                             ...   \n",
       "370-06037    Los Angeles     90034  Short Term Acute Care Hospital   \n",
       "372-06037    Los Angeles     90605  Short Term Acute Care Hospital   \n",
       "391-06037    Los Angeles     91367  Short Term Acute Care Hospital   \n",
       "584-06113           Yolo     95695  Short Term Acute Care Hospital   \n",
       "503-06075  San Francisco     94110  Short Term Acute Care Hospital   \n",
       "\n",
       "           licensed_beds        lat         lng  \n",
       "id                                               \n",
       "417-06059          223.0  33.848175 -117.934526  \n",
       "313-06029          254.0  35.383374 -119.020654  \n",
       "316-06033           32.0  38.935500 -122.620100  \n",
       "349-06037          415.0  34.150214 -118.230459  \n",
       "315-06031          173.0  36.323787 -119.666447  \n",
       "...                  ...        ...         ...  \n",
       "370-06037          265.0  34.038347 -118.375900  \n",
       "372-06037          156.0  33.949822 -118.003330  \n",
       "391-06037          274.0  34.170385 -118.589936  \n",
       "584-06113           74.0  38.664090 -121.792091  \n",
       "503-06075          284.0  37.755727 -122.404738  \n",
       "\n",
       "[322 rows x 8 columns]"
      ]
     },
     "execution_count": 17,
     "metadata": {},
     "output_type": "execute_result"
    }
   ],
   "source": [
    "# Create hospitals request for California\n",
    "hospitals_request = \"\"\"\n",
    "    SELECT h.id, h.hospital_name, l.state_name, l.county_name, l.zip_code, l.hospital_type, b.licensed_beds, g.lat, g.lng\n",
    "    FROM us_hospitals AS h\n",
    "    INNER JOIN hospitals_beds AS b USING (id)\n",
    "    INNER JOIN hospitals_location AS l USING (id)\n",
    "    INNER JOIN hospitals_geometry AS g USING (id)\n",
    "    WHERE l.state_name = 'California'\n",
    "    ORDER BY b.licensed_beds DESC;\n",
    "    \"\"\"\n",
    "hosp_request_result = load_data(query=hospitals_request)\n",
    "hosp_request_result.set_index(\"id\", inplace=True)\n",
    "hosp_request_result = hosp_request_result.sort_values('hospital_name')\n",
    "hosp_request_result"
   ]
  },
  {
   "cell_type": "markdown",
   "metadata": {},
   "source": [
    "### Adding New Datasets for Analysis (Secondary ETL Process)\n",
    "* Tables: ca_hospitals, staffing"
   ]
  },
  {
   "cell_type": "code",
   "execution_count": 18,
   "metadata": {},
   "outputs": [
    {
     "name": "stdout",
     "output_type": "stream",
     "text": [
      "Query: \n",
      "    SELECT c.hospital_name, c.county, c.zip_code, c.lat, c.lng, s.year, s.staff_group\n",
      "    FROM ca_hospitals AS c\n",
      "    INNER JOIN staffing AS s USING (hospital_id)\n",
      "    WHERE s.year = 2012\n",
      "    ORDER BY c.hospital_name ASC;\n",
      "    \n",
      "Data shape: (7531, 7)\n"
     ]
    },
    {
     "data": {
      "text/html": [
       "<div>\n",
       "<style scoped>\n",
       "    .dataframe tbody tr th:only-of-type {\n",
       "        vertical-align: middle;\n",
       "    }\n",
       "\n",
       "    .dataframe tbody tr th {\n",
       "        vertical-align: top;\n",
       "    }\n",
       "\n",
       "    .dataframe thead th {\n",
       "        text-align: right;\n",
       "    }\n",
       "</style>\n",
       "<table border=\"1\" class=\"dataframe\">\n",
       "  <thead>\n",
       "    <tr style=\"text-align: right;\">\n",
       "      <th></th>\n",
       "      <th>hospital_name</th>\n",
       "      <th>county</th>\n",
       "      <th>zip_code</th>\n",
       "      <th>lat</th>\n",
       "      <th>lng</th>\n",
       "      <th>year</th>\n",
       "      <th>staff_group</th>\n",
       "    </tr>\n",
       "  </thead>\n",
       "  <tbody>\n",
       "    <tr>\n",
       "      <th>0</th>\n",
       "      <td>ADVENTIST HEALTH AND RIDEOUT</td>\n",
       "      <td>YUBA</td>\n",
       "      <td>95901</td>\n",
       "      <td>39.138805</td>\n",
       "      <td>-121.593602</td>\n",
       "      <td>2012</td>\n",
       "      <td>Fiscal Services Cost Centers</td>\n",
       "    </tr>\n",
       "    <tr>\n",
       "      <th>1</th>\n",
       "      <td>ADVENTIST HEALTH AND RIDEOUT</td>\n",
       "      <td>YUBA</td>\n",
       "      <td>95901</td>\n",
       "      <td>39.138805</td>\n",
       "      <td>-121.593602</td>\n",
       "      <td>2012</td>\n",
       "      <td>Administrative Services Cost Centers</td>\n",
       "    </tr>\n",
       "    <tr>\n",
       "      <th>2</th>\n",
       "      <td>ADVENTIST HEALTH AND RIDEOUT</td>\n",
       "      <td>YUBA</td>\n",
       "      <td>95901</td>\n",
       "      <td>39.138805</td>\n",
       "      <td>-121.593602</td>\n",
       "      <td>2012</td>\n",
       "      <td>Technician &amp; Specialist</td>\n",
       "    </tr>\n",
       "    <tr>\n",
       "      <th>3</th>\n",
       "      <td>ADVENTIST HEALTH AND RIDEOUT</td>\n",
       "      <td>YUBA</td>\n",
       "      <td>95901</td>\n",
       "      <td>39.138805</td>\n",
       "      <td>-121.593602</td>\n",
       "      <td>2012</td>\n",
       "      <td>Registered Nurse</td>\n",
       "    </tr>\n",
       "    <tr>\n",
       "      <th>4</th>\n",
       "      <td>ADVENTIST HEALTH AND RIDEOUT</td>\n",
       "      <td>YUBA</td>\n",
       "      <td>95901</td>\n",
       "      <td>39.138805</td>\n",
       "      <td>-121.593602</td>\n",
       "      <td>2012</td>\n",
       "      <td>Licensed Vocational Nurse</td>\n",
       "    </tr>\n",
       "    <tr>\n",
       "      <th>...</th>\n",
       "      <td>...</td>\n",
       "      <td>...</td>\n",
       "      <td>...</td>\n",
       "      <td>...</td>\n",
       "      <td>...</td>\n",
       "      <td>...</td>\n",
       "      <td>...</td>\n",
       "    </tr>\n",
       "    <tr>\n",
       "      <th>7526</th>\n",
       "      <td>WOODLAND MEMORIAL HOSPITAL</td>\n",
       "      <td>YOLO</td>\n",
       "      <td>95695</td>\n",
       "      <td>38.662840</td>\n",
       "      <td>-121.793300</td>\n",
       "      <td>2012</td>\n",
       "      <td>Daily Cost Centers</td>\n",
       "    </tr>\n",
       "    <tr>\n",
       "      <th>7527</th>\n",
       "      <td>WOODLAND MEMORIAL HOSPITAL</td>\n",
       "      <td>YOLO</td>\n",
       "      <td>95695</td>\n",
       "      <td>38.662840</td>\n",
       "      <td>-121.793300</td>\n",
       "      <td>2012</td>\n",
       "      <td>Ambulatory Cost Centers</td>\n",
       "    </tr>\n",
       "    <tr>\n",
       "      <th>7528</th>\n",
       "      <td>WOODLAND MEMORIAL HOSPITAL</td>\n",
       "      <td>YOLO</td>\n",
       "      <td>95695</td>\n",
       "      <td>38.662840</td>\n",
       "      <td>-121.793300</td>\n",
       "      <td>2012</td>\n",
       "      <td>Ancillary Cost Centers</td>\n",
       "    </tr>\n",
       "    <tr>\n",
       "      <th>7529</th>\n",
       "      <td>WOODLAND MEMORIAL HOSPITAL</td>\n",
       "      <td>YOLO</td>\n",
       "      <td>95695</td>\n",
       "      <td>38.662840</td>\n",
       "      <td>-121.793300</td>\n",
       "      <td>2012</td>\n",
       "      <td>Education Cost Centers</td>\n",
       "    </tr>\n",
       "    <tr>\n",
       "      <th>7530</th>\n",
       "      <td>WOODLAND MEMORIAL HOSPITAL</td>\n",
       "      <td>YOLO</td>\n",
       "      <td>95695</td>\n",
       "      <td>38.662840</td>\n",
       "      <td>-121.793300</td>\n",
       "      <td>2012</td>\n",
       "      <td>General Services Cost Centers</td>\n",
       "    </tr>\n",
       "  </tbody>\n",
       "</table>\n",
       "<p>7531 rows × 7 columns</p>\n",
       "</div>"
      ],
      "text/plain": [
       "                     hospital_name county  zip_code        lat         lng  \\\n",
       "0     ADVENTIST HEALTH AND RIDEOUT   YUBA     95901  39.138805 -121.593602   \n",
       "1     ADVENTIST HEALTH AND RIDEOUT   YUBA     95901  39.138805 -121.593602   \n",
       "2     ADVENTIST HEALTH AND RIDEOUT   YUBA     95901  39.138805 -121.593602   \n",
       "3     ADVENTIST HEALTH AND RIDEOUT   YUBA     95901  39.138805 -121.593602   \n",
       "4     ADVENTIST HEALTH AND RIDEOUT   YUBA     95901  39.138805 -121.593602   \n",
       "...                            ...    ...       ...        ...         ...   \n",
       "7526    WOODLAND MEMORIAL HOSPITAL   YOLO     95695  38.662840 -121.793300   \n",
       "7527    WOODLAND MEMORIAL HOSPITAL   YOLO     95695  38.662840 -121.793300   \n",
       "7528    WOODLAND MEMORIAL HOSPITAL   YOLO     95695  38.662840 -121.793300   \n",
       "7529    WOODLAND MEMORIAL HOSPITAL   YOLO     95695  38.662840 -121.793300   \n",
       "7530    WOODLAND MEMORIAL HOSPITAL   YOLO     95695  38.662840 -121.793300   \n",
       "\n",
       "      year                           staff_group  \n",
       "0     2012          Fiscal Services Cost Centers  \n",
       "1     2012  Administrative Services Cost Centers  \n",
       "2     2012               Technician & Specialist  \n",
       "3     2012                      Registered Nurse  \n",
       "4     2012             Licensed Vocational Nurse  \n",
       "...    ...                                   ...  \n",
       "7526  2012                    Daily Cost Centers  \n",
       "7527  2012               Ambulatory Cost Centers  \n",
       "7528  2012                Ancillary Cost Centers  \n",
       "7529  2012                Education Cost Centers  \n",
       "7530  2012         General Services Cost Centers  \n",
       "\n",
       "[7531 rows x 7 columns]"
      ]
     },
     "execution_count": 18,
     "metadata": {},
     "output_type": "execute_result"
    }
   ],
   "source": [
    "# Create hospitals request for California\n",
    "staff_request = \"\"\"\n",
    "    SELECT c.hospital_name, c.county, c.zip_code, c.lat, c.lng, s.year, s.staff_group\n",
    "    FROM ca_hospitals AS c\n",
    "    INNER JOIN staffing AS s USING (hospital_id)\n",
    "    WHERE s.year = 2012\n",
    "    ORDER BY c.hospital_name ASC;\n",
    "    \"\"\"\n",
    "staff_request_result = load_data(query=staff_request)\n",
    "staff_request_result"
   ]
  },
  {
   "cell_type": "markdown",
   "metadata": {},
   "source": [
    "#### Normalization\n",
    "* NPI (National Provider Identifier) - unique identification number for health care providers\n",
    "* Hospital Name\n",
    "* Composite key: Zip code + address"
   ]
  },
  {
   "cell_type": "code",
   "execution_count": 19,
   "metadata": {},
   "outputs": [
    {
     "data": {
      "text/plain": [
       "138"
      ]
     },
     "execution_count": 19,
     "metadata": {},
     "output_type": "execute_result"
    }
   ],
   "source": [
    "# Compare Hospitals Names Lists for California\n",
    "esri_list = hosp_request_result['hospital_name'].unique().tolist()\n",
    "staff_list = staff_request_result['hospital_name'].unique().tolist()\n",
    "esri_upper_list = []\n",
    "[esri_upper_list.append(i.upper()) for i in esri_list]\n",
    "hopsitals_list = []\n",
    "[hopsitals_list.append(name)for name in staff_list if name in esri_upper_list]\n",
    "len(hopsitals_list)"
   ]
  },
  {
   "cell_type": "code",
   "execution_count": 20,
   "metadata": {},
   "outputs": [
    {
     "data": {
      "text/plain": [
       "266"
      ]
     },
     "execution_count": 20,
     "metadata": {},
     "output_type": "execute_result"
    }
   ],
   "source": [
    "# Compare Zip Code Lists for California\n",
    "esri_zip_list = hosp_request_result['zip_code'].unique().tolist()\n",
    "staff_zip_list = staff_request_result['zip_code'].unique().tolist()\n",
    "zip_code_list = []\n",
    "[zip_code_list.append(name)for name in staff_zip_list if name in esri_zip_list]\n",
    "len(zip_code_list)"
   ]
  },
  {
   "cell_type": "code",
   "execution_count": 21,
   "metadata": {},
   "outputs": [
    {
     "data": {
      "text/plain": [
       "0"
      ]
     },
     "execution_count": 21,
     "metadata": {},
     "output_type": "execute_result"
    }
   ],
   "source": [
    "# Compare Latitude Lists for California\n",
    "esri_lat_list = hosp_request_result['lat'].unique().tolist()\n",
    "staff_lat_list = staff_request_result['lat'].unique().tolist()\n",
    "lat_list = []\n",
    "[lat_list.append(name)for name in staff_lat_list if name in esri_lat_list]\n",
    "len(lat_list)"
   ]
  },
  {
   "cell_type": "code",
   "execution_count": 25,
   "metadata": {},
   "outputs": [
    {
     "data": {
      "text/plain": [
       "[39.138805, 35.383064, 38.93619, 35.76143, 34.14951]"
      ]
     },
     "execution_count": 25,
     "metadata": {},
     "output_type": "execute_result"
    }
   ],
   "source": [
    "staff_lat_list[:5]"
   ]
  },
  {
   "cell_type": "code",
   "execution_count": 24,
   "metadata": {},
   "outputs": [
    {
     "data": {
      "text/plain": [
       "[33.84817510000005,\n",
       " 35.38337440000004,\n",
       " 38.93550000000005,\n",
       " 34.15021390000004,\n",
       " 36.32378720000003]"
      ]
     },
     "execution_count": 24,
     "metadata": {},
     "output_type": "execute_result"
    }
   ],
   "source": [
    "esri_lat_list[:5]"
   ]
  },
  {
   "cell_type": "code",
   "execution_count": null,
   "metadata": {},
   "outputs": [],
   "source": [
    "# Read Hospitals General Information\n",
    "hospitals_info = pd.read_csv('Resources/Hospital_General_Information.csv')\n",
    "hospitals_info = hospitals_info.filter(['Facility ID', 'Facility Name', 'State', 'ZIP Code', 'Hospital Ownership'])\n",
    "hospitals_info = hospitals_info.rename(columns={\n",
    "                                        'Facility ID': 'facility_id', 'Facility Name': 'hospital_name',\n",
    "                                        'State':'state_name', 'ZIP Code': 'zip_code', 'Hospital Ownership': 'ownership'})\n",
    "hospitals_info.set_index(\"facility_id\", inplace=True)\n",
    "hospitals_info = hospitals_info.sort_values('hospital_name')\n",
    "# hospitals_info.head()"
   ]
  },
  {
   "cell_type": "code",
   "execution_count": null,
   "metadata": {},
   "outputs": [],
   "source": [
    "# Read Hospitals Profitability Information\n",
    "hospitals_finance = pd.read_csv('Resources/hospital-profitability-2009-2013-.csv')\n",
    "hospitals_finance = hospitals_finance.filter(['Facility Number', 'Facility Name', 'Year', 'County Name',\n",
    "                                              'Income Statement Amount', 'Amount per Adjusted Patient Day'])\n",
    "hospitals_finance = hospitals_finance.rename(columns={\n",
    "                                        'Facility Number': 'facility_num', 'Facility Name': 'hospital_name',\n",
    "                                        'Year': 'year', 'County Name':'county_name', \n",
    "                                        'Income Statement Amount': 'total_income',\n",
    "                                        'Amount per Adjusted Patient Day': 'adj_patient_income'})\n",
    "hospitals_finance.set_index(\"facility_num\", inplace=True)\n",
    "hospitals_finance = hospitals_finance.sort_values('hospital_name')\n",
    "# hospitals_finance"
   ]
  },
  {
   "cell_type": "code",
   "execution_count": null,
   "metadata": {},
   "outputs": [],
   "source": [
    "# Read Hospitals Insuarance Info\n",
    "hospitals_insuarance = pd.read_csv('Resources/healthcare_census.csv')\n",
    "hospitals_insuarance = hospitals_insuarance.filter(['Provider Id', 'Provider Name', 'Provider Zip Code',\n",
    "                                              'Average Covered Charges', 'Average Total Payments'])\n",
    "hospitals_insuarance = hospitals_insuarance.rename(columns={\n",
    "                                        'Provider Id': 'provider_id', 'Provider Name': 'hospital_name',\n",
    "                                        'Provider Zip Code': 'zip_code', 'Average Covered Charges': 'avg_cov_charges',\n",
    "                                        'Average Total Payments': 'avg_tot_payments'})\n",
    "hospitals_insuarance.set_index(\"provider_id\", inplace=True)\n",
    "hospitals_insuarance = hospitals_insuarance.sort_values('hospital_name')\n",
    "# hospitals_insuarance.head()"
   ]
  },
  {
   "cell_type": "markdown",
   "metadata": {},
   "source": [
    "* Overall, normalization requires more time and resources\n",
    "* Keep looking for alternative solutions"
   ]
  },
  {
   "cell_type": "markdown",
   "metadata": {},
   "source": [
    "#### Database Updating Grop Work"
   ]
  },
  {
   "cell_type": "code",
   "execution_count": null,
   "metadata": {},
   "outputs": [],
   "source": [
    "# Load US hospitals info\n",
    "# hospitals_info.to_sql(name='hospitals_info', con=engine, if_exists='append', index=True)"
   ]
  },
  {
   "cell_type": "code",
   "execution_count": null,
   "metadata": {},
   "outputs": [],
   "source": [
    "# Load US hospitals_staff\n",
    "# hospitals_insuarance.to_sql(name='hospitals_insuarance', con=engine, if_exists='append', index=True)"
   ]
  }
 ],
 "metadata": {
  "kernelspec": {
   "display_name": "Python 3",
   "language": "python",
   "name": "python3"
  },
  "language_info": {
   "codemirror_mode": {
    "name": "ipython",
    "version": 3
   },
   "file_extension": ".py",
   "mimetype": "text/x-python",
   "name": "python",
   "nbconvert_exporter": "python",
   "pygments_lexer": "ipython3",
   "version": "3.8.2"
  }
 },
 "nbformat": 4,
 "nbformat_minor": 4
}
